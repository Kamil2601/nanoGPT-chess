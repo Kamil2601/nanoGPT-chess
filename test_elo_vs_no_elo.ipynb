{
 "cells": [
  {
   "cell_type": "code",
   "execution_count": 16,
   "metadata": {},
   "outputs": [],
   "source": [
    "import pandas as pd\n",
    "import matplotlib.pyplot as plt\n",
    "from data_process import tokenizers, utils\n",
    "from nanoGPT.model import  GPT, GPTConfig\n",
    "from lightning_training import LightningGPT, GamesDataModule, GamesDataset\n",
    "import pytorch_lightning as pl\n",
    "import torch"
   ]
  },
  {
   "cell_type": "code",
   "execution_count": 30,
   "metadata": {},
   "outputs": [],
   "source": [
    "headers = [\"index\", \"id\", \"date\", \"white_elo\", \"black_elo\", \"result\", \"ply\", \"ply_30s\", \"piece_uci\"]\n",
    "\n",
    "df = pd.read_csv(\"./data/csv/test.csv\", delimiter=\";\", header=None, names=headers)\n",
    "\n",
    "avg_elo = (df[\"white_elo\"] + df[\"black_elo\"]) / 2\n",
    "df[\"avg_elo\"] = avg_elo"
   ]
  },
  {
   "cell_type": "code",
   "execution_count": 31,
   "metadata": {},
   "outputs": [
    {
     "data": {
      "image/png": "[encoded data removed]",
      "text/plain": [
       "<Figure size 640x480 with 1 Axes>"
      ]
     },
     "metadata": {},
     "output_type": "display_data"
    }
   ],
   "source": [
    "plt.hist(df.avg_elo, bins=100)\n",
    "plt.show()"
   ]
  },
  {
   "cell_type": "code",
   "execution_count": 32,
   "metadata": {},
   "outputs": [],
   "source": [
    "# df = df[df.avg_elo > 2500]"
   ]
  },
  {
   "cell_type": "code",
   "execution_count": null,
   "metadata": {},
   "outputs": [
    {
     "data": {
      "text/html": [
       "<div>\n",
       "<style scoped>\n",
       "    .dataframe tbody tr th:only-of-type {\n",
       "        vertical-align: middle;\n",
       "    }\n",
       "\n",
       "    .dataframe tbody tr th {\n",
       "        vertical-align: top;\n",
       "    }\n",
       "\n",
       "    .dataframe thead th {\n",
       "        text-align: right;\n",
       "    }\n",
       "</style>\n",
       "<table border=\"1\" class=\"dataframe\">\n",
       "  <thead>\n",
       "    <tr style=\"text-align: right;\">\n",
       "      <th></th>\n",
       "      <th>index</th>\n",
       "      <th>id</th>\n",
       "      <th>date</th>\n",
       "      <th>white_elo</th>\n",
       "      <th>black_elo</th>\n",
       "      <th>result</th>\n",
       "      <th>ply</th>\n",
       "      <th>ply_30s</th>\n",
       "      <th>piece_uci</th>\n",
       "      <th>avg_elo</th>\n",
       "    </tr>\n",
       "  </thead>\n",
       "  <tbody>\n",
       "    <tr>\n",
       "      <th>0</th>\n",
       "      <td>9865748</td>\n",
       "      <td>QjOBZIh0</td>\n",
       "      <td>2024.12.04</td>\n",
       "      <td>1744</td>\n",
       "      <td>1697</td>\n",
       "      <td>0-1</td>\n",
       "      <td>46</td>\n",
       "      <td>-1</td>\n",
       "      <td>Pe2e4 Pe7e6 Pd2d4 Pd7d5 Pe4d5 Pe6d5 Ng1f3 Ng8f...</td>\n",
       "      <td>1720.5</td>\n",
       "    </tr>\n",
       "    <tr>\n",
       "      <th>1</th>\n",
       "      <td>9865750</td>\n",
       "      <td>feY65TOZ</td>\n",
       "      <td>2024.12.04</td>\n",
       "      <td>3044</td>\n",
       "      <td>2990</td>\n",
       "      <td>1/2-1/2</td>\n",
       "      <td>148</td>\n",
       "      <td>48</td>\n",
       "      <td>Pd2d3 Pd7d5 Pg2g3 Pe7e5 Bf1g2 Ng8f6 Ng1f3 Nb8c...</td>\n",
       "      <td>3017.0</td>\n",
       "    </tr>\n",
       "    <tr>\n",
       "      <th>2</th>\n",
       "      <td>9865782</td>\n",
       "      <td>fV56oIcJ</td>\n",
       "      <td>2024.12.04</td>\n",
       "      <td>1645</td>\n",
       "      <td>1693</td>\n",
       "      <td>1-0</td>\n",
       "      <td>79</td>\n",
       "      <td>21</td>\n",
       "      <td>Pd2d4 Pe7e6 Bc1f4 Ng8f6 Pe2e3 Bf8e7 Pc2c3 Nf6e...</td>\n",
       "      <td>1669.0</td>\n",
       "    </tr>\n",
       "    <tr>\n",
       "      <th>3</th>\n",
       "      <td>9865783</td>\n",
       "      <td>TT8TVcp1</td>\n",
       "      <td>2024.12.04</td>\n",
       "      <td>1607</td>\n",
       "      <td>1599</td>\n",
       "      <td>1-0</td>\n",
       "      <td>63</td>\n",
       "      <td>-1</td>\n",
       "      <td>Pe2e4 Pe7e5 Ng1f3 Pd7d6 Pc2c3 Nb8c6 Pd2d4 Pf7f...</td>\n",
       "      <td>1603.0</td>\n",
       "    </tr>\n",
       "    <tr>\n",
       "      <th>4</th>\n",
       "      <td>9865784</td>\n",
       "      <td>Bn0SM1cs</td>\n",
       "      <td>2024.12.04</td>\n",
       "      <td>2326</td>\n",
       "      <td>2368</td>\n",
       "      <td>1-0</td>\n",
       "      <td>37</td>\n",
       "      <td>-1</td>\n",
       "      <td>Pg2g3 Ng8f6 Bf1g2 Pe7e5 Pd2d3 Pd7d6 Nb1d2 Nb8d...</td>\n",
       "      <td>2347.0</td>\n",
       "    </tr>\n",
       "    <tr>\n",
       "      <th>...</th>\n",
       "      <td>...</td>\n",
       "      <td>...</td>\n",
       "      <td>...</td>\n",
       "      <td>...</td>\n",
       "      <td>...</td>\n",
       "      <td>...</td>\n",
       "      <td>...</td>\n",
       "      <td>...</td>\n",
       "      <td>...</td>\n",
       "      <td>...</td>\n",
       "    </tr>\n",
       "    <tr>\n",
       "      <th>99995</th>\n",
       "      <td>10027123</td>\n",
       "      <td>AoDN4eTI</td>\n",
       "      <td>2024.12.04</td>\n",
       "      <td>960</td>\n",
       "      <td>1009</td>\n",
       "      <td>1-0</td>\n",
       "      <td>27</td>\n",
       "      <td>-1</td>\n",
       "      <td>Pe2e4 Pe7e5 Pd2d4 Pd7d6 Ng1f3 Ng8f6 Pd4e5 Pd6e...</td>\n",
       "      <td>984.5</td>\n",
       "    </tr>\n",
       "    <tr>\n",
       "      <th>99996</th>\n",
       "      <td>10027124</td>\n",
       "      <td>XLKZ0rGS</td>\n",
       "      <td>2024.12.04</td>\n",
       "      <td>1154</td>\n",
       "      <td>1037</td>\n",
       "      <td>1-0</td>\n",
       "      <td>99</td>\n",
       "      <td>93</td>\n",
       "      <td>Pe2e4 Pd7d5 Pe4e5 Pe7e6 Pd2d4 Nb8c6 Ng1f3 Ng8e...</td>\n",
       "      <td>1095.5</td>\n",
       "    </tr>\n",
       "    <tr>\n",
       "      <th>99997</th>\n",
       "      <td>10027125</td>\n",
       "      <td>bbadMpMs</td>\n",
       "      <td>2024.12.04</td>\n",
       "      <td>1505</td>\n",
       "      <td>1539</td>\n",
       "      <td>0-1</td>\n",
       "      <td>34</td>\n",
       "      <td>-1</td>\n",
       "      <td>Pe2e4 Pe7e5 Ng1f3 Pd7d6 Ph2h3 Pa7a6 Bf1c4 Nb8c...</td>\n",
       "      <td>1522.0</td>\n",
       "    </tr>\n",
       "    <tr>\n",
       "      <th>99998</th>\n",
       "      <td>10027126</td>\n",
       "      <td>p20vlsiK</td>\n",
       "      <td>2024.12.04</td>\n",
       "      <td>1908</td>\n",
       "      <td>2058</td>\n",
       "      <td>0-1</td>\n",
       "      <td>130</td>\n",
       "      <td>-1</td>\n",
       "      <td>Pd2d4 Pd7d5 Pc2c4 Pe7e6 Pe2e3 Ng8f6 Ng1f3 Bf8b...</td>\n",
       "      <td>1983.0</td>\n",
       "    </tr>\n",
       "    <tr>\n",
       "      <th>99999</th>\n",
       "      <td>10027127</td>\n",
       "      <td>n43qnlUY</td>\n",
       "      <td>2024.12.04</td>\n",
       "      <td>2246</td>\n",
       "      <td>2258</td>\n",
       "      <td>0-1</td>\n",
       "      <td>52</td>\n",
       "      <td>-1</td>\n",
       "      <td>Pd2d4 Ng8f6 Pc2c4 Pe7e6 Ng1f3 Pd7d5 Pe2e3 Nb8d...</td>\n",
       "      <td>2252.0</td>\n",
       "    </tr>\n",
       "  </tbody>\n",
       "</table>\n",
       "<p>100000 rows × 10 columns</p>\n",
       "</div>"
      ],
      "text/plain": [
       "          index        id        date  white_elo  black_elo   result  ply  \\\n",
       "0       9865748  QjOBZIh0  2024.12.04       1744       1697      0-1   46   \n",
       "1       9865750  feY65TOZ  2024.12.04       3044       2990  1/2-1/2  148   \n",
       "2       9865782  fV56oIcJ  2024.12.04       1645       1693      1-0   79   \n",
       "3       9865783  TT8TVcp1  2024.12.04       1607       1599      1-0   63   \n",
       "4       9865784  Bn0SM1cs  2024.12.04       2326       2368      1-0   37   \n",
       "...         ...       ...         ...        ...        ...      ...  ...   \n",
       "99995  10027123  AoDN4eTI  2024.12.04        960       1009      1-0   27   \n",
       "99996  10027124  XLKZ0rGS  2024.12.04       1154       1037      1-0   99   \n",
       "99997  10027125  bbadMpMs  2024.12.04       1505       1539      0-1   34   \n",
       "99998  10027126  p20vlsiK  2024.12.04       1908       2058      0-1  130   \n",
       "99999  10027127  n43qnlUY  2024.12.04       2246       2258      0-1   52   \n",
       "\n",
       "       ply_30s                                          piece_uci  avg_elo  \n",
       "0           -1  Pe2e4 Pe7e6 Pd2d4 Pd7d5 Pe4d5 Pe6d5 Ng1f3 Ng8f...   1720.5  \n",
       "1           48  Pd2d3 Pd7d5 Pg2g3 Pe7e5 Bf1g2 Ng8f6 Ng1f3 Nb8c...   3017.0  \n",
       "2           21  Pd2d4 Pe7e6 Bc1f4 Ng8f6 Pe2e3 Bf8e7 Pc2c3 Nf6e...   1669.0  \n",
       "3           -1  Pe2e4 Pe7e5 Ng1f3 Pd7d6 Pc2c3 Nb8c6 Pd2d4 Pf7f...   1603.0  \n",
       "4           -1  Pg2g3 Ng8f6 Bf1g2 Pe7e5 Pd2d3 Pd7d6 Nb1d2 Nb8d...   2347.0  \n",
       "...        ...                                                ...      ...  \n",
       "99995       -1  Pe2e4 Pe7e5 Pd2d4 Pd7d6 Ng1f3 Ng8f6 Pd4e5 Pd6e...    984.5  \n",
       "99996       93  Pe2e4 Pd7d5 Pe4e5 Pe7e6 Pd2d4 Nb8c6 Ng1f3 Ng8e...   1095.5  \n",
       "99997       -1  Pe2e4 Pe7e5 Ng1f3 Pd7d6 Ph2h3 Pa7a6 Bf1c4 Nb8c...   1522.0  \n",
       "99998       -1  Pd2d4 Pd7d5 Pc2c4 Pe7e6 Pe2e3 Ng8f6 Ng1f3 Bf8b...   1983.0  \n",
       "99999       -1  Pd2d4 Ng8f6 Pc2c4 Pe7e6 Ng1f3 Pd7d5 Pe2e3 Nb8d...   2252.0  \n",
       "\n",
       "[100000 rows x 10 columns]"
      ]
     },
     "execution_count": 42,
     "metadata": {},
     "output_type": "execute_result"
    }
   ],
   "source": [
    "df['piece_uci'] = utils.remove_material_tokens(df.piece_uci)"
   ]
  },
  {
   "cell_type": "code",
   "execution_count": 33,
   "metadata": {},
   "outputs": [
    {
     "data": {
      "text/plain": [
       "0        Pe2e4 Pe7e6 Pd2d4 Pd7d5 Pe4d5 Pe6d5 Ng1f3 Ng8f...\n",
       "1        Pd2d3 Pd7d5 Pg2g3 Pe7e5 Bf1g2 Ng8f6 Ng1f3 Nb8c...\n",
       "2        Pd2d4 Pe7e6 Bc1f4 Ng8f6 Pe2e3 Bf8e7 Pc2c3 Nf6e...\n",
       "3        Pe2e4 Pe7e5 Ng1f3 Pd7d6 Pc2c3 Nb8c6 Pd2d4 Pf7f...\n",
       "4        Pg2g3 Ng8f6 Bf1g2 Pe7e5 Pd2d3 Pd7d6 Nb1d2 Nb8d...\n",
       "                               ...                        \n",
       "99995    Pe2e4 Pe7e5 Pd2d4 Pd7d6 Ng1f3 Ng8f6 Pd4e5 Pd6e...\n",
       "99996    Pe2e4 Pd7d5 Pe4e5 Pe7e6 Pd2d4 Nb8c6 Ng1f3 Ng8e...\n",
       "99997    Pe2e4 Pe7e5 Ng1f3 Pd7d6 Ph2h3 Pa7a6 Bf1c4 Nb8c...\n",
       "99998    Pd2d4 Pd7d5 Pc2c4 Pe7e6 Pe2e3 Ng8f6 Ng1f3 Bf8b...\n",
       "99999    Pd2d4 Ng8f6 Pc2c4 Pe7e6 Ng1f3 Pd7d5 Pe2e3 Nb8d...\n",
       "Name: piece_uci, Length: 100000, dtype: object"
      ]
     },
     "execution_count": 33,
     "metadata": {},
     "output_type": "execute_result"
    }
   ],
   "source": [
    "games = utils.remove_material_tokens(df.piece_uci)\n",
    "games"
   ]
  },
  {
   "cell_type": "code",
   "execution_count": 34,
   "metadata": {},
   "outputs": [
    {
     "data": {
      "text/plain": [
       "0        1700 1600 Pe2e4 Pe7e6 Pd2d4 Pd7d5 Pe4d5 Pe6d5 ...\n",
       "1        3000 2900 Pd2d3 Pd7d5 Pg2g3 Pe7e5 Bf1g2 Ng8f6 ...\n",
       "2        1600 1600 Pd2d4 Pe7e6 Bc1f4 Ng8f6 Pe2e3 Bf8e7 ...\n",
       "3        1600 1500 Pe2e4 Pe7e5 Ng1f3 Pd7d6 Pc2c3 Nb8c6 ...\n",
       "4        2300 2300 Pg2g3 Ng8f6 Bf1g2 Pe7e5 Pd2d3 Pd7d6 ...\n",
       "                               ...                        \n",
       "99995    900 1000 Pe2e4 Pe7e5 Pd2d4 Pd7d6 Ng1f3 Ng8f6 P...\n",
       "99996    1100 1000 Pe2e4 Pd7d5 Pe4e5 Pe7e6 Pd2d4 Nb8c6 ...\n",
       "99997    1500 1500 Pe2e4 Pe7e5 Ng1f3 Pd7d6 Ph2h3 Pa7a6 ...\n",
       "99998    1900 2000 Pd2d4 Pd7d5 Pc2c4 Pe7e6 Pe2e3 Ng8f6 ...\n",
       "99999    2200 2200 Pd2d4 Ng8f6 Pc2c4 Pe7e6 Ng1f3 Pd7d5 ...\n",
       "Length: 100000, dtype: object"
      ]
     },
     "execution_count": 34,
     "metadata": {},
     "output_type": "execute_result"
    }
   ],
   "source": [
    "games_with_elo = utils.add_elo_token_to_games(games, df.white_elo, df.black_elo)\n",
    "games_with_elo"
   ]
  },
  {
   "cell_type": "code",
   "execution_count": 35,
   "metadata": {},
   "outputs": [
    {
     "data": {
      "text/plain": [
       "0        [UNK_ELO] [UNK_ELO] Pe2e4 Pe7e6 Pd2d4 Pd7d5 Pe...\n",
       "1        [UNK_ELO] [UNK_ELO] Pd2d3 Pd7d5 Pg2g3 Pe7e5 Bf...\n",
       "2        [UNK_ELO] [UNK_ELO] Pd2d4 Pe7e6 Bc1f4 Ng8f6 Pe...\n",
       "3        [UNK_ELO] [UNK_ELO] Pe2e4 Pe7e5 Ng1f3 Pd7d6 Pc...\n",
       "4        [UNK_ELO] [UNK_ELO] Pg2g3 Ng8f6 Bf1g2 Pe7e5 Pd...\n",
       "                               ...                        \n",
       "99995    [UNK_ELO] [UNK_ELO] Pe2e4 Pe7e5 Pd2d4 Pd7d6 Ng...\n",
       "99996    [UNK_ELO] [UNK_ELO] Pe2e4 Pd7d5 Pe4e5 Pe7e6 Pd...\n",
       "99997    [UNK_ELO] [UNK_ELO] Pe2e4 Pe7e5 Ng1f3 Pd7d6 Ph...\n",
       "99998    [UNK_ELO] [UNK_ELO] Pd2d4 Pd7d5 Pc2c4 Pe7e6 Pe...\n",
       "99999    [UNK_ELO] [UNK_ELO] Pd2d4 Ng8f6 Pc2c4 Pe7e6 Ng...\n",
       "Name: piece_uci, Length: 100000, dtype: object"
      ]
     },
     "execution_count": 35,
     "metadata": {},
     "output_type": "execute_result"
    }
   ],
   "source": [
    "tokenizer = tokenizers.FullMoveTokenizerWithElo()\n",
    "games_without_elo = tokenizer.unk_elo_token + \" \" + tokenizer.unk_elo_token + \" \" + games\n",
    "games_without_elo"
   ]
  },
  {
   "cell_type": "code",
   "execution_count": 36,
   "metadata": {},
   "outputs": [],
   "source": [
    "elo_data_module = GamesDataModule(test_games=list(games_with_elo), tokenizer=tokenizer, num_workers=8)\n",
    "no_elo_data_module = GamesDataModule(test_games=list(games_without_elo), tokenizer=tokenizer, num_workers=8)"
   ]
  },
  {
   "cell_type": "code",
   "execution_count": 37,
   "metadata": {},
   "outputs": [
    {
     "name": "stdout",
     "output_type": "stream",
     "text": [
      "number of parameters: 27.29M\n",
      "number of parameters: 27.29M\n"
     ]
    }
   ],
   "source": [
    "model_config = GPTConfig(\n",
    "    block_size=302,\n",
    "    vocab_size=tokenizer.vocab_size,\n",
    "    n_layer=8,\n",
    "    n_head=8,\n",
    "    n_embd=512,\n",
    "    bias=False,\n",
    ")\n",
    "\n",
    "elo_checkpoint = \"./models/elo_training/epoch=4-step=468740.ckpt\"\n",
    "no_elo_checkpoint = \"./models/no_elo_training/epoch=4-step=468740.ckpt\"\n",
    "\n",
    "test_start_token = 1\n",
    "\n",
    "elo_model = LightningGPT.load_from_checkpoint(elo_checkpoint, config=model_config, test_start_token=test_start_token)\n",
    "no_elo_model = LightningGPT.load_from_checkpoint(no_elo_checkpoint, config=model_config, test_start_token=test_start_token)"
   ]
  },
  {
   "cell_type": "code",
   "execution_count": 38,
   "metadata": {},
   "outputs": [
    {
     "name": "stderr",
     "output_type": "stream",
     "text": [
      "Using bfloat16 Automatic Mixed Precision (AMP)\n",
      "GPU available: True (cuda), used: True\n",
      "TPU available: False, using: 0 TPU cores\n",
      "HPU available: False, using: 0 HPUs\n"
     ]
    }
   ],
   "source": [
    "trainer = pl.Trainer(\n",
    "    accelerator=\"gpu\",\n",
    "    max_epochs=10,\n",
    "    callbacks=[pl.callbacks.RichProgressBar()],\n",
    "    precision=\"bf16-mixed\",\n",
    ")\n",
    "torch.set_float32_matmul_precision('high')"
   ]
  },
  {
   "cell_type": "code",
   "execution_count": 39,
   "metadata": {},
   "outputs": [
    {
     "name": "stderr",
     "output_type": "stream",
     "text": [
      "LOCAL_RANK: 0 - CUDA_VISIBLE_DEVICES: [0]\n"
     ]
    },
    {
     "data": {
      "application/vnd.jupyter.widget-view+json": {
       "model_id": "4110a1f35d744a77b00f992aaa90048d",
       "version_major": 2,
       "version_minor": 0
      },
      "text/plain": [
       "Output()"
      ]
     },
     "metadata": {},
     "output_type": "display_data"
    },
    {
     "data": {
      "text/html": [
       "<pre style=\"white-space:pre;overflow-x:auto;line-height:normal;font-family:Menlo,'DejaVu Sans Mono',consolas,'Courier New',monospace\">┏━━━━━━━━━━━━━━━━━━━━━━━━━━━┳━━━━━━━━━━━━━━━━━━━━━━━━━━━┓\n",
       "┃<span style=\"font-weight: bold\">        Test metric        </span>┃<span style=\"font-weight: bold\">       DataLoader 0        </span>┃\n",
       "┡━━━━━━━━━━━━━━━━━━━━━━━━━━━╇━━━━━━━━━━━━━━━━━━━━━━━━━━━┩\n",
       "│<span style=\"color: #008080; text-decoration-color: #008080\">         test_acc          </span>│<span style=\"color: #800080; text-decoration-color: #800080\">    0.49848422408103943    </span>│\n",
       "│<span style=\"color: #008080; text-decoration-color: #008080\">         test_loss         </span>│<span style=\"color: #800080; text-decoration-color: #800080\">    1.5753401517868042     </span>│\n",
       "└───────────────────────────┴───────────────────────────┘\n",
       "</pre>\n"
      ],
      "text/plain": [
       "┏━━━━━━━━━━━━━━━━━━━━━━━━━━━┳━━━━━━━━━━━━━━━━━━━━━━━━━━━┓\n",
       "┃\u001b[1m \u001b[0m\u001b[1m       Test metric       \u001b[0m\u001b[1m \u001b[0m┃\u001b[1m \u001b[0m\u001b[1m      DataLoader 0       \u001b[0m\u001b[1m \u001b[0m┃\n",
       "┡━━━━━━━━━━━━━━━━━━━━━━━━━━━╇━━━━━━━━━━━━━━━━━━━━━━━━━━━┩\n",
       "│\u001b[36m \u001b[0m\u001b[36m        test_acc         \u001b[0m\u001b[36m \u001b[0m│\u001b[35m \u001b[0m\u001b[35m   0.49848422408103943   \u001b[0m\u001b[35m \u001b[0m│\n",
       "│\u001b[36m \u001b[0m\u001b[36m        test_loss        \u001b[0m\u001b[36m \u001b[0m│\u001b[35m \u001b[0m\u001b[35m   1.5753401517868042    \u001b[0m\u001b[35m \u001b[0m│\n",
       "└───────────────────────────┴───────────────────────────┘\n"
      ]
     },
     "metadata": {},
     "output_type": "display_data"
    },
    {
     "data": {
      "text/html": [
       "<pre style=\"white-space:pre;overflow-x:auto;line-height:normal;font-family:Menlo,'DejaVu Sans Mono',consolas,'Courier New',monospace\"></pre>\n"
      ],
      "text/plain": []
     },
     "metadata": {},
     "output_type": "display_data"
    },
    {
     "data": {
      "text/plain": [
       "[{'test_loss': 1.5753401517868042, 'test_acc': 0.49848422408103943}]"
      ]
     },
     "execution_count": 39,
     "metadata": {},
     "output_type": "execute_result"
    }
   ],
   "source": [
    "trainer.test(elo_model, datamodule=elo_data_module)"
   ]
  },
  {
   "cell_type": "code",
   "execution_count": 40,
   "metadata": {},
   "outputs": [
    {
     "name": "stderr",
     "output_type": "stream",
     "text": [
      "LOCAL_RANK: 0 - CUDA_VISIBLE_DEVICES: [0]\n"
     ]
    },
    {
     "data": {
      "application/vnd.jupyter.widget-view+json": {
       "model_id": "706ff0a4450e4f8888fc36e405b4be6d",
       "version_major": 2,
       "version_minor": 0
      },
      "text/plain": [
       "Output()"
      ]
     },
     "metadata": {},
     "output_type": "display_data"
    },
    {
     "data": {
      "text/html": [
       "<pre style=\"white-space:pre;overflow-x:auto;line-height:normal;font-family:Menlo,'DejaVu Sans Mono',consolas,'Courier New',monospace\">┏━━━━━━━━━━━━━━━━━━━━━━━━━━━┳━━━━━━━━━━━━━━━━━━━━━━━━━━━┓\n",
       "┃<span style=\"font-weight: bold\">        Test metric        </span>┃<span style=\"font-weight: bold\">       DataLoader 0        </span>┃\n",
       "┡━━━━━━━━━━━━━━━━━━━━━━━━━━━╇━━━━━━━━━━━━━━━━━━━━━━━━━━━┩\n",
       "│<span style=\"color: #008080; text-decoration-color: #008080\">         test_acc          </span>│<span style=\"color: #800080; text-decoration-color: #800080\">    0.49599578976631165    </span>│\n",
       "│<span style=\"color: #008080; text-decoration-color: #008080\">         test_loss         </span>│<span style=\"color: #800080; text-decoration-color: #800080\">    1.5673227310180664     </span>│\n",
       "└───────────────────────────┴───────────────────────────┘\n",
       "</pre>\n"
      ],
      "text/plain": [
       "┏━━━━━━━━━━━━━━━━━━━━━━━━━━━┳━━━━━━━━━━━━━━━━━━━━━━━━━━━┓\n",
       "┃\u001b[1m \u001b[0m\u001b[1m       Test metric       \u001b[0m\u001b[1m \u001b[0m┃\u001b[1m \u001b[0m\u001b[1m      DataLoader 0       \u001b[0m\u001b[1m \u001b[0m┃\n",
       "┡━━━━━━━━━━━━━━━━━━━━━━━━━━━╇━━━━━━━━━━━━━━━━━━━━━━━━━━━┩\n",
       "│\u001b[36m \u001b[0m\u001b[36m        test_acc         \u001b[0m\u001b[36m \u001b[0m│\u001b[35m \u001b[0m\u001b[35m   0.49599578976631165   \u001b[0m\u001b[35m \u001b[0m│\n",
       "│\u001b[36m \u001b[0m\u001b[36m        test_loss        \u001b[0m\u001b[36m \u001b[0m│\u001b[35m \u001b[0m\u001b[35m   1.5673227310180664    \u001b[0m\u001b[35m \u001b[0m│\n",
       "└───────────────────────────┴───────────────────────────┘\n"
      ]
     },
     "metadata": {},
     "output_type": "display_data"
    },
    {
     "data": {
      "text/html": [
       "<pre style=\"white-space:pre;overflow-x:auto;line-height:normal;font-family:Menlo,'DejaVu Sans Mono',consolas,'Courier New',monospace\"></pre>\n"
      ],
      "text/plain": []
     },
     "metadata": {},
     "output_type": "display_data"
    },
    {
     "data": {
      "text/plain": [
       "[{'test_loss': 1.5673227310180664, 'test_acc': 0.49599578976631165}]"
      ]
     },
     "execution_count": 40,
     "metadata": {},
     "output_type": "execute_result"
    }
   ],
   "source": [
    "trainer.test(no_elo_model, datamodule=no_elo_data_module)"
   ]
  },
  {
   "cell_type": "code",
   "execution_count": null,
   "metadata": {},
   "outputs": [],
   "source": [
    "elo_acc = {}\n",
    "no_elo_acc = {}\n",
    "\n",
    "for elo in range(500, 3001, 100):\n",
    "    df_elo = df[(df.avg_elo >= elo) & (df.avg_elo < elo + 100)]\n",
    "    games = df_elo.piece_uci\n",
    "    games_with_elo = utils.add_elo_token_to_games(games, df_elo.white_elo, df_elo.black_elo)\n",
    "    games_without_elo = tokenizer.unk_elo_token + \" \" + tokenizer.unk_elo_token + \" \" + games\n",
    "\n",
    "    elo_data_module = GamesDataModule(test_games=list(games_with_elo), tokenizer=tokenizer, num_workers=8)\n",
    "    no_elo_data_module = GamesDataModule(test_games=list(games_without_elo), tokenizer=tokenizer, num_workers=8)\n",
    "\n",
    "    elo_test = trainer.test(elo_model, datamodule=elo_data_module, verbose=False)\n",
    "    no_elo_test = trainer.test(no_elo_model, datamodule=no_elo_data_module, verbose=False)\n",
    "\n",
    "    elo_acc[elo] = elo_test[0][\"test_acc\"]\n",
    "    no_elo_acc[elo] = no_elo_test[0][\"test_acc\"]\n"
   ]
  },
  {
   "cell_type": "code",
   "execution_count": 55,
   "metadata": {},
   "outputs": [
    {
     "data": {
      "image/png": "[encoded data removed]",
      "text/plain": [
       "<Figure size 640x480 with 1 Axes>"
      ]
     },
     "metadata": {},
     "output_type": "display_data"
    }
   ],
   "source": [
    "plt.plot(elo_acc.keys(), elo_acc.values(), label=\"Elo\")\n",
    "plt.plot(no_elo_acc.keys(), no_elo_acc.values(), label=\"No Elo\")\n",
    "plt.legend()\n",
    "plt.grid()\n",
    "plt.xlabel(\"Elo\")\n",
    "plt.ylabel(\"Accuracy\")\n",
    "plt.show()"
   ]
  },
  {
   "cell_type": "code",
   "execution_count": 57,
   "metadata": {},
   "outputs": [
    {
     "data": {
      "text/html": [
       "<div>\n",
       "<style scoped>\n",
       "    .dataframe tbody tr th:only-of-type {\n",
       "        vertical-align: middle;\n",
       "    }\n",
       "\n",
       "    .dataframe tbody tr th {\n",
       "        vertical-align: top;\n",
       "    }\n",
       "\n",
       "    .dataframe thead th {\n",
       "        text-align: right;\n",
       "    }\n",
       "</style>\n",
       "<table border=\"1\" class=\"dataframe\">\n",
       "  <thead>\n",
       "    <tr style=\"text-align: right;\">\n",
       "      <th></th>\n",
       "      <th>elo</th>\n",
       "      <th>elo_acc</th>\n",
       "      <th>no_elo_acc</th>\n",
       "    </tr>\n",
       "  </thead>\n",
       "  <tbody>\n",
       "    <tr>\n",
       "      <th>0</th>\n",
       "      <td>500</td>\n",
       "      <td>0.420400</td>\n",
       "      <td>0.413365</td>\n",
       "    </tr>\n",
       "    <tr>\n",
       "      <th>1</th>\n",
       "      <td>600</td>\n",
       "      <td>0.419760</td>\n",
       "      <td>0.410430</td>\n",
       "    </tr>\n",
       "    <tr>\n",
       "      <th>2</th>\n",
       "      <td>700</td>\n",
       "      <td>0.439564</td>\n",
       "      <td>0.433882</td>\n",
       "    </tr>\n",
       "    <tr>\n",
       "      <th>3</th>\n",
       "      <td>800</td>\n",
       "      <td>0.458205</td>\n",
       "      <td>0.453732</td>\n",
       "    </tr>\n",
       "    <tr>\n",
       "      <th>4</th>\n",
       "      <td>900</td>\n",
       "      <td>0.470823</td>\n",
       "      <td>0.466878</td>\n",
       "    </tr>\n",
       "    <tr>\n",
       "      <th>5</th>\n",
       "      <td>1000</td>\n",
       "      <td>0.483187</td>\n",
       "      <td>0.480552</td>\n",
       "    </tr>\n",
       "    <tr>\n",
       "      <th>6</th>\n",
       "      <td>1100</td>\n",
       "      <td>0.492062</td>\n",
       "      <td>0.488795</td>\n",
       "    </tr>\n",
       "    <tr>\n",
       "      <th>7</th>\n",
       "      <td>1200</td>\n",
       "      <td>0.493298</td>\n",
       "      <td>0.491815</td>\n",
       "    </tr>\n",
       "    <tr>\n",
       "      <th>8</th>\n",
       "      <td>1300</td>\n",
       "      <td>0.494608</td>\n",
       "      <td>0.494598</td>\n",
       "    </tr>\n",
       "    <tr>\n",
       "      <th>9</th>\n",
       "      <td>1400</td>\n",
       "      <td>0.498114</td>\n",
       "      <td>0.496090</td>\n",
       "    </tr>\n",
       "    <tr>\n",
       "      <th>10</th>\n",
       "      <td>1500</td>\n",
       "      <td>0.501504</td>\n",
       "      <td>0.500585</td>\n",
       "    </tr>\n",
       "    <tr>\n",
       "      <th>11</th>\n",
       "      <td>1600</td>\n",
       "      <td>0.504494</td>\n",
       "      <td>0.502487</td>\n",
       "    </tr>\n",
       "    <tr>\n",
       "      <th>12</th>\n",
       "      <td>1700</td>\n",
       "      <td>0.503706</td>\n",
       "      <td>0.502166</td>\n",
       "    </tr>\n",
       "    <tr>\n",
       "      <th>13</th>\n",
       "      <td>1800</td>\n",
       "      <td>0.504672</td>\n",
       "      <td>0.502317</td>\n",
       "    </tr>\n",
       "    <tr>\n",
       "      <th>14</th>\n",
       "      <td>1900</td>\n",
       "      <td>0.506168</td>\n",
       "      <td>0.504428</td>\n",
       "    </tr>\n",
       "    <tr>\n",
       "      <th>15</th>\n",
       "      <td>2000</td>\n",
       "      <td>0.503910</td>\n",
       "      <td>0.499970</td>\n",
       "    </tr>\n",
       "    <tr>\n",
       "      <th>16</th>\n",
       "      <td>2100</td>\n",
       "      <td>0.504429</td>\n",
       "      <td>0.498526</td>\n",
       "    </tr>\n",
       "    <tr>\n",
       "      <th>17</th>\n",
       "      <td>2200</td>\n",
       "      <td>0.505520</td>\n",
       "      <td>0.497283</td>\n",
       "    </tr>\n",
       "    <tr>\n",
       "      <th>18</th>\n",
       "      <td>2300</td>\n",
       "      <td>0.499754</td>\n",
       "      <td>0.489479</td>\n",
       "    </tr>\n",
       "    <tr>\n",
       "      <th>19</th>\n",
       "      <td>2400</td>\n",
       "      <td>0.489552</td>\n",
       "      <td>0.478209</td>\n",
       "    </tr>\n",
       "    <tr>\n",
       "      <th>20</th>\n",
       "      <td>2500</td>\n",
       "      <td>0.490192</td>\n",
       "      <td>0.471752</td>\n",
       "    </tr>\n",
       "    <tr>\n",
       "      <th>21</th>\n",
       "      <td>2600</td>\n",
       "      <td>0.488372</td>\n",
       "      <td>0.473373</td>\n",
       "    </tr>\n",
       "    <tr>\n",
       "      <th>22</th>\n",
       "      <td>2700</td>\n",
       "      <td>0.438008</td>\n",
       "      <td>0.430894</td>\n",
       "    </tr>\n",
       "    <tr>\n",
       "      <th>23</th>\n",
       "      <td>2800</td>\n",
       "      <td>0.407148</td>\n",
       "      <td>0.375291</td>\n",
       "    </tr>\n",
       "    <tr>\n",
       "      <th>24</th>\n",
       "      <td>2900</td>\n",
       "      <td>0.372654</td>\n",
       "      <td>0.371314</td>\n",
       "    </tr>\n",
       "    <tr>\n",
       "      <th>25</th>\n",
       "      <td>3000</td>\n",
       "      <td>0.414802</td>\n",
       "      <td>0.401606</td>\n",
       "    </tr>\n",
       "  </tbody>\n",
       "</table>\n",
       "</div>"
      ],
      "text/plain": [
       "     elo   elo_acc  no_elo_acc\n",
       "0    500  0.420400    0.413365\n",
       "1    600  0.419760    0.410430\n",
       "2    700  0.439564    0.433882\n",
       "3    800  0.458205    0.453732\n",
       "4    900  0.470823    0.466878\n",
       "5   1000  0.483187    0.480552\n",
       "6   1100  0.492062    0.488795\n",
       "7   1200  0.493298    0.491815\n",
       "8   1300  0.494608    0.494598\n",
       "9   1400  0.498114    0.496090\n",
       "10  1500  0.501504    0.500585\n",
       "11  1600  0.504494    0.502487\n",
       "12  1700  0.503706    0.502166\n",
       "13  1800  0.504672    0.502317\n",
       "14  1900  0.506168    0.504428\n",
       "15  2000  0.503910    0.499970\n",
       "16  2100  0.504429    0.498526\n",
       "17  2200  0.505520    0.497283\n",
       "18  2300  0.499754    0.489479\n",
       "19  2400  0.489552    0.478209\n",
       "20  2500  0.490192    0.471752\n",
       "21  2600  0.488372    0.473373\n",
       "22  2700  0.438008    0.430894\n",
       "23  2800  0.407148    0.375291\n",
       "24  2900  0.372654    0.371314\n",
       "25  3000  0.414802    0.401606"
      ]
     },
     "execution_count": 57,
     "metadata": {},
     "output_type": "execute_result"
    }
   ],
   "source": [
    "accuracy_df = pd.DataFrame({\"elo\": list(elo_acc.keys()), \"elo_acc\": list(elo_acc.values()), \"no_elo_acc\": list(no_elo_acc.values())})\n",
    "accuracy_df"
   ]
  }
 ],
 "metadata": {
  "kernelspec": {
   "display_name": "python",
   "language": "python",
   "name": "python3"
  },
  "language_info": {
   "codemirror_mode": {
    "name": "ipython",
    "version": 3
   },
   "file_extension": ".py",
   "mimetype": "text/x-python",
   "name": "python",
   "nbconvert_exporter": "python",
   "pygments_lexer": "ipython3",
   "version": "3.13.2"
  }
 },
 "nbformat": 4,
 "nbformat_minor": 2
}

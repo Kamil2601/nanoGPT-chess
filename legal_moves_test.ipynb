{
 "cells": [
  {
   "cell_type": "code",
   "execution_count": 1,
   "metadata": {},
   "outputs": [],
   "source": [
    "%reload_ext autoreload\n",
    "%autoreload 2"
   ]
  },
  {
   "cell_type": "code",
   "execution_count": 2,
   "metadata": {},
   "outputs": [],
   "source": [
    "from datasets import load_from_disk\n",
    "from lightning_training import *\n",
    "from data_process.tokenizers import FullMoveTokenizerNoEOS\n",
    "\n",
    "from nanoGPT.model import GPTConfig\n",
    "from lightning_training import *\n"
   ]
  },
  {
   "cell_type": "code",
   "execution_count": 37,
   "metadata": {},
   "outputs": [],
   "source": [
    "def load_model_from_checkpoint(checkpoint_path, config):\n",
    "    pl_model = LightningGPT.load_from_checkpoint(checkpoint_path, config=config)\n",
    "    model = pl_model.model.cpu()\n",
    "    model.eval()\n",
    "    return model"
   ]
  },
  {
   "cell_type": "code",
   "execution_count": 22,
   "metadata": {},
   "outputs": [],
   "source": [
    "def cut_game(row):\n",
    "    game = row['piece_uci'].split(' ')\n",
    "    cut = row['ply_30s']\n",
    "    if cut == -1:\n",
    "        return game\n",
    "    else:\n",
    "        return game[:cut]"
   ]
  },
  {
   "cell_type": "code",
   "execution_count": 42,
   "metadata": {},
   "outputs": [],
   "source": [
    "tokenizer = FullMoveTokenizerNoEOS()\n",
    "\n",
    "model_config = GPTConfig(\n",
    "    block_size=301,\n",
    "    vocab_size=len(tokenizer.vocab),\n",
    "    n_layer=4,\n",
    "    n_head=4,\n",
    "    n_embd=256,\n",
    "    bias=False,\n",
    ")"
   ]
  },
  {
   "cell_type": "code",
   "execution_count": 40,
   "metadata": {},
   "outputs": [],
   "source": [
    "games_bins = {}\n",
    "\n",
    "for elo in range(1100, 2000, 100):\n",
    "    dataset = load_from_disk(f\"./data/huggingface_datasets/elo_bins/split/elo_{elo}/test\")\n",
    "    df = dataset.to_pandas()\n",
    "    games = df.apply(cut_game, axis=1)\n",
    "    games_bins[elo] = list(games)"
   ]
  },
  {
   "cell_type": "code",
   "execution_count": 65,
   "metadata": {},
   "outputs": [],
   "source": [
    "from playing.agents import Agent, GPTNocheckAgent\n",
    "import chess\n",
    "from data_process.vocabulary import PieceMove\n",
    "from playing.testing import is_legal_move\n",
    "from tqdm import tqdm\n",
    "\n",
    "\n",
    "def legal_accuracy(agent: Agent, games):\n",
    "    illegal_moves = []\n",
    "    legal_moves = 0\n",
    "    total_moves = 0\n",
    "    for game in tqdm(games):\n",
    "        board = chess.Board()\n",
    "        for move in game:\n",
    "            agent_move = agent.play(board)\n",
    "            if is_legal_move(board, agent_move):\n",
    "                legal_moves += 1\n",
    "            else:\n",
    "                illegal_moves.append((board.fen(), agent_move))\n",
    "            total_moves += 1\n",
    "            board.push_uci(move[1:])\n",
    "    print(f\"{legal_moves} / {total_moves} = {legal_moves / total_moves}\")\n",
    "    return legal_moves / total_moves, illegal_moves"
   ]
  },
  {
   "cell_type": "code",
   "execution_count": 35,
   "metadata": {},
   "outputs": [
    {
     "data": {
      "text/plain": [
       "(True, True, True)"
      ]
     },
     "execution_count": 35,
     "metadata": {},
     "output_type": "execute_result"
    }
   ],
   "source": [
    "pm = PieceMove.from_uci('Pe2e4')\n",
    "pm.from_square == chess.E2, pm.to_square == chess.E4, pm.piece_type == chess.PAWN"
   ]
  },
  {
   "cell_type": "code",
   "execution_count": 62,
   "metadata": {},
   "outputs": [],
   "source": [
    "checkpoint_elo_1100 = \"./lightning_logs/rating_bins/elo_1100/version_3/checkpoints/epoch=9-step=937500.ckpt\"\n",
    "checkpoint_elo_1200 = \"./lightning_logs/rating_bins/elo_1200/version_0/checkpoints/epoch=9-step=937500.ckpt\"\n",
    "checkpoint_elo_1300 = \"./lightning_logs/rating_bins/elo_1300/version_3/checkpoints/epoch=9-step=937500.ckpt\"\n",
    "checkpoint_elo_1400 = \"./lightning_logs/rating_bins/elo_1400/version_2/checkpoints/epoch=9-step=937500.ckpt\"\n",
    "checkpoint_elo_1500 = \"./lightning_logs/rating_bins/elo_1500/version_1/checkpoints/epoch=9-step=937500.ckpt\"\n",
    "checkpoint_elo_1600 = \"./lightning_logs/rating_bins/elo_1600/version_5/checkpoints/epoch=9-step=937500.ckpt\"\n",
    "checkpoint_elo_1700 = \"./lightning_logs/rating_bins/elo_1700/version_1/checkpoints/epoch=9-step=937500.ckpt\"\n",
    "checkpoint_elo_1800 = \"./lightning_logs/rating_bins/elo_1800/version_0/checkpoints/epoch=9-step=937500.ckpt\"\n",
    "checkpoint_elo_1900 = \"./lightning_logs/rating_bins/elo_1900/version_2/checkpoints/epoch=9-step=937500.ckpt\"\n",
    "\n",
    "checkpoints = {\n",
    "    1100: checkpoint_elo_1100,\n",
    "    1200: checkpoint_elo_1200,\n",
    "    1300: checkpoint_elo_1300,\n",
    "    1400: checkpoint_elo_1400,\n",
    "    1500: checkpoint_elo_1500,\n",
    "    1600: checkpoint_elo_1600,\n",
    "    1700: checkpoint_elo_1700,\n",
    "    1800: checkpoint_elo_1800,\n",
    "    1900: checkpoint_elo_1900,\n",
    "}"
   ]
  },
  {
   "cell_type": "code",
   "execution_count": 44,
   "metadata": {},
   "outputs": [
    {
     "name": "stdout",
     "output_type": "stream",
     "text": [
      "number of parameters: 4.19M\n"
     ]
    }
   ],
   "source": [
    "model = load_model_from_checkpoint(checkpoint_elo_1100, config=model_config)\n",
    "agent = GPTNocheckAgent(model)"
   ]
  },
  {
   "cell_type": "code",
   "execution_count": 56,
   "metadata": {},
   "outputs": [],
   "source": [
    "pm = PieceMove.from_uci('Pe7e8q')"
   ]
  },
  {
   "cell_type": "code",
   "execution_count": 67,
   "metadata": {},
   "outputs": [
    {
     "name": "stdout",
     "output_type": "stream",
     "text": [
      "number of parameters: 4.19M\n",
      "elo: 1100\n"
     ]
    },
    {
     "name": "stderr",
     "output_type": "stream",
     "text": [
      "100%|██████████| 1000/1000 [04:17<00:00,  3.89it/s]\n"
     ]
    },
    {
     "name": "stdout",
     "output_type": "stream",
     "text": [
      "55823 / 56422 = 0.989383573783276\n",
      "number of parameters: 4.19M\n",
      "elo: 1200\n"
     ]
    },
    {
     "name": "stderr",
     "output_type": "stream",
     "text": [
      "100%|██████████| 1000/1000 [04:14<00:00,  3.94it/s]\n"
     ]
    },
    {
     "name": "stdout",
     "output_type": "stream",
     "text": [
      "56514 / 57187 = 0.9882315910958784\n",
      "number of parameters: 4.19M\n",
      "elo: 1300\n"
     ]
    },
    {
     "name": "stderr",
     "output_type": "stream",
     "text": [
      "100%|██████████| 1000/1000 [04:42<00:00,  3.54it/s]\n"
     ]
    },
    {
     "name": "stdout",
     "output_type": "stream",
     "text": [
      "59546 / 60212 = 0.9889390819105827\n",
      "number of parameters: 4.19M\n",
      "elo: 1400\n"
     ]
    },
    {
     "name": "stderr",
     "output_type": "stream",
     "text": [
      "100%|██████████| 1000/1000 [04:12<00:00,  3.97it/s]\n"
     ]
    },
    {
     "name": "stdout",
     "output_type": "stream",
     "text": [
      "58834 / 59412 = 0.9902713256581162\n",
      "number of parameters: 4.19M\n",
      "elo: 1500\n"
     ]
    },
    {
     "name": "stderr",
     "output_type": "stream",
     "text": [
      "100%|██████████| 1000/1000 [04:23<00:00,  3.80it/s]\n"
     ]
    },
    {
     "name": "stdout",
     "output_type": "stream",
     "text": [
      "61421 / 62224 = 0.9870950115710979\n",
      "number of parameters: 4.19M\n",
      "elo: 1600\n"
     ]
    },
    {
     "name": "stderr",
     "output_type": "stream",
     "text": [
      "100%|██████████| 1000/1000 [04:33<00:00,  3.65it/s]\n"
     ]
    },
    {
     "name": "stdout",
     "output_type": "stream",
     "text": [
      "61905 / 62657 = 0.9879981486505898\n",
      "number of parameters: 4.19M\n",
      "elo: 1700\n"
     ]
    },
    {
     "name": "stderr",
     "output_type": "stream",
     "text": [
      "100%|██████████| 1000/1000 [04:50<00:00,  3.44it/s]\n"
     ]
    },
    {
     "name": "stdout",
     "output_type": "stream",
     "text": [
      "61912 / 62563 = 0.9895944887553346\n",
      "number of parameters: 4.19M\n",
      "elo: 1800\n"
     ]
    },
    {
     "name": "stderr",
     "output_type": "stream",
     "text": [
      "100%|██████████| 1000/1000 [04:41<00:00,  3.55it/s]\n"
     ]
    },
    {
     "name": "stdout",
     "output_type": "stream",
     "text": [
      "62069 / 62821 = 0.9880294805877016\n",
      "number of parameters: 4.19M\n",
      "elo: 1900\n"
     ]
    },
    {
     "name": "stderr",
     "output_type": "stream",
     "text": [
      "100%|██████████| 1000/1000 [04:25<00:00,  3.77it/s]"
     ]
    },
    {
     "name": "stdout",
     "output_type": "stream",
     "text": [
      "63621 / 64263 = 0.9900098034638906\n"
     ]
    },
    {
     "name": "stderr",
     "output_type": "stream",
     "text": [
      "\n"
     ]
    }
   ],
   "source": [
    "accuracies = []\n",
    "errors = []\n",
    "\n",
    "for elo in range(1100, 2000, 100):\n",
    "    model = load_model_from_checkpoint(checkpoints[elo], config=model_config)\n",
    "    agent = GPTNocheckAgent(model)\n",
    "    print(f\"elo: {elo}\")\n",
    "    acc, illegal_moves = legal_accuracy(agent, games_bins[elo][:1000])\n",
    "    accuracies.append(acc)\n",
    "    errors.append(illegal_moves)"
   ]
  }
 ],
 "metadata": {
  "kernelspec": {
   "display_name": "pytorch",
   "language": "python",
   "name": "python3"
  },
  "language_info": {
   "codemirror_mode": {
    "name": "ipython",
    "version": 3
   },
   "file_extension": ".py",
   "mimetype": "text/x-python",
   "name": "python",
   "nbconvert_exporter": "python",
   "pygments_lexer": "ipython3",
   "version": "3.1.-1"
  }
 },
 "nbformat": 4,
 "nbformat_minor": 2
}

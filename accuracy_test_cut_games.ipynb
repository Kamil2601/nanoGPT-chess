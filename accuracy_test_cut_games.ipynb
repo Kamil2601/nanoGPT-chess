{
 "cells": [
  {
   "cell_type": "code",
   "execution_count": 1,
   "id": "daa4d7b9",
   "metadata": {},
   "outputs": [],
   "source": [
    "import pandas as pd\n",
    "import matplotlib.pyplot as plt\n",
    "from data_process import tokenizers, utils\n",
    "from nanoGPT.model import  GPT, GPTConfig\n",
    "from lightning_training import LightningGPT, GamesDataModule, GamesDataset\n",
    "import pytorch_lightning as pl\n",
    "import torch\n",
    "import os\n",
    "import numpy as np\n",
    "import seaborn as sns\n",
    "from data_process.utils import add_elo_token_to_games, join_material_tokens, remove_material_tokens, remove_last_player_material_token"
   ]
  },
  {
   "cell_type": "code",
   "execution_count": 2,
   "id": "5004495e",
   "metadata": {},
   "outputs": [],
   "source": [
    "def cut_game_after_30s_left(game):\n",
    "    piece_uci = game.piece_uci.split(\" \")\n",
    "    if game.ply_30s > -1:\n",
    "        piece_uci = piece_uci[:game.ply_30s * 3]\n",
    "    return \" \".join(piece_uci)"
   ]
  },
  {
   "cell_type": "code",
   "execution_count": 3,
   "id": "9d4d6a0c",
   "metadata": {},
   "outputs": [
    {
     "data": {
      "text/html": [
       "<div>\n",
       "<style scoped>\n",
       "    .dataframe tbody tr th:only-of-type {\n",
       "        vertical-align: middle;\n",
       "    }\n",
       "\n",
       "    .dataframe tbody tr th {\n",
       "        vertical-align: top;\n",
       "    }\n",
       "\n",
       "    .dataframe thead th {\n",
       "        text-align: right;\n",
       "    }\n",
       "</style>\n",
       "<table border=\"1\" class=\"dataframe\">\n",
       "  <thead>\n",
       "    <tr style=\"text-align: right;\">\n",
       "      <th></th>\n",
       "      <th>index</th>\n",
       "      <th>id</th>\n",
       "      <th>date</th>\n",
       "      <th>white_elo</th>\n",
       "      <th>black_elo</th>\n",
       "      <th>result</th>\n",
       "      <th>ply</th>\n",
       "      <th>ply_30s</th>\n",
       "      <th>piece_uci</th>\n",
       "    </tr>\n",
       "  </thead>\n",
       "  <tbody>\n",
       "    <tr>\n",
       "      <th>75721</th>\n",
       "      <td>99034768</td>\n",
       "      <td>j8dut9JL</td>\n",
       "      <td>2025.01.31</td>\n",
       "      <td>2425</td>\n",
       "      <td>2427</td>\n",
       "      <td>1-0</td>\n",
       "      <td>85</td>\n",
       "      <td>68</td>\n",
       "      <td>Pd2d4 39 39 Ng8f6 39 39 Ng1f3 39 39 Pc7c5 39 3...</td>\n",
       "    </tr>\n",
       "    <tr>\n",
       "      <th>80184</th>\n",
       "      <td>7380677</td>\n",
       "      <td>UMIvcBzB</td>\n",
       "      <td>2024.12.03</td>\n",
       "      <td>1919</td>\n",
       "      <td>2020</td>\n",
       "      <td>1-0</td>\n",
       "      <td>67</td>\n",
       "      <td>47</td>\n",
       "      <td>Pd2d4 39 39 Ng8f6 39 39 Nb1c3 39 39 Pc7c5 39 3...</td>\n",
       "    </tr>\n",
       "    <tr>\n",
       "      <th>19864</th>\n",
       "      <td>14462158</td>\n",
       "      <td>RP3reGqr</td>\n",
       "      <td>2024.12.05</td>\n",
       "      <td>2135</td>\n",
       "      <td>2144</td>\n",
       "      <td>1-0</td>\n",
       "      <td>41</td>\n",
       "      <td>-1</td>\n",
       "      <td>Ng1f3 39 39 Pc7c6 39 39 Pg2g3 39 39 Pd7d5 39 3...</td>\n",
       "    </tr>\n",
       "    <tr>\n",
       "      <th>76699</th>\n",
       "      <td>99355390</td>\n",
       "      <td>OC9pukWM</td>\n",
       "      <td>2025.01.31</td>\n",
       "      <td>2402</td>\n",
       "      <td>2433</td>\n",
       "      <td>1-0</td>\n",
       "      <td>53</td>\n",
       "      <td>-1</td>\n",
       "      <td>Pc2c4 39 39 Pe7e6 39 39 Nb1c3 39 39 Pd7d5 39 3...</td>\n",
       "    </tr>\n",
       "    <tr>\n",
       "      <th>92991</th>\n",
       "      <td>14089339</td>\n",
       "      <td>BL4die9s</td>\n",
       "      <td>2024.12.05</td>\n",
       "      <td>1200</td>\n",
       "      <td>1143</td>\n",
       "      <td>1-0</td>\n",
       "      <td>45</td>\n",
       "      <td>-1</td>\n",
       "      <td>Pe2e4 39 39 Pd7d5 39 39 Pe4d5 39 38 Qd8d5 38 3...</td>\n",
       "    </tr>\n",
       "    <tr>\n",
       "      <th>...</th>\n",
       "      <td>...</td>\n",
       "      <td>...</td>\n",
       "      <td>...</td>\n",
       "      <td>...</td>\n",
       "      <td>...</td>\n",
       "      <td>...</td>\n",
       "      <td>...</td>\n",
       "      <td>...</td>\n",
       "      <td>...</td>\n",
       "    </tr>\n",
       "    <tr>\n",
       "      <th>5002</th>\n",
       "      <td>97062</td>\n",
       "      <td>?</td>\n",
       "      <td>2021.12.07</td>\n",
       "      <td>2726</td>\n",
       "      <td>2574</td>\n",
       "      <td>1-0</td>\n",
       "      <td>9</td>\n",
       "      <td>-1</td>\n",
       "      <td>Pd2d4 39 39 Pd7d5 39 39 Nb1c3 39 39 Ng8f6 39 3...</td>\n",
       "    </tr>\n",
       "    <tr>\n",
       "      <th>30151</th>\n",
       "      <td>45151922</td>\n",
       "      <td>dUvdD4GK</td>\n",
       "      <td>2024.12.15</td>\n",
       "      <td>2258</td>\n",
       "      <td>2163</td>\n",
       "      <td>0-1</td>\n",
       "      <td>80</td>\n",
       "      <td>-1</td>\n",
       "      <td>Pc2c4 39 39 Pe7e6 39 39 Ng1f3 39 39 Pd7d5 39 3...</td>\n",
       "    </tr>\n",
       "    <tr>\n",
       "      <th>93194</th>\n",
       "      <td>14092632</td>\n",
       "      <td>7yOJ8xPr</td>\n",
       "      <td>2024.12.05</td>\n",
       "      <td>1051</td>\n",
       "      <td>1129</td>\n",
       "      <td>1-0</td>\n",
       "      <td>45</td>\n",
       "      <td>-1</td>\n",
       "      <td>Pe2e4 39 39 Pe7e5 39 39 Pd2d3 39 39 Nb8c6 39 3...</td>\n",
       "    </tr>\n",
       "    <tr>\n",
       "      <th>73199</th>\n",
       "      <td>98330191</td>\n",
       "      <td>Zw7vLYf0</td>\n",
       "      <td>2025.01.31</td>\n",
       "      <td>2418</td>\n",
       "      <td>2414</td>\n",
       "      <td>0-1</td>\n",
       "      <td>48</td>\n",
       "      <td>22</td>\n",
       "      <td>Pe2e4 39 39 Pd7d5 39 39 Pe4d5 39 38 Qd8d5 38 3...</td>\n",
       "    </tr>\n",
       "    <tr>\n",
       "      <th>74479</th>\n",
       "      <td>98680773</td>\n",
       "      <td>sEpm5Pcj</td>\n",
       "      <td>2025.01.31</td>\n",
       "      <td>2589</td>\n",
       "      <td>2570</td>\n",
       "      <td>0-1</td>\n",
       "      <td>96</td>\n",
       "      <td>66</td>\n",
       "      <td>Pd2d4 39 39 Ng8f6 39 39 Nb1c3 39 39 Pg7g6 39 3...</td>\n",
       "    </tr>\n",
       "  </tbody>\n",
       "</table>\n",
       "<p>10000 rows × 9 columns</p>\n",
       "</div>"
      ],
      "text/plain": [
       "          index        id        date  white_elo  black_elo result  ply  \\\n",
       "75721  99034768  j8dut9JL  2025.01.31       2425       2427    1-0   85   \n",
       "80184   7380677  UMIvcBzB  2024.12.03       1919       2020    1-0   67   \n",
       "19864  14462158  RP3reGqr  2024.12.05       2135       2144    1-0   41   \n",
       "76699  99355390  OC9pukWM  2025.01.31       2402       2433    1-0   53   \n",
       "92991  14089339  BL4die9s  2024.12.05       1200       1143    1-0   45   \n",
       "...         ...       ...         ...        ...        ...    ...  ...   \n",
       "5002      97062         ?  2021.12.07       2726       2574    1-0    9   \n",
       "30151  45151922  dUvdD4GK  2024.12.15       2258       2163    0-1   80   \n",
       "93194  14092632  7yOJ8xPr  2024.12.05       1051       1129    1-0   45   \n",
       "73199  98330191  Zw7vLYf0  2025.01.31       2418       2414    0-1   48   \n",
       "74479  98680773  sEpm5Pcj  2025.01.31       2589       2570    0-1   96   \n",
       "\n",
       "       ply_30s                                          piece_uci  \n",
       "75721       68  Pd2d4 39 39 Ng8f6 39 39 Ng1f3 39 39 Pc7c5 39 3...  \n",
       "80184       47  Pd2d4 39 39 Ng8f6 39 39 Nb1c3 39 39 Pc7c5 39 3...  \n",
       "19864       -1  Ng1f3 39 39 Pc7c6 39 39 Pg2g3 39 39 Pd7d5 39 3...  \n",
       "76699       -1  Pc2c4 39 39 Pe7e6 39 39 Nb1c3 39 39 Pd7d5 39 3...  \n",
       "92991       -1  Pe2e4 39 39 Pd7d5 39 39 Pe4d5 39 38 Qd8d5 38 3...  \n",
       "...        ...                                                ...  \n",
       "5002        -1  Pd2d4 39 39 Pd7d5 39 39 Nb1c3 39 39 Ng8f6 39 3...  \n",
       "30151       -1  Pc2c4 39 39 Pe7e6 39 39 Ng1f3 39 39 Pd7d5 39 3...  \n",
       "93194       -1  Pe2e4 39 39 Pe7e5 39 39 Pd2d3 39 39 Nb8c6 39 3...  \n",
       "73199       22  Pe2e4 39 39 Pd7d5 39 39 Pe4d5 39 38 Qd8d5 38 3...  \n",
       "74479       66  Pd2d4 39 39 Ng8f6 39 39 Nb1c3 39 39 Pg7g6 39 3...  \n",
       "\n",
       "[10000 rows x 9 columns]"
      ]
     },
     "execution_count": 3,
     "metadata": {},
     "output_type": "execute_result"
    }
   ],
   "source": [
    "headers = [\"index\", \"id\", \"date\", \"white_elo\", \"black_elo\", \"result\", \"ply\", \"ply_30s\", \"piece_uci\"]\n",
    "\n",
    "games_df = pd.read_csv(\"./data/test.csv\", delimiter=\";\", header=None, names=headers)\n",
    "\n",
    "games_df = games_df.sample(frac=0.1, random_state=42)\n",
    "\n",
    "cut_games = games_df.apply(cut_game_after_30s_left, axis=1)\n",
    "\n",
    "games = remove_last_player_material_token(cut_games)\n",
    "games = add_elo_token_to_games(games, games_df.white_elo, games_df.black_elo)\n",
    "\n",
    "games_df"
   ]
  },
  {
   "cell_type": "code",
   "execution_count": 4,
   "id": "834af5da",
   "metadata": {},
   "outputs": [],
   "source": [
    "games_material_pair = join_material_tokens(cut_games)\n",
    "games_material_pair = add_elo_token_to_games(games_material_pair, games_df.white_elo, games_df.black_elo)"
   ]
  },
  {
   "cell_type": "code",
   "execution_count": 5,
   "id": "bb2faea1",
   "metadata": {},
   "outputs": [],
   "source": [
    "base_games = remove_material_tokens(cut_games)\n",
    "base_games = add_elo_token_to_games(base_games, games_df.white_elo, games_df.black_elo)"
   ]
  },
  {
   "cell_type": "code",
   "execution_count": 6,
   "id": "a74e5c77",
   "metadata": {},
   "outputs": [
    {
     "name": "stdout",
     "output_type": "stream",
     "text": [
      "number of parameters: 27.34M\n",
      "number of parameters: 28.15M\n",
      "number of parameters: 27.29M\n",
      "number of parameters: 27.29M\n"
     ]
    }
   ],
   "source": [
    "material_pair_tokenizer = tokenizers.FullMoveEloMaterialPairTokenizer()\n",
    "\n",
    "material_tokenizer = tokenizers.FullMoveEloMaterialTokenizer()\n",
    "\n",
    "base_tokenizer = tokenizers.FullMoveTokenizerWithElo()\n",
    "\n",
    "material_pair_model_config = GPTConfig(\n",
    "    block_size=604,\n",
    "    vocab_size=len(material_pair_tokenizer.vocab),\n",
    "    n_layer=8,\n",
    "    n_head=8,\n",
    "    n_embd=512,\n",
    "    bias=False,\n",
    ")\n",
    "\n",
    "material_model_config = GPTConfig(\n",
    "    block_size=604,\n",
    "    vocab_size=material_tokenizer.vocab_size,\n",
    "    n_layer=8,\n",
    "    n_head=8,\n",
    "    n_embd=512,\n",
    "    bias=False,\n",
    ")\n",
    "\n",
    "base_model_config = GPTConfig(\n",
    "    block_size=302,\n",
    "    vocab_size=base_tokenizer.vocab_size,\n",
    "    n_layer=8,\n",
    "    n_head=8,\n",
    "    n_embd=512,\n",
    "    bias=False,\n",
    ")\n",
    "\n",
    "test_start_token = 21\n",
    "test_token_step = 2\n",
    "\n",
    "test_start_token_base = test_start_token // 2 + 1\n",
    "test_token_step_base = 1\n",
    "\n",
    "material_checkpoint = \"./models/full_training/elo_material_ignore_material_prediction/epoch=9-step=1250000.ckpt\"\n",
    "# material_single_checkpoint = \"./models/small_training/elo_material_ignore_material_prediction/epoch=4-step=78125.ckpt\"\n",
    "\n",
    "\n",
    "material_model = LightningGPT.load_from_checkpoint(\n",
    "    material_checkpoint,\n",
    "    config=material_model_config,\n",
    "    test_start_token=test_start_token,\n",
    "    test_token_step=test_token_step,\n",
    "    trainig_ignore_first_n_targets=test_start_token,\n",
    "    training_target_step=2,\n",
    "    tokenizer=material_tokenizer,\n",
    "    masked_elo_test=True\n",
    ")\n",
    "\n",
    "material_pair_checkpoint = \"./models/full_training/elo_material_pair_ignore_material_prediction/epoch=9-step=1250000.ckpt\"\n",
    "\n",
    "material_pair_model = LightningGPT.load_from_checkpoint(\n",
    "    material_pair_checkpoint,\n",
    "    config=material_pair_model_config,\n",
    "    test_start_token=test_start_token,\n",
    "    test_token_step=test_token_step,\n",
    "    trainig_ignore_first_n_targets=test_start_token,\n",
    "    training_target_step=2,\n",
    "    tokenizer=material_pair_tokenizer,\n",
    "    masked_elo_test=True\n",
    ")\n",
    "\n",
    "base_checkpoint = \"./models/full_training/masked_elo/epoch=9-step=1250000.ckpt\"\n",
    "\n",
    "base_model = LightningGPT.load_from_checkpoint(\n",
    "    base_checkpoint,\n",
    "    config=base_model_config,\n",
    "    test_start_token=test_start_token_base,\n",
    "    test_token_step=test_token_step_base,\n",
    "    trainig_ignore_first_n_targets=test_start_token_base,\n",
    "    training_target_step=test_token_step_base,\n",
    "    tokenizer=base_tokenizer,\n",
    "    masked_elo_test=True\n",
    ")\n",
    "\n",
    "base_no_mask_checkpoint = \"./models/full_training/adaptive_elo/epoch=9-step=1250000.ckpt\"\n",
    "\n",
    "base_no_mask_model = LightningGPT.load_from_checkpoint(\n",
    "    base_no_mask_checkpoint,\n",
    "    config=base_model_config,\n",
    "    test_start_token=test_start_token_base,\n",
    "    test_token_step=test_token_step_base,\n",
    "    trainig_ignore_first_n_targets=test_start_token_base,\n",
    "    training_target_step=test_token_step_base,\n",
    "    tokenizer=base_tokenizer,\n",
    "    masked_elo_test=True\n",
    ")\n"
   ]
  },
  {
   "cell_type": "code",
   "execution_count": 7,
   "id": "941b4f01",
   "metadata": {},
   "outputs": [
    {
     "name": "stderr",
     "output_type": "stream",
     "text": [
      "You are using the plain ModelCheckpoint callback. Consider using LitModelCheckpoint which with seamless uploading to Model registry.\n",
      "GPU available: True (cuda), used: True\n",
      "TPU available: False, using: 0 TPU cores\n",
      "HPU available: False, using: 0 HPUs\n"
     ]
    }
   ],
   "source": [
    "trainer = pl.Trainer(\n",
    "    logger=False,\n",
    "    accelerator=\"gpu\",\n",
    "    max_epochs=10,\n",
    "    callbacks=[pl.callbacks.RichProgressBar()],\n",
    "    # precision=\"bf16-mixed\",\n",
    ")\n",
    "# torch.set_float32_matmul_precision('high')"
   ]
  },
  {
   "cell_type": "code",
   "execution_count": 8,
   "id": "807edd67",
   "metadata": {},
   "outputs": [],
   "source": [
    "data_module = GamesDataModule(test_games=list(games), tokenizer=material_tokenizer, num_workers=12, mask_elo_token=False)"
   ]
  },
  {
   "cell_type": "code",
   "execution_count": 9,
   "id": "6d06d698",
   "metadata": {},
   "outputs": [
    {
     "name": "stderr",
     "output_type": "stream",
     "text": [
      "LOCAL_RANK: 0 - CUDA_VISIBLE_DEVICES: [0]\n"
     ]
    },
    {
     "data": {
      "application/vnd.jupyter.widget-view+json": {
       "model_id": "30d2bacbb8d9444fbe3991e33aa48f47",
       "version_major": 2,
       "version_minor": 0
      },
      "text/plain": [
       "Output()"
      ]
     },
     "metadata": {},
     "output_type": "display_data"
    },
    {
     "data": {
      "text/html": [
       "<pre style=\"white-space:pre;overflow-x:auto;line-height:normal;font-family:Menlo,'DejaVu Sans Mono',consolas,'Courier New',monospace\">┏━━━━━━━━━━━━━━━━━━━━━━━━━━━┳━━━━━━━━━━━━━━━━━━━━━━━━━━━┓\n",
       "┃<span style=\"font-weight: bold\">        Test metric        </span>┃<span style=\"font-weight: bold\">       DataLoader 0        </span>┃\n",
       "┡━━━━━━━━━━━━━━━━━━━━━━━━━━━╇━━━━━━━━━━━━━━━━━━━━━━━━━━━┩\n",
       "│<span style=\"color: #008080; text-decoration-color: #008080\">         test_acc          </span>│<span style=\"color: #800080; text-decoration-color: #800080\">     0.520480215549469     </span>│\n",
       "└───────────────────────────┴───────────────────────────┘\n",
       "</pre>\n"
      ],
      "text/plain": [
       "┏━━━━━━━━━━━━━━━━━━━━━━━━━━━┳━━━━━━━━━━━━━━━━━━━━━━━━━━━┓\n",
       "┃\u001b[1m \u001b[0m\u001b[1m       Test metric       \u001b[0m\u001b[1m \u001b[0m┃\u001b[1m \u001b[0m\u001b[1m      DataLoader 0       \u001b[0m\u001b[1m \u001b[0m┃\n",
       "┡━━━━━━━━━━━━━━━━━━━━━━━━━━━╇━━━━━━━━━━━━━━━━━━━━━━━━━━━┩\n",
       "│\u001b[36m \u001b[0m\u001b[36m        test_acc         \u001b[0m\u001b[36m \u001b[0m│\u001b[35m \u001b[0m\u001b[35m    0.520480215549469    \u001b[0m\u001b[35m \u001b[0m│\n",
       "└───────────────────────────┴───────────────────────────┘\n"
      ]
     },
     "metadata": {},
     "output_type": "display_data"
    },
    {
     "data": {
      "text/html": [
       "<pre style=\"white-space:pre;overflow-x:auto;line-height:normal;font-family:Menlo,'DejaVu Sans Mono',consolas,'Courier New',monospace\"></pre>\n"
      ],
      "text/plain": []
     },
     "metadata": {},
     "output_type": "display_data"
    }
   ],
   "source": [
    "test_result = trainer.test(material_model, datamodule=data_module)[0]"
   ]
  },
  {
   "cell_type": "code",
   "execution_count": 10,
   "id": "8c35306a",
   "metadata": {},
   "outputs": [
    {
     "name": "stderr",
     "output_type": "stream",
     "text": [
      "LOCAL_RANK: 0 - CUDA_VISIBLE_DEVICES: [0]\n"
     ]
    },
    {
     "data": {
      "application/vnd.jupyter.widget-view+json": {
       "model_id": "d3d28e94eb2649b59f20497ac2f70f94",
       "version_major": 2,
       "version_minor": 0
      },
      "text/plain": [
       "Output()"
      ]
     },
     "metadata": {},
     "output_type": "display_data"
    },
    {
     "data": {
      "text/html": [
       "<pre style=\"white-space:pre;overflow-x:auto;line-height:normal;font-family:Menlo,'DejaVu Sans Mono',consolas,'Courier New',monospace\">┏━━━━━━━━━━━━━━━━━━━━━━━━━━━┳━━━━━━━━━━━━━━━━━━━━━━━━━━━┓\n",
       "┃<span style=\"font-weight: bold\">        Test metric        </span>┃<span style=\"font-weight: bold\">       DataLoader 0        </span>┃\n",
       "┡━━━━━━━━━━━━━━━━━━━━━━━━━━━╇━━━━━━━━━━━━━━━━━━━━━━━━━━━┩\n",
       "│<span style=\"color: #008080; text-decoration-color: #008080\">         test_acc          </span>│<span style=\"color: #800080; text-decoration-color: #800080\">    0.5123946666717529     </span>│\n",
       "│<span style=\"color: #008080; text-decoration-color: #008080\">         test_loss         </span>│<span style=\"color: #800080; text-decoration-color: #800080\">    1.5231189727783203     </span>│\n",
       "└───────────────────────────┴───────────────────────────┘\n",
       "</pre>\n"
      ],
      "text/plain": [
       "┏━━━━━━━━━━━━━━━━━━━━━━━━━━━┳━━━━━━━━━━━━━━━━━━━━━━━━━━━┓\n",
       "┃\u001b[1m \u001b[0m\u001b[1m       Test metric       \u001b[0m\u001b[1m \u001b[0m┃\u001b[1m \u001b[0m\u001b[1m      DataLoader 0       \u001b[0m\u001b[1m \u001b[0m┃\n",
       "┡━━━━━━━━━━━━━━━━━━━━━━━━━━━╇━━━━━━━━━━━━━━━━━━━━━━━━━━━┩\n",
       "│\u001b[36m \u001b[0m\u001b[36m        test_acc         \u001b[0m\u001b[36m \u001b[0m│\u001b[35m \u001b[0m\u001b[35m   0.5123946666717529    \u001b[0m\u001b[35m \u001b[0m│\n",
       "│\u001b[36m \u001b[0m\u001b[36m        test_loss        \u001b[0m\u001b[36m \u001b[0m│\u001b[35m \u001b[0m\u001b[35m   1.5231189727783203    \u001b[0m\u001b[35m \u001b[0m│\n",
       "└───────────────────────────┴───────────────────────────┘\n"
      ]
     },
     "metadata": {},
     "output_type": "display_data"
    },
    {
     "data": {
      "text/html": [
       "<pre style=\"white-space:pre;overflow-x:auto;line-height:normal;font-family:Menlo,'DejaVu Sans Mono',consolas,'Courier New',monospace\"></pre>\n"
      ],
      "text/plain": []
     },
     "metadata": {},
     "output_type": "display_data"
    }
   ],
   "source": [
    "material_model.masked_elo_test = False\n",
    "test_result_2 = trainer.test(material_model, datamodule=data_module)[0]"
   ]
  },
  {
   "cell_type": "code",
   "execution_count": 11,
   "id": "6a4f7920",
   "metadata": {},
   "outputs": [],
   "source": [
    "material_pair_data_module = GamesDataModule(test_games=list(games_material_pair), tokenizer=material_pair_tokenizer, num_workers=12)"
   ]
  },
  {
   "cell_type": "code",
   "execution_count": 12,
   "id": "4dc2079a",
   "metadata": {},
   "outputs": [
    {
     "name": "stderr",
     "output_type": "stream",
     "text": [
      "LOCAL_RANK: 0 - CUDA_VISIBLE_DEVICES: [0]\n"
     ]
    },
    {
     "data": {
      "application/vnd.jupyter.widget-view+json": {
       "model_id": "2711f86b4f1844b58f38bd51f66c7780",
       "version_major": 2,
       "version_minor": 0
      },
      "text/plain": [
       "Output()"
      ]
     },
     "metadata": {},
     "output_type": "display_data"
    },
    {
     "data": {
      "text/html": [
       "<pre style=\"white-space:pre;overflow-x:auto;line-height:normal;font-family:Menlo,'DejaVu Sans Mono',consolas,'Courier New',monospace\">┏━━━━━━━━━━━━━━━━━━━━━━━━━━━┳━━━━━━━━━━━━━━━━━━━━━━━━━━━┓\n",
       "┃<span style=\"font-weight: bold\">        Test metric        </span>┃<span style=\"font-weight: bold\">       DataLoader 0        </span>┃\n",
       "┡━━━━━━━━━━━━━━━━━━━━━━━━━━━╇━━━━━━━━━━━━━━━━━━━━━━━━━━━┩\n",
       "│<span style=\"color: #008080; text-decoration-color: #008080\">         test_acc          </span>│<span style=\"color: #800080; text-decoration-color: #800080\">    0.5171112418174744     </span>│\n",
       "└───────────────────────────┴───────────────────────────┘\n",
       "</pre>\n"
      ],
      "text/plain": [
       "┏━━━━━━━━━━━━━━━━━━━━━━━━━━━┳━━━━━━━━━━━━━━━━━━━━━━━━━━━┓\n",
       "┃\u001b[1m \u001b[0m\u001b[1m       Test metric       \u001b[0m\u001b[1m \u001b[0m┃\u001b[1m \u001b[0m\u001b[1m      DataLoader 0       \u001b[0m\u001b[1m \u001b[0m┃\n",
       "┡━━━━━━━━━━━━━━━━━━━━━━━━━━━╇━━━━━━━━━━━━━━━━━━━━━━━━━━━┩\n",
       "│\u001b[36m \u001b[0m\u001b[36m        test_acc         \u001b[0m\u001b[36m \u001b[0m│\u001b[35m \u001b[0m\u001b[35m   0.5171112418174744    \u001b[0m\u001b[35m \u001b[0m│\n",
       "└───────────────────────────┴───────────────────────────┘\n"
      ]
     },
     "metadata": {},
     "output_type": "display_data"
    },
    {
     "data": {
      "text/html": [
       "<pre style=\"white-space:pre;overflow-x:auto;line-height:normal;font-family:Menlo,'DejaVu Sans Mono',consolas,'Courier New',monospace\"></pre>\n"
      ],
      "text/plain": []
     },
     "metadata": {},
     "output_type": "display_data"
    }
   ],
   "source": [
    "test_result_3 = trainer.test(material_pair_model, datamodule=material_pair_data_module)[0]"
   ]
  },
  {
   "cell_type": "code",
   "execution_count": 13,
   "id": "d275498b",
   "metadata": {},
   "outputs": [
    {
     "name": "stderr",
     "output_type": "stream",
     "text": [
      "LOCAL_RANK: 0 - CUDA_VISIBLE_DEVICES: [0]\n"
     ]
    },
    {
     "data": {
      "application/vnd.jupyter.widget-view+json": {
       "model_id": "84f091e6b5b941ceb75fb659efb2085e",
       "version_major": 2,
       "version_minor": 0
      },
      "text/plain": [
       "Output()"
      ]
     },
     "metadata": {},
     "output_type": "display_data"
    },
    {
     "data": {
      "text/html": [
       "<pre style=\"white-space:pre;overflow-x:auto;line-height:normal;font-family:Menlo,'DejaVu Sans Mono',consolas,'Courier New',monospace\">┏━━━━━━━━━━━━━━━━━━━━━━━━━━━┳━━━━━━━━━━━━━━━━━━━━━━━━━━━┓\n",
       "┃<span style=\"font-weight: bold\">        Test metric        </span>┃<span style=\"font-weight: bold\">       DataLoader 0        </span>┃\n",
       "┡━━━━━━━━━━━━━━━━━━━━━━━━━━━╇━━━━━━━━━━━━━━━━━━━━━━━━━━━┩\n",
       "│<span style=\"color: #008080; text-decoration-color: #008080\">         test_acc          </span>│<span style=\"color: #800080; text-decoration-color: #800080\">    0.5100677609443665     </span>│\n",
       "│<span style=\"color: #008080; text-decoration-color: #008080\">         test_loss         </span>│<span style=\"color: #800080; text-decoration-color: #800080\">    1.5312763452529907     </span>│\n",
       "└───────────────────────────┴───────────────────────────┘\n",
       "</pre>\n"
      ],
      "text/plain": [
       "┏━━━━━━━━━━━━━━━━━━━━━━━━━━━┳━━━━━━━━━━━━━━━━━━━━━━━━━━━┓\n",
       "┃\u001b[1m \u001b[0m\u001b[1m       Test metric       \u001b[0m\u001b[1m \u001b[0m┃\u001b[1m \u001b[0m\u001b[1m      DataLoader 0       \u001b[0m\u001b[1m \u001b[0m┃\n",
       "┡━━━━━━━━━━━━━━━━━━━━━━━━━━━╇━━━━━━━━━━━━━━━━━━━━━━━━━━━┩\n",
       "│\u001b[36m \u001b[0m\u001b[36m        test_acc         \u001b[0m\u001b[36m \u001b[0m│\u001b[35m \u001b[0m\u001b[35m   0.5100677609443665    \u001b[0m\u001b[35m \u001b[0m│\n",
       "│\u001b[36m \u001b[0m\u001b[36m        test_loss        \u001b[0m\u001b[36m \u001b[0m│\u001b[35m \u001b[0m\u001b[35m   1.5312763452529907    \u001b[0m\u001b[35m \u001b[0m│\n",
       "└───────────────────────────┴───────────────────────────┘\n"
      ]
     },
     "metadata": {},
     "output_type": "display_data"
    },
    {
     "data": {
      "text/html": [
       "<pre style=\"white-space:pre;overflow-x:auto;line-height:normal;font-family:Menlo,'DejaVu Sans Mono',consolas,'Courier New',monospace\"></pre>\n"
      ],
      "text/plain": []
     },
     "metadata": {},
     "output_type": "display_data"
    }
   ],
   "source": [
    "material_pair_model.masked_elo_test = False\n",
    "test_result_4 = trainer.test(material_pair_model, datamodule=material_pair_data_module)[0]"
   ]
  },
  {
   "cell_type": "code",
   "execution_count": 14,
   "id": "e3f104bb",
   "metadata": {},
   "outputs": [
    {
     "name": "stderr",
     "output_type": "stream",
     "text": [
      "LOCAL_RANK: 0 - CUDA_VISIBLE_DEVICES: [0]\n"
     ]
    },
    {
     "data": {
      "application/vnd.jupyter.widget-view+json": {
       "model_id": "f8ba82e0aecb47298fe914b69a08e4df",
       "version_major": 2,
       "version_minor": 0
      },
      "text/plain": [
       "Output()"
      ]
     },
     "metadata": {},
     "output_type": "display_data"
    },
    {
     "data": {
      "text/html": [
       "<pre style=\"white-space:pre;overflow-x:auto;line-height:normal;font-family:Menlo,'DejaVu Sans Mono',consolas,'Courier New',monospace\">┏━━━━━━━━━━━━━━━━━━━━━━━━━━━┳━━━━━━━━━━━━━━━━━━━━━━━━━━━┓\n",
       "┃<span style=\"font-weight: bold\">        Test metric        </span>┃<span style=\"font-weight: bold\">       DataLoader 0        </span>┃\n",
       "┡━━━━━━━━━━━━━━━━━━━━━━━━━━━╇━━━━━━━━━━━━━━━━━━━━━━━━━━━┩\n",
       "│<span style=\"color: #008080; text-decoration-color: #008080\">         test_acc          </span>│<span style=\"color: #800080; text-decoration-color: #800080\">    0.5139882564544678     </span>│\n",
       "└───────────────────────────┴───────────────────────────┘\n",
       "</pre>\n"
      ],
      "text/plain": [
       "┏━━━━━━━━━━━━━━━━━━━━━━━━━━━┳━━━━━━━━━━━━━━━━━━━━━━━━━━━┓\n",
       "┃\u001b[1m \u001b[0m\u001b[1m       Test metric       \u001b[0m\u001b[1m \u001b[0m┃\u001b[1m \u001b[0m\u001b[1m      DataLoader 0       \u001b[0m\u001b[1m \u001b[0m┃\n",
       "┡━━━━━━━━━━━━━━━━━━━━━━━━━━━╇━━━━━━━━━━━━━━━━━━━━━━━━━━━┩\n",
       "│\u001b[36m \u001b[0m\u001b[36m        test_acc         \u001b[0m\u001b[36m \u001b[0m│\u001b[35m \u001b[0m\u001b[35m   0.5139882564544678    \u001b[0m\u001b[35m \u001b[0m│\n",
       "└───────────────────────────┴───────────────────────────┘\n"
      ]
     },
     "metadata": {},
     "output_type": "display_data"
    },
    {
     "data": {
      "text/html": [
       "<pre style=\"white-space:pre;overflow-x:auto;line-height:normal;font-family:Menlo,'DejaVu Sans Mono',consolas,'Courier New',monospace\"></pre>\n"
      ],
      "text/plain": []
     },
     "metadata": {},
     "output_type": "display_data"
    }
   ],
   "source": [
    "base_data_module = GamesDataModule(test_games=list(base_games), tokenizer=base_tokenizer, num_workers=12)\n",
    "test_result_5 = trainer.test(base_model, datamodule=base_data_module)[0]"
   ]
  },
  {
   "cell_type": "code",
   "execution_count": 15,
   "id": "830d2c73",
   "metadata": {},
   "outputs": [
    {
     "name": "stderr",
     "output_type": "stream",
     "text": [
      "LOCAL_RANK: 0 - CUDA_VISIBLE_DEVICES: [0]\n"
     ]
    },
    {
     "data": {
      "application/vnd.jupyter.widget-view+json": {
       "model_id": "b334198eafc0413fb48bb9d2842a45a2",
       "version_major": 2,
       "version_minor": 0
      },
      "text/plain": [
       "Output()"
      ]
     },
     "metadata": {},
     "output_type": "display_data"
    },
    {
     "data": {
      "text/html": [
       "<pre style=\"white-space:pre;overflow-x:auto;line-height:normal;font-family:Menlo,'DejaVu Sans Mono',consolas,'Courier New',monospace\">┏━━━━━━━━━━━━━━━━━━━━━━━━━━━┳━━━━━━━━━━━━━━━━━━━━━━━━━━━┓\n",
       "┃<span style=\"font-weight: bold\">        Test metric        </span>┃<span style=\"font-weight: bold\">       DataLoader 0        </span>┃\n",
       "┡━━━━━━━━━━━━━━━━━━━━━━━━━━━╇━━━━━━━━━━━━━━━━━━━━━━━━━━━┩\n",
       "│<span style=\"color: #008080; text-decoration-color: #008080\">         test_acc          </span>│<span style=\"color: #800080; text-decoration-color: #800080\">    0.5120325684547424     </span>│\n",
       "│<span style=\"color: #008080; text-decoration-color: #008080\">         test_loss         </span>│<span style=\"color: #800080; text-decoration-color: #800080\">    1.5243068933486938     </span>│\n",
       "└───────────────────────────┴───────────────────────────┘\n",
       "</pre>\n"
      ],
      "text/plain": [
       "┏━━━━━━━━━━━━━━━━━━━━━━━━━━━┳━━━━━━━━━━━━━━━━━━━━━━━━━━━┓\n",
       "┃\u001b[1m \u001b[0m\u001b[1m       Test metric       \u001b[0m\u001b[1m \u001b[0m┃\u001b[1m \u001b[0m\u001b[1m      DataLoader 0       \u001b[0m\u001b[1m \u001b[0m┃\n",
       "┡━━━━━━━━━━━━━━━━━━━━━━━━━━━╇━━━━━━━━━━━━━━━━━━━━━━━━━━━┩\n",
       "│\u001b[36m \u001b[0m\u001b[36m        test_acc         \u001b[0m\u001b[36m \u001b[0m│\u001b[35m \u001b[0m\u001b[35m   0.5120325684547424    \u001b[0m\u001b[35m \u001b[0m│\n",
       "│\u001b[36m \u001b[0m\u001b[36m        test_loss        \u001b[0m\u001b[36m \u001b[0m│\u001b[35m \u001b[0m\u001b[35m   1.5243068933486938    \u001b[0m\u001b[35m \u001b[0m│\n",
       "└───────────────────────────┴───────────────────────────┘\n"
      ]
     },
     "metadata": {},
     "output_type": "display_data"
    },
    {
     "data": {
      "text/html": [
       "<pre style=\"white-space:pre;overflow-x:auto;line-height:normal;font-family:Menlo,'DejaVu Sans Mono',consolas,'Courier New',monospace\"></pre>\n"
      ],
      "text/plain": []
     },
     "metadata": {},
     "output_type": "display_data"
    }
   ],
   "source": [
    "base_model.masked_elo_test = False\n",
    "test_result_6 = trainer.test(base_model, datamodule=base_data_module)[0]"
   ]
  },
  {
   "cell_type": "code",
   "execution_count": 16,
   "id": "4bef7f0f",
   "metadata": {},
   "outputs": [
    {
     "name": "stderr",
     "output_type": "stream",
     "text": [
      "LOCAL_RANK: 0 - CUDA_VISIBLE_DEVICES: [0]\n"
     ]
    },
    {
     "data": {
      "application/vnd.jupyter.widget-view+json": {
       "model_id": "7bbc70ddf7ec4328b201fbab4b5a9a59",
       "version_major": 2,
       "version_minor": 0
      },
      "text/plain": [
       "Output()"
      ]
     },
     "metadata": {},
     "output_type": "display_data"
    },
    {
     "data": {
      "text/html": [
       "<pre style=\"white-space:pre;overflow-x:auto;line-height:normal;font-family:Menlo,'DejaVu Sans Mono',consolas,'Courier New',monospace\">┏━━━━━━━━━━━━━━━━━━━━━━━━━━━┳━━━━━━━━━━━━━━━━━━━━━━━━━━━┓\n",
       "┃<span style=\"font-weight: bold\">        Test metric        </span>┃<span style=\"font-weight: bold\">       DataLoader 0        </span>┃\n",
       "┡━━━━━━━━━━━━━━━━━━━━━━━━━━━╇━━━━━━━━━━━━━━━━━━━━━━━━━━━┩\n",
       "│<span style=\"color: #008080; text-decoration-color: #008080\">         test_acc          </span>│<span style=\"color: #800080; text-decoration-color: #800080\">    0.5117753744125366     </span>│\n",
       "└───────────────────────────┴───────────────────────────┘\n",
       "</pre>\n"
      ],
      "text/plain": [
       "┏━━━━━━━━━━━━━━━━━━━━━━━━━━━┳━━━━━━━━━━━━━━━━━━━━━━━━━━━┓\n",
       "┃\u001b[1m \u001b[0m\u001b[1m       Test metric       \u001b[0m\u001b[1m \u001b[0m┃\u001b[1m \u001b[0m\u001b[1m      DataLoader 0       \u001b[0m\u001b[1m \u001b[0m┃\n",
       "┡━━━━━━━━━━━━━━━━━━━━━━━━━━━╇━━━━━━━━━━━━━━━━━━━━━━━━━━━┩\n",
       "│\u001b[36m \u001b[0m\u001b[36m        test_acc         \u001b[0m\u001b[36m \u001b[0m│\u001b[35m \u001b[0m\u001b[35m   0.5117753744125366    \u001b[0m\u001b[35m \u001b[0m│\n",
       "└───────────────────────────┴───────────────────────────┘\n"
      ]
     },
     "metadata": {},
     "output_type": "display_data"
    },
    {
     "data": {
      "text/html": [
       "<pre style=\"white-space:pre;overflow-x:auto;line-height:normal;font-family:Menlo,'DejaVu Sans Mono',consolas,'Courier New',monospace\"></pre>\n"
      ],
      "text/plain": []
     },
     "metadata": {},
     "output_type": "display_data"
    }
   ],
   "source": [
    "test_result_7 = trainer.test(base_no_mask_model, datamodule=base_data_module)[0]"
   ]
  },
  {
   "cell_type": "code",
   "execution_count": 17,
   "id": "ddf7ab40",
   "metadata": {},
   "outputs": [
    {
     "name": "stderr",
     "output_type": "stream",
     "text": [
      "LOCAL_RANK: 0 - CUDA_VISIBLE_DEVICES: [0]\n"
     ]
    },
    {
     "data": {
      "application/vnd.jupyter.widget-view+json": {
       "model_id": "a9621e6f4def44aa9974600748419481",
       "version_major": 2,
       "version_minor": 0
      },
      "text/plain": [
       "Output()"
      ]
     },
     "metadata": {},
     "output_type": "display_data"
    },
    {
     "data": {
      "text/html": [
       "<pre style=\"white-space:pre;overflow-x:auto;line-height:normal;font-family:Menlo,'DejaVu Sans Mono',consolas,'Courier New',monospace\">┏━━━━━━━━━━━━━━━━━━━━━━━━━━━┳━━━━━━━━━━━━━━━━━━━━━━━━━━━┓\n",
       "┃<span style=\"font-weight: bold\">        Test metric        </span>┃<span style=\"font-weight: bold\">       DataLoader 0        </span>┃\n",
       "┡━━━━━━━━━━━━━━━━━━━━━━━━━━━╇━━━━━━━━━━━━━━━━━━━━━━━━━━━┩\n",
       "│<span style=\"color: #008080; text-decoration-color: #008080\">         test_acc          </span>│<span style=\"color: #800080; text-decoration-color: #800080\">    0.5138136148452759     </span>│\n",
       "│<span style=\"color: #008080; text-decoration-color: #008080\">         test_loss         </span>│<span style=\"color: #800080; text-decoration-color: #800080\">    1.5151578187942505     </span>│\n",
       "└───────────────────────────┴───────────────────────────┘\n",
       "</pre>\n"
      ],
      "text/plain": [
       "┏━━━━━━━━━━━━━━━━━━━━━━━━━━━┳━━━━━━━━━━━━━━━━━━━━━━━━━━━┓\n",
       "┃\u001b[1m \u001b[0m\u001b[1m       Test metric       \u001b[0m\u001b[1m \u001b[0m┃\u001b[1m \u001b[0m\u001b[1m      DataLoader 0       \u001b[0m\u001b[1m \u001b[0m┃\n",
       "┡━━━━━━━━━━━━━━━━━━━━━━━━━━━╇━━━━━━━━━━━━━━━━━━━━━━━━━━━┩\n",
       "│\u001b[36m \u001b[0m\u001b[36m        test_acc         \u001b[0m\u001b[36m \u001b[0m│\u001b[35m \u001b[0m\u001b[35m   0.5138136148452759    \u001b[0m\u001b[35m \u001b[0m│\n",
       "│\u001b[36m \u001b[0m\u001b[36m        test_loss        \u001b[0m\u001b[36m \u001b[0m│\u001b[35m \u001b[0m\u001b[35m   1.5151578187942505    \u001b[0m\u001b[35m \u001b[0m│\n",
       "└───────────────────────────┴───────────────────────────┘\n"
      ]
     },
     "metadata": {},
     "output_type": "display_data"
    },
    {
     "data": {
      "text/html": [
       "<pre style=\"white-space:pre;overflow-x:auto;line-height:normal;font-family:Menlo,'DejaVu Sans Mono',consolas,'Courier New',monospace\"></pre>\n"
      ],
      "text/plain": []
     },
     "metadata": {},
     "output_type": "display_data"
    }
   ],
   "source": [
    "base_no_mask_model.masked_elo_test = False\n",
    "test_result_8 = trainer.test(base_no_mask_model, datamodule=base_data_module)[0]"
   ]
  },
  {
   "cell_type": "code",
   "execution_count": 18,
   "id": "c69372de",
   "metadata": {},
   "outputs": [],
   "source": [
    "masked_test_accuracy = {\n",
    "    \"material\": test_result[\"test_acc\"],\n",
    "    \"material_pair\": test_result_3[\"test_acc\"],\n",
    "    \"base\": test_result_5[\"test_acc\"],\n",
    "    \"base_no_mask\": test_result_7[\"test_acc\"]\n",
    "}\n",
    "\n",
    "unmasked_test_accuracy = {\n",
    "    \"material\": test_result_2[\"test_acc\"],\n",
    "    \"material_pair\": test_result_4[\"test_acc\"],\n",
    "    \"base\": test_result_6[\"test_acc\"],\n",
    "    \"base_no_mask\": test_result_8[\"test_acc\"]\n",
    "}"
   ]
  },
  {
   "cell_type": "code",
   "execution_count": 19,
   "id": "3260da09",
   "metadata": {},
   "outputs": [
    {
     "name": "stdout",
     "output_type": "stream",
     "text": [
      "Masked test accuracy:\n",
      "material: 0.5205\n",
      "material_pair: 0.5171\n",
      "base: 0.5140\n",
      "base_no_mask: 0.5118\n",
      "\n",
      "Unmasked test accuracy:\n",
      "material: 0.5124\n",
      "material_pair: 0.5101\n",
      "base: 0.5120\n",
      "base_no_mask: 0.5138\n"
     ]
    }
   ],
   "source": [
    "print(\"Masked test accuracy:\")\n",
    "for key, value in masked_test_accuracy.items():\n",
    "    print(f\"{key}: {value:.4f}\")\n",
    "\n",
    "print(\"\\nUnmasked test accuracy:\")\n",
    "for key, value in unmasked_test_accuracy.items():\n",
    "    print(f\"{key}: {value:.4f}\")"
   ]
  }
 ],
 "metadata": {
  "kernelspec": {
   "display_name": "python",
   "language": "python",
   "name": "python3"
  },
  "language_info": {
   "codemirror_mode": {
    "name": "ipython",
    "version": 3
   },
   "file_extension": ".py",
   "mimetype": "text/x-python",
   "name": "python",
   "nbconvert_exporter": "python",
   "pygments_lexer": "ipython3",
   "version": "3.13.2"
  }
 },
 "nbformat": 4,
 "nbformat_minor": 5
}

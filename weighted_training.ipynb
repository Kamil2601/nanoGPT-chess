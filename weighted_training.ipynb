{
 "cells": [
  {
   "cell_type": "code",
   "execution_count": 1,
   "metadata": {},
   "outputs": [],
   "source": [
    "%reload_ext autoreload\n",
    "%autoreload 2"
   ]
  },
  {
   "cell_type": "code",
   "execution_count": 2,
   "metadata": {},
   "outputs": [],
   "source": [
    "import pandas as pd\n",
    "import torch\n",
    "from nanoGPT.model import GPTConfig\n",
    "from lightning_training import *"
   ]
  },
  {
   "cell_type": "code",
   "execution_count": 3,
   "metadata": {},
   "outputs": [
    {
     "data": {
      "text/html": [
       "<div>\n",
       "<style scoped>\n",
       "    .dataframe tbody tr th:only-of-type {\n",
       "        vertical-align: middle;\n",
       "    }\n",
       "\n",
       "    .dataframe tbody tr th {\n",
       "        vertical-align: top;\n",
       "    }\n",
       "\n",
       "    .dataframe thead th {\n",
       "        text-align: right;\n",
       "    }\n",
       "</style>\n",
       "<table border=\"1\" class=\"dataframe\">\n",
       "  <thead>\n",
       "    <tr style=\"text-align: right;\">\n",
       "      <th></th>\n",
       "      <th>white_elo</th>\n",
       "      <th>black_elo</th>\n",
       "      <th>result</th>\n",
       "      <th>piece_uci</th>\n",
       "    </tr>\n",
       "  </thead>\n",
       "  <tbody>\n",
       "    <tr>\n",
       "      <th>0</th>\n",
       "      <td>2271</td>\n",
       "      <td>2428</td>\n",
       "      <td>1-0</td>\n",
       "      <td>Pd2d4 Ng8f6 Pc2c4 Pe7e6 Nb1c3 Bf8b4 Ng1f3 Ke8g...</td>\n",
       "    </tr>\n",
       "    <tr>\n",
       "      <th>1</th>\n",
       "      <td>2271</td>\n",
       "      <td>2428</td>\n",
       "      <td>1-0</td>\n",
       "      <td>Pd2d4 Ng8f6 Pc2c4 Pe7e6 Nb1c3 Bf8b4 Ng1f3 Ke8g...</td>\n",
       "    </tr>\n",
       "    <tr>\n",
       "      <th>2</th>\n",
       "      <td>2423</td>\n",
       "      <td>2438</td>\n",
       "      <td>1-0</td>\n",
       "      <td>Pd2d4 Ng8f6 Pc2c4 Pc7c6 Nb1c3 Pd7d5 Pe2e3 Pe7e...</td>\n",
       "    </tr>\n",
       "    <tr>\n",
       "      <th>3</th>\n",
       "      <td>2439</td>\n",
       "      <td>2276</td>\n",
       "      <td>1-0</td>\n",
       "      <td>Pe2e4 Pd7d5 Pe4d5 Ng8f6 Pc2c4 Pc7c6 Pd2d4 Pc6d...</td>\n",
       "    </tr>\n",
       "    <tr>\n",
       "      <th>4</th>\n",
       "      <td>2347</td>\n",
       "      <td>2430</td>\n",
       "      <td>1-0</td>\n",
       "      <td>Pd2d4 Pd7d5 Pc2c4 Pc7c6 Pc4d5 Pc6d5 Nb1c3 Nb8c...</td>\n",
       "    </tr>\n",
       "    <tr>\n",
       "      <th>...</th>\n",
       "      <td>...</td>\n",
       "      <td>...</td>\n",
       "      <td>...</td>\n",
       "      <td>...</td>\n",
       "    </tr>\n",
       "    <tr>\n",
       "      <th>99995</th>\n",
       "      <td>2285</td>\n",
       "      <td>2433</td>\n",
       "      <td>1-0</td>\n",
       "      <td>Pd2d4 Pg7g6 Pe2e4 Bf8g7 Nb1c3 Pd7d6 Bc1e3 Pa7a...</td>\n",
       "    </tr>\n",
       "    <tr>\n",
       "      <th>99996</th>\n",
       "      <td>2503</td>\n",
       "      <td>2508</td>\n",
       "      <td>1-0</td>\n",
       "      <td>Pe2e4 Pc7c5 Nb1c3 Pd7d6 Pf2f4 Pg7g6 Ng1f3 Bf8g...</td>\n",
       "    </tr>\n",
       "    <tr>\n",
       "      <th>99997</th>\n",
       "      <td>2310</td>\n",
       "      <td>2452</td>\n",
       "      <td>0-1</td>\n",
       "      <td>Pe2e4 Pc7c6 Pd2d4 Pd7d5 Pe4d5 Pc6d5 Bf1d3 Nb8c...</td>\n",
       "    </tr>\n",
       "    <tr>\n",
       "      <th>99998</th>\n",
       "      <td>2450</td>\n",
       "      <td>2312</td>\n",
       "      <td>1-0</td>\n",
       "      <td>Pd2d4 Pf7f5 Pg2g3 Ng8f6 Bf1g2 Pd7d6 Ng1f3 Pg7g...</td>\n",
       "    </tr>\n",
       "    <tr>\n",
       "      <th>99999</th>\n",
       "      <td>2639</td>\n",
       "      <td>2584</td>\n",
       "      <td>1-0</td>\n",
       "      <td>Pe2e4 Pe7e6 Pd2d4 Pd7d5 Nb1c3 Bf8b4 Pe4e5 Pc7c...</td>\n",
       "    </tr>\n",
       "  </tbody>\n",
       "</table>\n",
       "<p>100000 rows × 4 columns</p>\n",
       "</div>"
      ],
      "text/plain": [
       "       white_elo  black_elo result  \\\n",
       "0           2271       2428    1-0   \n",
       "1           2271       2428    1-0   \n",
       "2           2423       2438    1-0   \n",
       "3           2439       2276    1-0   \n",
       "4           2347       2430    1-0   \n",
       "...          ...        ...    ...   \n",
       "99995       2285       2433    1-0   \n",
       "99996       2503       2508    1-0   \n",
       "99997       2310       2452    0-1   \n",
       "99998       2450       2312    1-0   \n",
       "99999       2639       2584    1-0   \n",
       "\n",
       "                                               piece_uci  \n",
       "0      Pd2d4 Ng8f6 Pc2c4 Pe7e6 Nb1c3 Bf8b4 Ng1f3 Ke8g...  \n",
       "1      Pd2d4 Ng8f6 Pc2c4 Pe7e6 Nb1c3 Bf8b4 Ng1f3 Ke8g...  \n",
       "2      Pd2d4 Ng8f6 Pc2c4 Pc7c6 Nb1c3 Pd7d5 Pe2e3 Pe7e...  \n",
       "3      Pe2e4 Pd7d5 Pe4d5 Ng8f6 Pc2c4 Pc7c6 Pd2d4 Pc6d...  \n",
       "4      Pd2d4 Pd7d5 Pc2c4 Pc7c6 Pc4d5 Pc6d5 Nb1c3 Nb8c...  \n",
       "...                                                  ...  \n",
       "99995  Pd2d4 Pg7g6 Pe2e4 Bf8g7 Nb1c3 Pd7d6 Bc1e3 Pa7a...  \n",
       "99996  Pe2e4 Pc7c5 Nb1c3 Pd7d6 Pf2f4 Pg7g6 Ng1f3 Bf8g...  \n",
       "99997  Pe2e4 Pc7c6 Pd2d4 Pd7d5 Pe4d5 Pc6d5 Bf1d3 Nb8c...  \n",
       "99998  Pd2d4 Pf7f5 Pg2g3 Ng8f6 Bf1g2 Pd7d6 Ng1f3 Pg7g...  \n",
       "99999  Pe2e4 Pe7e6 Pd2d4 Pd7d5 Nb1c3 Bf8b4 Pe4e5 Pc7c...  \n",
       "\n",
       "[100000 rows x 4 columns]"
      ]
     },
     "execution_count": 3,
     "metadata": {},
     "output_type": "execute_result"
    }
   ],
   "source": [
    "elite_database = pd.read_csv(\"./data/lichess_elite_database.csv\", nrows=100000, delimiter=\";\", usecols=[\"result\", \"white_elo\", \"black_elo\", \"piece_uci\"])\n",
    "# elite_database = elite_database.sample(n = 10**7, random_state=42)\n",
    "elite_database = elite_database.dropna()\n",
    "elite_database"
   ]
  },
  {
   "cell_type": "code",
   "execution_count": 4,
   "metadata": {},
   "outputs": [],
   "source": [
    "# data_module = WeightedGamesDataModule(elite_database, test_size=0.01, num_workers=16)\n",
    "# games = list(elite_database.piece_uci)\n",
    "data_module = WeightedGamesDataModule(elite_database, batch_size=64, test_size=0.01, num_workers=12)"
   ]
  },
  {
   "cell_type": "code",
   "execution_count": 5,
   "metadata": {},
   "outputs": [
    {
     "name": "stdout",
     "output_type": "stream",
     "text": [
      "number of parameters: 4.19M\n"
     ]
    }
   ],
   "source": [
    "model_config = GPTConfig(\n",
    "    block_size=301,\n",
    "    vocab_size=len(data_module.tokenizer.vocab),\n",
    "    n_layer=4,\n",
    "    n_head=4,\n",
    "    n_embd=256,\n",
    "    bias=False,\n",
    ")\n",
    "\n",
    "pl_model = LightningGPTWeighted(model_config)\n",
    "# pl_model = LightningGPT(model_config)"
   ]
  },
  {
   "cell_type": "code",
   "execution_count": 9,
   "metadata": {},
   "outputs": [
    {
     "name": "stderr",
     "output_type": "stream",
     "text": [
      "GPU available: True (cuda), used: True\n",
      "TPU available: False, using: 0 TPU cores\n",
      "IPU available: False, using: 0 IPUs\n",
      "HPU available: False, using: 0 HPUs\n"
     ]
    }
   ],
   "source": [
    "tensorboard_logger = pl.loggers.TensorBoardLogger(save_dir=\"./lightning_logs/strong_play/\", name=f\"W1-D0.5-L0\")\n",
    "\n",
    "trainer = pl.Trainer(\n",
    "    accelerator=\"gpu\",\n",
    "    max_epochs=4,\n",
    "    callbacks=[pl.callbacks.RichProgressBar()],\n",
    "    logger=tensorboard_logger,\n",
    "    precision=32,\n",
    "    # default_root_dir=\n",
    "    # fast_dev_run=True\n",
    ")"
   ]
  },
  {
   "cell_type": "code",
   "execution_count": 10,
   "metadata": {},
   "outputs": [
    {
     "name": "stderr",
     "output_type": "stream",
     "text": [
      "LOCAL_RANK: 0 - CUDA_VISIBLE_DEVICES: [0]\n"
     ]
    },
    {
     "data": {
      "text/html": [
       "<pre style=\"white-space:pre;overflow-x:auto;line-height:normal;font-family:Menlo,'DejaVu Sans Mono',consolas,'Courier New',monospace\">┏━━━┳━━━━━━━━━━━━━━━┳━━━━━━━━━━━━━━━━━━━━┳━━━━━━━━┓\n",
       "┃<span style=\"color: #800080; text-decoration-color: #800080; font-weight: bold\">   </span>┃<span style=\"color: #800080; text-decoration-color: #800080; font-weight: bold\"> Name          </span>┃<span style=\"color: #800080; text-decoration-color: #800080; font-weight: bold\"> Type               </span>┃<span style=\"color: #800080; text-decoration-color: #800080; font-weight: bold\"> Params </span>┃\n",
       "┡━━━╇━━━━━━━━━━━━━━━╇━━━━━━━━━━━━━━━━━━━━╇━━━━━━━━┩\n",
       "│<span style=\"color: #7f7f7f; text-decoration-color: #7f7f7f\"> 0 </span>│ model         │ GPT                │  4.3 M │\n",
       "│<span style=\"color: #7f7f7f; text-decoration-color: #7f7f7f\"> 1 </span>│ test_accuracy │ MulticlassAccuracy │      0 │\n",
       "└───┴───────────────┴────────────────────┴────────┘\n",
       "</pre>\n"
      ],
      "text/plain": [
       "┏━━━┳━━━━━━━━━━━━━━━┳━━━━━━━━━━━━━━━━━━━━┳━━━━━━━━┓\n",
       "┃\u001b[1;35m \u001b[0m\u001b[1;35m \u001b[0m\u001b[1;35m \u001b[0m┃\u001b[1;35m \u001b[0m\u001b[1;35mName         \u001b[0m\u001b[1;35m \u001b[0m┃\u001b[1;35m \u001b[0m\u001b[1;35mType              \u001b[0m\u001b[1;35m \u001b[0m┃\u001b[1;35m \u001b[0m\u001b[1;35mParams\u001b[0m\u001b[1;35m \u001b[0m┃\n",
       "┡━━━╇━━━━━━━━━━━━━━━╇━━━━━━━━━━━━━━━━━━━━╇━━━━━━━━┩\n",
       "│\u001b[2m \u001b[0m\u001b[2m0\u001b[0m\u001b[2m \u001b[0m│ model         │ GPT                │  4.3 M │\n",
       "│\u001b[2m \u001b[0m\u001b[2m1\u001b[0m\u001b[2m \u001b[0m│ test_accuracy │ MulticlassAccuracy │      0 │\n",
       "└───┴───────────────┴────────────────────┴────────┘\n"
      ]
     },
     "metadata": {},
     "output_type": "display_data"
    },
    {
     "data": {
      "text/html": [
       "<pre style=\"white-space:pre;overflow-x:auto;line-height:normal;font-family:Menlo,'DejaVu Sans Mono',consolas,'Courier New',monospace\"><span style=\"font-weight: bold\">Trainable params</span>: 4.3 M                                                                                            \n",
       "<span style=\"font-weight: bold\">Non-trainable params</span>: 0                                                                                            \n",
       "<span style=\"font-weight: bold\">Total params</span>: 4.3 M                                                                                                \n",
       "<span style=\"font-weight: bold\">Total estimated model params size (MB)</span>: 17                                                                         \n",
       "</pre>\n"
      ],
      "text/plain": [
       "\u001b[1mTrainable params\u001b[0m: 4.3 M                                                                                            \n",
       "\u001b[1mNon-trainable params\u001b[0m: 0                                                                                            \n",
       "\u001b[1mTotal params\u001b[0m: 4.3 M                                                                                                \n",
       "\u001b[1mTotal estimated model params size (MB)\u001b[0m: 17                                                                         \n"
      ]
     },
     "metadata": {},
     "output_type": "display_data"
    },
    {
     "data": {
      "application/vnd.jupyter.widget-view+json": {
       "model_id": "3a439b2b485440c9b0be3daca8368ca3",
       "version_major": 2,
       "version_minor": 0
      },
      "text/plain": [
       "Output()"
      ]
     },
     "metadata": {},
     "output_type": "display_data"
    },
    {
     "data": {
      "text/html": [
       "<pre style=\"white-space:pre;overflow-x:auto;line-height:normal;font-family:Menlo,'DejaVu Sans Mono',consolas,'Courier New',monospace\"></pre>\n"
      ],
      "text/plain": []
     },
     "metadata": {},
     "output_type": "display_data"
    },
    {
     "data": {
      "text/html": [
       "<pre style=\"white-space:pre;overflow-x:auto;line-height:normal;font-family:Menlo,'DejaVu Sans Mono',consolas,'Courier New',monospace\">\n",
       "</pre>\n"
      ],
      "text/plain": [
       "\n"
      ]
     },
     "metadata": {},
     "output_type": "display_data"
    }
   ],
   "source": [
    "trainer.fit(\n",
    "    model=pl_model,\n",
    "    datamodule=data_module,\n",
    ")"
   ]
  }
 ],
 "metadata": {
  "kernelspec": {
   "display_name": "Python 3 (ipykernel)",
   "language": "python",
   "name": "python3"
  },
  "language_info": {
   "codemirror_mode": {
    "name": "ipython",
    "version": 3
   },
   "file_extension": ".py",
   "mimetype": "text/x-python",
   "name": "python",
   "nbconvert_exporter": "python",
   "pygments_lexer": "ipython3",
   "version": "3.12.2"
  }
 },
 "nbformat": 4,
 "nbformat_minor": 2
}

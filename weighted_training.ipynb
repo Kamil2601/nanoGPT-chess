{
 "cells": [
  {
   "cell_type": "code",
   "execution_count": 6,
   "metadata": {},
   "outputs": [],
   "source": [
    "%reload_ext autoreload\n",
    "%autoreload 2"
   ]
  },
  {
   "cell_type": "code",
   "execution_count": 9,
   "metadata": {},
   "outputs": [],
   "source": [
    "import pandas as pd\n",
    "import torch\n",
    "from nanoGPT.model import GPTConfig\n",
    "from lightning_training import *"
   ]
  },
  {
   "cell_type": "code",
   "execution_count": 10,
   "metadata": {},
   "outputs": [
    {
     "data": {
      "text/plain": [
       "True"
      ]
     },
     "execution_count": 10,
     "metadata": {},
     "output_type": "execute_result"
    }
   ],
   "source": [
    "torch.cuda.is_available()"
   ]
  },
  {
   "cell_type": "code",
   "execution_count": 11,
   "metadata": {},
   "outputs": [
    {
     "data": {
      "text/html": [
       "<div>\n",
       "<style scoped>\n",
       "    .dataframe tbody tr th:only-of-type {\n",
       "        vertical-align: middle;\n",
       "    }\n",
       "\n",
       "    .dataframe tbody tr th {\n",
       "        vertical-align: top;\n",
       "    }\n",
       "\n",
       "    .dataframe thead th {\n",
       "        text-align: right;\n",
       "    }\n",
       "</style>\n",
       "<table border=\"1\" class=\"dataframe\">\n",
       "  <thead>\n",
       "    <tr style=\"text-align: right;\">\n",
       "      <th></th>\n",
       "      <th>white_elo</th>\n",
       "      <th>black_elo</th>\n",
       "      <th>result</th>\n",
       "      <th>piece_uci</th>\n",
       "    </tr>\n",
       "  </thead>\n",
       "  <tbody>\n",
       "    <tr>\n",
       "      <th>0</th>\n",
       "      <td>2271</td>\n",
       "      <td>2428</td>\n",
       "      <td>1-0</td>\n",
       "      <td>Pd2d4 Ng8f6 Pc2c4 Pe7e6 Nb1c3 Bf8b4 Ng1f3 Ke8g...</td>\n",
       "    </tr>\n",
       "    <tr>\n",
       "      <th>1</th>\n",
       "      <td>2271</td>\n",
       "      <td>2428</td>\n",
       "      <td>1-0</td>\n",
       "      <td>Pd2d4 Ng8f6 Pc2c4 Pe7e6 Nb1c3 Bf8b4 Ng1f3 Ke8g...</td>\n",
       "    </tr>\n",
       "    <tr>\n",
       "      <th>2</th>\n",
       "      <td>2423</td>\n",
       "      <td>2438</td>\n",
       "      <td>1-0</td>\n",
       "      <td>Pd2d4 Ng8f6 Pc2c4 Pc7c6 Nb1c3 Pd7d5 Pe2e3 Pe7e...</td>\n",
       "    </tr>\n",
       "    <tr>\n",
       "      <th>3</th>\n",
       "      <td>2439</td>\n",
       "      <td>2276</td>\n",
       "      <td>1-0</td>\n",
       "      <td>Pe2e4 Pd7d5 Pe4d5 Ng8f6 Pc2c4 Pc7c6 Pd2d4 Pc6d...</td>\n",
       "    </tr>\n",
       "    <tr>\n",
       "      <th>4</th>\n",
       "      <td>2347</td>\n",
       "      <td>2430</td>\n",
       "      <td>1-0</td>\n",
       "      <td>Pd2d4 Pd7d5 Pc2c4 Pc7c6 Pc4d5 Pc6d5 Nb1c3 Nb8c...</td>\n",
       "    </tr>\n",
       "    <tr>\n",
       "      <th>...</th>\n",
       "      <td>...</td>\n",
       "      <td>...</td>\n",
       "      <td>...</td>\n",
       "      <td>...</td>\n",
       "    </tr>\n",
       "    <tr>\n",
       "      <th>99995</th>\n",
       "      <td>2285</td>\n",
       "      <td>2433</td>\n",
       "      <td>1-0</td>\n",
       "      <td>Pd2d4 Pg7g6 Pe2e4 Bf8g7 Nb1c3 Pd7d6 Bc1e3 Pa7a...</td>\n",
       "    </tr>\n",
       "    <tr>\n",
       "      <th>99996</th>\n",
       "      <td>2503</td>\n",
       "      <td>2508</td>\n",
       "      <td>1-0</td>\n",
       "      <td>Pe2e4 Pc7c5 Nb1c3 Pd7d6 Pf2f4 Pg7g6 Ng1f3 Bf8g...</td>\n",
       "    </tr>\n",
       "    <tr>\n",
       "      <th>99997</th>\n",
       "      <td>2310</td>\n",
       "      <td>2452</td>\n",
       "      <td>0-1</td>\n",
       "      <td>Pe2e4 Pc7c6 Pd2d4 Pd7d5 Pe4d5 Pc6d5 Bf1d3 Nb8c...</td>\n",
       "    </tr>\n",
       "    <tr>\n",
       "      <th>99998</th>\n",
       "      <td>2450</td>\n",
       "      <td>2312</td>\n",
       "      <td>1-0</td>\n",
       "      <td>Pd2d4 Pf7f5 Pg2g3 Ng8f6 Bf1g2 Pd7d6 Ng1f3 Pg7g...</td>\n",
       "    </tr>\n",
       "    <tr>\n",
       "      <th>99999</th>\n",
       "      <td>2639</td>\n",
       "      <td>2584</td>\n",
       "      <td>1-0</td>\n",
       "      <td>Pe2e4 Pe7e6 Pd2d4 Pd7d5 Nb1c3 Bf8b4 Pe4e5 Pc7c...</td>\n",
       "    </tr>\n",
       "  </tbody>\n",
       "</table>\n",
       "<p>100000 rows × 4 columns</p>\n",
       "</div>"
      ],
      "text/plain": [
       "       white_elo  black_elo result  \\\n",
       "0           2271       2428    1-0   \n",
       "1           2271       2428    1-0   \n",
       "2           2423       2438    1-0   \n",
       "3           2439       2276    1-0   \n",
       "4           2347       2430    1-0   \n",
       "...          ...        ...    ...   \n",
       "99995       2285       2433    1-0   \n",
       "99996       2503       2508    1-0   \n",
       "99997       2310       2452    0-1   \n",
       "99998       2450       2312    1-0   \n",
       "99999       2639       2584    1-0   \n",
       "\n",
       "                                               piece_uci  \n",
       "0      Pd2d4 Ng8f6 Pc2c4 Pe7e6 Nb1c3 Bf8b4 Ng1f3 Ke8g...  \n",
       "1      Pd2d4 Ng8f6 Pc2c4 Pe7e6 Nb1c3 Bf8b4 Ng1f3 Ke8g...  \n",
       "2      Pd2d4 Ng8f6 Pc2c4 Pc7c6 Nb1c3 Pd7d5 Pe2e3 Pe7e...  \n",
       "3      Pe2e4 Pd7d5 Pe4d5 Ng8f6 Pc2c4 Pc7c6 Pd2d4 Pc6d...  \n",
       "4      Pd2d4 Pd7d5 Pc2c4 Pc7c6 Pc4d5 Pc6d5 Nb1c3 Nb8c...  \n",
       "...                                                  ...  \n",
       "99995  Pd2d4 Pg7g6 Pe2e4 Bf8g7 Nb1c3 Pd7d6 Bc1e3 Pa7a...  \n",
       "99996  Pe2e4 Pc7c5 Nb1c3 Pd7d6 Pf2f4 Pg7g6 Ng1f3 Bf8g...  \n",
       "99997  Pe2e4 Pc7c6 Pd2d4 Pd7d5 Pe4d5 Pc6d5 Bf1d3 Nb8c...  \n",
       "99998  Pd2d4 Pf7f5 Pg2g3 Ng8f6 Bf1g2 Pd7d6 Ng1f3 Pg7g...  \n",
       "99999  Pe2e4 Pe7e6 Pd2d4 Pd7d5 Nb1c3 Bf8b4 Pe4e5 Pc7c...  \n",
       "\n",
       "[100000 rows x 4 columns]"
      ]
     },
     "execution_count": 11,
     "metadata": {},
     "output_type": "execute_result"
    }
   ],
   "source": [
    "elite_database = pd.read_csv(\"./data/lichess_elite_database_2.csv\", nrows=100000, delimiter=\";\", usecols=[\"result\", \"white_elo\", \"black_elo\", \"piece_uci\"])\n",
    "# elite_database = elite_database.sample(n = 10**7, random_state=42)\n",
    "elite_database"
   ]
  },
  {
   "cell_type": "code",
   "execution_count": 12,
   "metadata": {},
   "outputs": [],
   "source": [
    "# data_module = WeightedGamesDataModule(elite_database, test_size=0.01, num_workers=16)\n",
    "games = list(elite_database.piece_uci)\n",
    "data_module = GamesDataModule(games, batch_size=64, test_size=0.01, num_workers=12)"
   ]
  },
  {
   "cell_type": "code",
   "execution_count": 13,
   "metadata": {},
   "outputs": [
    {
     "name": "stdout",
     "output_type": "stream",
     "text": [
      "number of parameters: 4.19M\n"
     ]
    }
   ],
   "source": [
    "model_config = GPTConfig(\n",
    "    block_size=301,\n",
    "    vocab_size=len(data_module.tokenizer.vocab),\n",
    "    n_layer=4,\n",
    "    n_head=4,\n",
    "    n_embd=256,\n",
    "    bias=False,\n",
    ")\n",
    "\n",
    "# pl_model = LightningGPTWeighted(model_config)\n",
    "pl_model = LightningGPT(model_config)"
   ]
  },
  {
   "cell_type": "code",
   "execution_count": 14,
   "metadata": {},
   "outputs": [
    {
     "data": {
      "text/plain": [
       "True"
      ]
     },
     "execution_count": 14,
     "metadata": {},
     "output_type": "execute_result"
    }
   ],
   "source": [
    "torch.cuda.is_available()"
   ]
  },
  {
   "cell_type": "code",
   "execution_count": 17,
   "metadata": {},
   "outputs": [
    {
     "ename": "ModuleNotFoundError",
     "evalue": "`RichProgressBar` requires `rich` >= 10.2.2. Install it by running `pip install -U rich`.",
     "output_type": "error",
     "traceback": [
      "\u001b[0;31m---------------------------------------------------------------------------\u001b[0m",
      "\u001b[0;31mModuleNotFoundError\u001b[0m                       Traceback (most recent call last)",
      "Cell \u001b[0;32mIn[17], line 6\u001b[0m\n\u001b[1;32m      1\u001b[0m tensorboard_logger \u001b[38;5;241m=\u001b[39m pl\u001b[38;5;241m.\u001b[39mloggers\u001b[38;5;241m.\u001b[39mTensorBoardLogger(save_dir\u001b[38;5;241m=\u001b[39m\u001b[38;5;124m\"\u001b[39m\u001b[38;5;124m./lightning_logs/strong_play/\u001b[39m\u001b[38;5;124m\"\u001b[39m, name\u001b[38;5;241m=\u001b[39m\u001b[38;5;124mf\u001b[39m\u001b[38;5;124m\"\u001b[39m\u001b[38;5;124mW1-D0.5-L0\u001b[39m\u001b[38;5;124m\"\u001b[39m)\n\u001b[1;32m      3\u001b[0m trainer \u001b[38;5;241m=\u001b[39m pl\u001b[38;5;241m.\u001b[39mTrainer(\n\u001b[1;32m      4\u001b[0m     accelerator\u001b[38;5;241m=\u001b[39m\u001b[38;5;124m\"\u001b[39m\u001b[38;5;124mgpu\u001b[39m\u001b[38;5;124m\"\u001b[39m,\n\u001b[1;32m      5\u001b[0m     max_epochs\u001b[38;5;241m=\u001b[39m\u001b[38;5;241m4\u001b[39m,\n\u001b[0;32m----> 6\u001b[0m     callbacks\u001b[38;5;241m=\u001b[39m[\u001b[43mpl\u001b[49m\u001b[38;5;241;43m.\u001b[39;49m\u001b[43mcallbacks\u001b[49m\u001b[38;5;241;43m.\u001b[39;49m\u001b[43mRichProgressBar\u001b[49m\u001b[43m(\u001b[49m\u001b[43m)\u001b[49m],\n\u001b[1;32m      7\u001b[0m     logger\u001b[38;5;241m=\u001b[39mtensorboard_logger,\n\u001b[1;32m      8\u001b[0m     \u001b[38;5;66;03m# default_root_dir=\u001b[39;00m\n\u001b[1;32m      9\u001b[0m     \u001b[38;5;66;03m# fast_dev_run=True\u001b[39;00m\n\u001b[1;32m     10\u001b[0m )\n",
      "File \u001b[0;32m~/miniconda3/envs/pytorch_older/lib/python3.10/site-packages/pytorch_lightning/callbacks/progress/rich_progress.py:266\u001b[0m, in \u001b[0;36mRichProgressBar.__init__\u001b[0;34m(self, refresh_rate, leave, theme, console_kwargs)\u001b[0m\n\u001b[1;32m    258\u001b[0m \u001b[38;5;28;01mdef\u001b[39;00m \u001b[38;5;21m__init__\u001b[39m(\n\u001b[1;32m    259\u001b[0m     \u001b[38;5;28mself\u001b[39m,\n\u001b[1;32m    260\u001b[0m     refresh_rate: \u001b[38;5;28mint\u001b[39m \u001b[38;5;241m=\u001b[39m \u001b[38;5;241m1\u001b[39m,\n\u001b[0;32m   (...)\u001b[0m\n\u001b[1;32m    263\u001b[0m     console_kwargs: Optional[Dict[\u001b[38;5;28mstr\u001b[39m, Any]] \u001b[38;5;241m=\u001b[39m \u001b[38;5;28;01mNone\u001b[39;00m,\n\u001b[1;32m    264\u001b[0m ) \u001b[38;5;241m-\u001b[39m\u001b[38;5;241m>\u001b[39m \u001b[38;5;28;01mNone\u001b[39;00m:\n\u001b[1;32m    265\u001b[0m     \u001b[38;5;28;01mif\u001b[39;00m \u001b[38;5;129;01mnot\u001b[39;00m _RICH_AVAILABLE:\n\u001b[0;32m--> 266\u001b[0m         \u001b[38;5;28;01mraise\u001b[39;00m \u001b[38;5;167;01mModuleNotFoundError\u001b[39;00m(\n\u001b[1;32m    267\u001b[0m             \u001b[38;5;124m\"\u001b[39m\u001b[38;5;124m`RichProgressBar` requires `rich` >= 10.2.2. Install it by running `pip install -U rich`.\u001b[39m\u001b[38;5;124m\"\u001b[39m\n\u001b[1;32m    268\u001b[0m         )\n\u001b[1;32m    270\u001b[0m     \u001b[38;5;28msuper\u001b[39m()\u001b[38;5;241m.\u001b[39m\u001b[38;5;21m__init__\u001b[39m()\n\u001b[1;32m    271\u001b[0m     \u001b[38;5;28mself\u001b[39m\u001b[38;5;241m.\u001b[39m_refresh_rate: \u001b[38;5;28mint\u001b[39m \u001b[38;5;241m=\u001b[39m refresh_rate\n",
      "\u001b[0;31mModuleNotFoundError\u001b[0m: `RichProgressBar` requires `rich` >= 10.2.2. Install it by running `pip install -U rich`."
     ]
    }
   ],
   "source": [
    "tensorboard_logger = pl.loggers.TensorBoardLogger(save_dir=\"./lightning_logs/strong_play/\", name=f\"W1-D0.5-L0\")\n",
    "\n",
    "trainer = pl.Trainer(\n",
    "    accelerator=\"gpu\",\n",
    "    max_epochs=4,\n",
    "    # callbacks=[pl.callbacks.RichProgressBar()],\n",
    "    logger=tensorboard_logger,\n",
    "    # default_root_dir=\n",
    "    # fast_dev_run=True\n",
    ")"
   ]
  },
  {
   "cell_type": "code",
   "execution_count": 16,
   "metadata": {},
   "outputs": [
    {
     "ename": "NameError",
     "evalue": "name 'trainer' is not defined",
     "output_type": "error",
     "traceback": [
      "\u001b[0;31m---------------------------------------------------------------------------\u001b[0m",
      "\u001b[0;31mNameError\u001b[0m                                 Traceback (most recent call last)",
      "Cell \u001b[0;32mIn[16], line 1\u001b[0m\n\u001b[0;32m----> 1\u001b[0m \u001b[43mtrainer\u001b[49m\u001b[38;5;241m.\u001b[39mfit(\n\u001b[1;32m      2\u001b[0m     model\u001b[38;5;241m=\u001b[39mpl_model,\n\u001b[1;32m      3\u001b[0m     datamodule\u001b[38;5;241m=\u001b[39mdata_module,\n\u001b[1;32m      4\u001b[0m )\n",
      "\u001b[0;31mNameError\u001b[0m: name 'trainer' is not defined"
     ]
    }
   ],
   "source": [
    "trainer.fit(\n",
    "    model=pl_model,\n",
    "    datamodule=data_module,\n",
    ")"
   ]
  },
  {
   "cell_type": "code",
   "execution_count": 15,
   "metadata": {},
   "outputs": [
    {
     "data": {
      "text/plain": [
       "False"
      ]
     },
     "execution_count": 15,
     "metadata": {},
     "output_type": "execute_result"
    }
   ],
   "source": [
    "torch.cuda.is_available()"
   ]
  },
  {
   "cell_type": "code",
   "execution_count": 19,
   "metadata": {},
   "outputs": [],
   "source": [
    "data_loader = data_module.train_dataloader()\n",
    "model = pl_model.model\n",
    "model.cuda()\n",
    "optimizer = torch.optim.AdamW(model.parameters(), lr=1e-3)"
   ]
  },
  {
   "cell_type": "code",
   "execution_count": 21,
   "metadata": {},
   "outputs": [
    {
     "name": "stdout",
     "output_type": "stream",
     "text": [
      "0\n",
      "1\n",
      "2\n",
      "3\n",
      "4\n",
      "5\n",
      "6\n",
      "7\n",
      "8\n",
      "9\n",
      "10\n",
      "11\n",
      "12\n",
      "13\n",
      "14\n",
      "15\n",
      "16\n",
      "17\n",
      "18\n",
      "19\n",
      "20\n",
      "21\n",
      "22\n",
      "23\n",
      "24\n",
      "25\n",
      "26\n",
      "27\n",
      "28\n",
      "29\n",
      "30\n",
      "31\n",
      "32\n",
      "33\n",
      "34\n",
      "35\n",
      "36\n",
      "37\n",
      "38\n",
      "39\n",
      "40\n",
      "41\n",
      "42\n",
      "43\n",
      "44\n",
      "45\n",
      "46\n",
      "47\n",
      "48\n",
      "49\n",
      "50\n",
      "51\n",
      "52\n",
      "53\n",
      "54\n",
      "55\n",
      "56\n",
      "57\n",
      "58\n",
      "59\n",
      "60\n",
      "61\n",
      "62\n",
      "63\n",
      "64\n",
      "65\n",
      "66\n",
      "67\n"
     ]
    },
    {
     "ename": "KeyboardInterrupt",
     "evalue": "",
     "output_type": "error",
     "traceback": [
      "\u001b[0;31m---------------------------------------------------------------------------\u001b[0m",
      "\u001b[0;31mKeyboardInterrupt\u001b[0m                         Traceback (most recent call last)",
      "Cell \u001b[0;32mIn[21], line 4\u001b[0m\n\u001b[1;32m      2\u001b[0m \u001b[38;5;28mprint\u001b[39m(i)\n\u001b[1;32m      3\u001b[0m optimizer\u001b[38;5;241m.\u001b[39mzero_grad()\n\u001b[0;32m----> 4\u001b[0m x \u001b[38;5;241m=\u001b[39m \u001b[43mx\u001b[49m\u001b[38;5;241;43m.\u001b[39;49m\u001b[43mcuda\u001b[49m\u001b[43m(\u001b[49m\u001b[43m)\u001b[49m\n\u001b[1;32m      5\u001b[0m y \u001b[38;5;241m=\u001b[39m y\u001b[38;5;241m.\u001b[39mcuda()\n\u001b[1;32m      6\u001b[0m out, loss \u001b[38;5;241m=\u001b[39m model(x, y)\n",
      "\u001b[0;31mKeyboardInterrupt\u001b[0m: "
     ]
    }
   ],
   "source": [
    "for i, (x, y) in enumerate(data_loader):\n",
    "    print(i)\n",
    "    optimizer.zero_grad()\n",
    "    x = x.cuda()\n",
    "    y = y.cuda()\n",
    "    out, loss = model(x, y)\n",
    "    loss.backward()\n",
    "    optimizer.step()\n",
    "\n"
   ]
  },
  {
   "cell_type": "code",
   "execution_count": null,
   "metadata": {},
   "outputs": [],
   "source": []
  }
 ],
 "metadata": {
  "kernelspec": {
   "display_name": "python",
   "language": "python",
   "name": "python3"
  },
  "language_info": {
   "codemirror_mode": {
    "name": "ipython",
    "version": 3
   },
   "file_extension": ".py",
   "mimetype": "text/x-python",
   "name": "python",
   "nbconvert_exporter": "python",
   "pygments_lexer": "ipython3",
   "version": "3.10.14"
  }
 },
 "nbformat": 4,
 "nbformat_minor": 2
}

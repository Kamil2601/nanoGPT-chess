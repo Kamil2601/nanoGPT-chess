{
 "cells": [
  {
   "cell_type": "code",
   "execution_count": 1,
   "metadata": {},
   "outputs": [],
   "source": [
    "import pandas as pd\n",
    "import matplotlib.pyplot as plt\n",
    "from data_process import tokenizers, utils\n",
    "from nanoGPT.model import  GPT, GPTConfig\n",
    "from lightning_training import LightningGPT, GamesDataModule, GamesDataset\n",
    "import pytorch_lightning as pl\n",
    "import torch\n",
    "import os\n",
    "import numpy as np\n",
    "import seaborn as sns"
   ]
  },
  {
   "cell_type": "code",
   "execution_count": null,
   "metadata": {},
   "outputs": [
    {
     "data": {
      "text/html": [
       "<div>\n",
       "<style scoped>\n",
       "    .dataframe tbody tr th:only-of-type {\n",
       "        vertical-align: middle;\n",
       "    }\n",
       "\n",
       "    .dataframe tbody tr th {\n",
       "        vertical-align: top;\n",
       "    }\n",
       "\n",
       "    .dataframe thead th {\n",
       "        text-align: right;\n",
       "    }\n",
       "</style>\n",
       "<table border=\"1\" class=\"dataframe\">\n",
       "  <thead>\n",
       "    <tr style=\"text-align: right;\">\n",
       "      <th></th>\n",
       "      <th>index</th>\n",
       "      <th>id</th>\n",
       "      <th>date</th>\n",
       "      <th>white_elo</th>\n",
       "      <th>black_elo</th>\n",
       "      <th>result</th>\n",
       "      <th>ply</th>\n",
       "      <th>ply_30s</th>\n",
       "      <th>piece_uci</th>\n",
       "    </tr>\n",
       "  </thead>\n",
       "  <tbody>\n",
       "    <tr>\n",
       "      <th>75721</th>\n",
       "      <td>99034768</td>\n",
       "      <td>j8dut9JL</td>\n",
       "      <td>2025.01.31</td>\n",
       "      <td>2425</td>\n",
       "      <td>2427</td>\n",
       "      <td>1-0</td>\n",
       "      <td>85</td>\n",
       "      <td>68</td>\n",
       "      <td>Pd2d4 Ng8f6 Ng1f3 Pc7c5 Pe2e3 Pb7b6 Bf1d3 Bc8b...</td>\n",
       "    </tr>\n",
       "    <tr>\n",
       "      <th>80184</th>\n",
       "      <td>7380677</td>\n",
       "      <td>UMIvcBzB</td>\n",
       "      <td>2024.12.03</td>\n",
       "      <td>1919</td>\n",
       "      <td>2020</td>\n",
       "      <td>1-0</td>\n",
       "      <td>67</td>\n",
       "      <td>47</td>\n",
       "      <td>Pd2d4 Ng8f6 Nb1c3 Pc7c5 Pd4d5 Pd7d6 Pe2e4 Pg7g...</td>\n",
       "    </tr>\n",
       "    <tr>\n",
       "      <th>19864</th>\n",
       "      <td>14462158</td>\n",
       "      <td>RP3reGqr</td>\n",
       "      <td>2024.12.05</td>\n",
       "      <td>2135</td>\n",
       "      <td>2144</td>\n",
       "      <td>1-0</td>\n",
       "      <td>41</td>\n",
       "      <td>-1</td>\n",
       "      <td>Ng1f3 Pc7c6 Pg2g3 Pd7d5 Pd2d3 Pe7e6 Bf1g2 Bf8d...</td>\n",
       "    </tr>\n",
       "    <tr>\n",
       "      <th>76699</th>\n",
       "      <td>99355390</td>\n",
       "      <td>OC9pukWM</td>\n",
       "      <td>2025.01.31</td>\n",
       "      <td>2402</td>\n",
       "      <td>2433</td>\n",
       "      <td>1-0</td>\n",
       "      <td>53</td>\n",
       "      <td>-1</td>\n",
       "      <td>Pc2c4 Pe7e6 Nb1c3 Pd7d5 Pd2d4 Pc7c5 Pc4d5 Pe6d...</td>\n",
       "    </tr>\n",
       "    <tr>\n",
       "      <th>92991</th>\n",
       "      <td>14089339</td>\n",
       "      <td>BL4die9s</td>\n",
       "      <td>2024.12.05</td>\n",
       "      <td>1200</td>\n",
       "      <td>1143</td>\n",
       "      <td>1-0</td>\n",
       "      <td>45</td>\n",
       "      <td>-1</td>\n",
       "      <td>Pe2e4 Pd7d5 Pe4d5 Qd8d5 Nb1c3 Qd5d8 Ng1f3 Pa7a...</td>\n",
       "    </tr>\n",
       "    <tr>\n",
       "      <th>...</th>\n",
       "      <td>...</td>\n",
       "      <td>...</td>\n",
       "      <td>...</td>\n",
       "      <td>...</td>\n",
       "      <td>...</td>\n",
       "      <td>...</td>\n",
       "      <td>...</td>\n",
       "      <td>...</td>\n",
       "      <td>...</td>\n",
       "    </tr>\n",
       "    <tr>\n",
       "      <th>16783</th>\n",
       "      <td>14423585</td>\n",
       "      <td>b9vqZyEs</td>\n",
       "      <td>2024.12.05</td>\n",
       "      <td>2211</td>\n",
       "      <td>2071</td>\n",
       "      <td>1-0</td>\n",
       "      <td>143</td>\n",
       "      <td>113</td>\n",
       "      <td>Pd2d4 Ng8f6 Ng1f3 Pd7d5 Bc1f4 Pe7e6 Pe2e3 Bf8d...</td>\n",
       "    </tr>\n",
       "    <tr>\n",
       "      <th>41130</th>\n",
       "      <td>6322263</td>\n",
       "      <td>x8pAAmBC</td>\n",
       "      <td>2024.12.03</td>\n",
       "      <td>1466</td>\n",
       "      <td>1821</td>\n",
       "      <td>0-1</td>\n",
       "      <td>24</td>\n",
       "      <td>-1</td>\n",
       "      <td>Pe2e4 Pc7c5 Ng1f3 Pe7e6 Pc2c4 Pd7d5 Pe4d5 Pe6d...</td>\n",
       "    </tr>\n",
       "    <tr>\n",
       "      <th>78318</th>\n",
       "      <td>99740146</td>\n",
       "      <td>nx1hgLAd</td>\n",
       "      <td>2025.01.31</td>\n",
       "      <td>2577</td>\n",
       "      <td>2555</td>\n",
       "      <td>1-0</td>\n",
       "      <td>61</td>\n",
       "      <td>-1</td>\n",
       "      <td>Ng1f3 Ng8f6 Pg2g3 Pb7b6 Bf1g2 Bc8b7 Ke1g1 Pc7c...</td>\n",
       "    </tr>\n",
       "    <tr>\n",
       "      <th>72169</th>\n",
       "      <td>98073269</td>\n",
       "      <td>6E54p2aw</td>\n",
       "      <td>2025.01.31</td>\n",
       "      <td>2500</td>\n",
       "      <td>2500</td>\n",
       "      <td>1-0</td>\n",
       "      <td>65</td>\n",
       "      <td>55</td>\n",
       "      <td>Pe2e4 Pg7g6 Pd2d4 Bf8g7 Nb1c3 Pd7d6 Bc1e3 Pc7c...</td>\n",
       "    </tr>\n",
       "    <tr>\n",
       "      <th>4151</th>\n",
       "      <td>93634</td>\n",
       "      <td>?</td>\n",
       "      <td>2021.12.07</td>\n",
       "      <td>2634</td>\n",
       "      <td>2662</td>\n",
       "      <td>1-0</td>\n",
       "      <td>111</td>\n",
       "      <td>-1</td>\n",
       "      <td>Pe2e4 Pe7e6 Pd2d4 Pd7d5 Pe4d5 Pe6d5 Pc2c4 Nb8c...</td>\n",
       "    </tr>\n",
       "  </tbody>\n",
       "</table>\n",
       "<p>1000 rows × 9 columns</p>\n",
       "</div>"
      ],
      "text/plain": [
       "          index        id        date  white_elo  black_elo result  ply  \\\n",
       "75721  99034768  j8dut9JL  2025.01.31       2425       2427    1-0   85   \n",
       "80184   7380677  UMIvcBzB  2024.12.03       1919       2020    1-0   67   \n",
       "19864  14462158  RP3reGqr  2024.12.05       2135       2144    1-0   41   \n",
       "76699  99355390  OC9pukWM  2025.01.31       2402       2433    1-0   53   \n",
       "92991  14089339  BL4die9s  2024.12.05       1200       1143    1-0   45   \n",
       "...         ...       ...         ...        ...        ...    ...  ...   \n",
       "16783  14423585  b9vqZyEs  2024.12.05       2211       2071    1-0  143   \n",
       "41130   6322263  x8pAAmBC  2024.12.03       1466       1821    0-1   24   \n",
       "78318  99740146  nx1hgLAd  2025.01.31       2577       2555    1-0   61   \n",
       "72169  98073269  6E54p2aw  2025.01.31       2500       2500    1-0   65   \n",
       "4151      93634         ?  2021.12.07       2634       2662    1-0  111   \n",
       "\n",
       "       ply_30s                                          piece_uci  \n",
       "75721       68  Pd2d4 Ng8f6 Ng1f3 Pc7c5 Pe2e3 Pb7b6 Bf1d3 Bc8b...  \n",
       "80184       47  Pd2d4 Ng8f6 Nb1c3 Pc7c5 Pd4d5 Pd7d6 Pe2e4 Pg7g...  \n",
       "19864       -1  Ng1f3 Pc7c6 Pg2g3 Pd7d5 Pd2d3 Pe7e6 Bf1g2 Bf8d...  \n",
       "76699       -1  Pc2c4 Pe7e6 Nb1c3 Pd7d5 Pd2d4 Pc7c5 Pc4d5 Pe6d...  \n",
       "92991       -1  Pe2e4 Pd7d5 Pe4d5 Qd8d5 Nb1c3 Qd5d8 Ng1f3 Pa7a...  \n",
       "...        ...                                                ...  \n",
       "16783      113  Pd2d4 Ng8f6 Ng1f3 Pd7d5 Bc1f4 Pe7e6 Pe2e3 Bf8d...  \n",
       "41130       -1  Pe2e4 Pc7c5 Ng1f3 Pe7e6 Pc2c4 Pd7d5 Pe4d5 Pe6d...  \n",
       "78318       -1  Ng1f3 Ng8f6 Pg2g3 Pb7b6 Bf1g2 Bc8b7 Ke1g1 Pc7c...  \n",
       "72169       55  Pe2e4 Pg7g6 Pd2d4 Bf8g7 Nb1c3 Pd7d6 Bc1e3 Pc7c...  \n",
       "4151        -1  Pe2e4 Pe7e6 Pd2d4 Pd7d5 Pe4d5 Pe6d5 Pc2c4 Nb8c...  \n",
       "\n",
       "[1000 rows x 9 columns]"
      ]
     },
     "execution_count": 2,
     "metadata": {},
     "output_type": "execute_result"
    }
   ],
   "source": [
    "headers = [\"index\", \"id\", \"date\", \"white_elo\", \"black_elo\", \"result\", \"ply\", \"ply_30s\", \"piece_uci\"]\n",
    "\n",
    "games_df = pd.read_csv(\"./data/test.csv\", delimiter=\";\", header=None, names=headers)\n",
    "\n",
    "games_df['piece_uci'] = utils.remove_material_tokens(games_df['piece_uci'])\n",
    "\n",
    "games_df = games_df.sample(frac=0.1, random_state=42)\n",
    "\n",
    "games_df"
   ]
  },
  {
   "cell_type": "code",
   "execution_count": 3,
   "metadata": {},
   "outputs": [
    {
     "data": {
      "image/png": "[encoded data removed]",
      "text/plain": [
       "<Figure size 1000x500 with 1 Axes>"
      ]
     },
     "metadata": {},
     "output_type": "display_data"
    }
   ],
   "source": [
    "white_elo_bins = games_df.white_elo // 100 * 100\n",
    "black_elo_bins = games_df.black_elo // 100 * 100\n",
    "\n",
    "data = pd.DataFrame({\n",
    "    'Elo Bin': list(white_elo_bins) + list(black_elo_bins),\n",
    "    'Type': ['White'] * len(white_elo_bins) + ['Black'] * len(black_elo_bins)\n",
    "})\n",
    "\n",
    "plt.figure(figsize=(10, 5))\n",
    "sns.countplot(data=data, x='Elo Bin', hue='Type', palette=['blue', 'black'])\n",
    "plt.xticks(rotation=45)\n",
    "plt.xlabel(\"Elo Bins\")\n",
    "plt.ylabel(\"Count\")\n",
    "plt.title(\"Count of White and Black Elo Ratings by Bin\")\n",
    "plt.show()"
   ]
  },
  {
   "cell_type": "code",
   "execution_count": 22,
   "metadata": {},
   "outputs": [
    {
     "name": "stdout",
     "output_type": "stream",
     "text": [
      "number of parameters: 27.29M\n",
      "number of parameters: 27.29M\n"
     ]
    }
   ],
   "source": [
    "tokenizer = tokenizers.FullMoveTokenizerWithElo()\n",
    "\n",
    "model_config = GPTConfig(\n",
    "    block_size=302,\n",
    "    vocab_size=tokenizer.vocab_size,\n",
    "    n_layer=8,\n",
    "    n_head=8,\n",
    "    n_embd=512,\n",
    "    bias=False,\n",
    ")\n",
    "\n",
    "test_start_token = 11\n",
    "\n",
    "masked_elo_checkpoint = \"./models/full_training/masked_elo/epoch=9-step=1250000.ckpt\"\n",
    "elo_checkpoint = \"./models/full_training/adaptive_elo/epoch=9-step=1250000.ckpt\"\n",
    "\n",
    "masked_elo_model = LightningGPT.load_from_checkpoint(masked_elo_checkpoint, config=model_config, test_start_token=test_start_token)\n",
    "elo_model = LightningGPT.load_from_checkpoint(elo_checkpoint, config=model_config, test_start_token=test_start_token)"
   ]
  },
  {
   "cell_type": "code",
   "execution_count": 23,
   "metadata": {},
   "outputs": [
    {
     "name": "stderr",
     "output_type": "stream",
     "text": [
      "Using bfloat16 Automatic Mixed Precision (AMP)\n",
      "You are using the plain ModelCheckpoint callback. Consider using LitModelCheckpoint which with seamless uploading to Model registry.\n",
      "GPU available: True (cuda), used: True\n",
      "TPU available: False, using: 0 TPU cores\n",
      "HPU available: False, using: 0 HPUs\n"
     ]
    }
   ],
   "source": [
    "trainer = pl.Trainer(\n",
    "    accelerator=\"gpu\",\n",
    "    max_epochs=10,\n",
    "    callbacks=[pl.callbacks.RichProgressBar()],\n",
    "    precision=\"bf16-mixed\",\n",
    ")\n",
    "torch.set_float32_matmul_precision('high')"
   ]
  },
  {
   "cell_type": "code",
   "execution_count": 17,
   "metadata": {},
   "outputs": [
    {
     "data": {
      "text/plain": [
       "75721    2400 2400 Pd2d4 Ng8f6 Ng1f3 Pc7c5 Pe2e3 Pb7b6 ...\n",
       "80184    1900 2000 Pd2d4 Ng8f6 Nb1c3 Pc7c5 Pd4d5 Pd7d6 ...\n",
       "19864    2100 2100 Ng1f3 Pc7c6 Pg2g3 Pd7d5 Pd2d3 Pe7e6 ...\n",
       "76699    2400 2400 Pc2c4 Pe7e6 Nb1c3 Pd7d5 Pd2d4 Pc7c5 ...\n",
       "92991    1200 1100 Pe2e4 Pd7d5 Pe4d5 Qd8d5 Nb1c3 Qd5d8 ...\n",
       "                               ...                        \n",
       "5002     2700 2500 Pd2d4 Pd7d5 Nb1c3 Ng8f6 Bc1f4 Pc7c5 ...\n",
       "30151    2200 2100 Pc2c4 Pe7e6 Ng1f3 Pd7d5 Pg2g3 Ng8f6 ...\n",
       "93194    1000 1100 Pe2e4 Pe7e5 Pd2d3 Nb8c6 Nb1c3 Ng8f6 ...\n",
       "73199    2400 2400 Pe2e4 Pd7d5 Pe4d5 Qd8d5 Nb1c3 Qd5d6 ...\n",
       "74479    2500 2500 Pd2d4 Ng8f6 Nb1c3 Pg7g6 Ng1f3 Pd7d5 ...\n",
       "Length: 10000, dtype: object"
      ]
     },
     "execution_count": 17,
     "metadata": {},
     "output_type": "execute_result"
    }
   ],
   "source": [
    "cuts = games_df.ply_30s\n",
    "games_with_elo = utils.add_elo_token_to_games(games_df.piece_uci, games_df.white_elo, games_df.black_elo)\n",
    "games_with_elo"
   ]
  },
  {
   "cell_type": "code",
   "execution_count": 18,
   "metadata": {},
   "outputs": [],
   "source": [
    "elo_data_module = GamesDataModule(test_games=list(games_with_elo), tokenizer=tokenizer, num_workers=12, mask_elo_token=True)"
   ]
  },
  {
   "cell_type": "code",
   "execution_count": 19,
   "metadata": {},
   "outputs": [
    {
     "name": "stderr",
     "output_type": "stream",
     "text": [
      "LOCAL_RANK: 0 - CUDA_VISIBLE_DEVICES: [0]\n"
     ]
    },
    {
     "data": {
      "application/vnd.jupyter.widget-view+json": {
       "model_id": "97e3d2e32f324b659b66cff8d9a29f50",
       "version_major": 2,
       "version_minor": 0
      },
      "text/plain": [
       "Output()"
      ]
     },
     "metadata": {},
     "output_type": "display_data"
    },
    {
     "data": {
      "text/html": [
       "<pre style=\"white-space:pre;overflow-x:auto;line-height:normal;font-family:Menlo,'DejaVu Sans Mono',consolas,'Courier New',monospace\">┏━━━━━━━━━━━━━━━━━━━━━━━━━━━┳━━━━━━━━━━━━━━━━━━━━━━━━━━━┓\n",
       "┃<span style=\"font-weight: bold\">        Test metric        </span>┃<span style=\"font-weight: bold\">       DataLoader 0        </span>┃\n",
       "┡━━━━━━━━━━━━━━━━━━━━━━━━━━━╇━━━━━━━━━━━━━━━━━━━━━━━━━━━┩\n",
       "│<span style=\"color: #008080; text-decoration-color: #008080\">         test_acc          </span>│<span style=\"color: #800080; text-decoration-color: #800080\">    0.5150818824768066     </span>│\n",
       "│<span style=\"color: #008080; text-decoration-color: #008080\">         test_loss         </span>│<span style=\"color: #800080; text-decoration-color: #800080\">     1.504554271697998     </span>│\n",
       "└───────────────────────────┴───────────────────────────┘\n",
       "</pre>\n"
      ],
      "text/plain": [
       "┏━━━━━━━━━━━━━━━━━━━━━━━━━━━┳━━━━━━━━━━━━━━━━━━━━━━━━━━━┓\n",
       "┃\u001b[1m \u001b[0m\u001b[1m       Test metric       \u001b[0m\u001b[1m \u001b[0m┃\u001b[1m \u001b[0m\u001b[1m      DataLoader 0       \u001b[0m\u001b[1m \u001b[0m┃\n",
       "┡━━━━━━━━━━━━━━━━━━━━━━━━━━━╇━━━━━━━━━━━━━━━━━━━━━━━━━━━┩\n",
       "│\u001b[36m \u001b[0m\u001b[36m        test_acc         \u001b[0m\u001b[36m \u001b[0m│\u001b[35m \u001b[0m\u001b[35m   0.5150818824768066    \u001b[0m\u001b[35m \u001b[0m│\n",
       "│\u001b[36m \u001b[0m\u001b[36m        test_loss        \u001b[0m\u001b[36m \u001b[0m│\u001b[35m \u001b[0m\u001b[35m    1.504554271697998    \u001b[0m\u001b[35m \u001b[0m│\n",
       "└───────────────────────────┴───────────────────────────┘\n"
      ]
     },
     "metadata": {},
     "output_type": "display_data"
    },
    {
     "data": {
      "text/html": [
       "<pre style=\"white-space:pre;overflow-x:auto;line-height:normal;font-family:Menlo,'DejaVu Sans Mono',consolas,'Courier New',monospace\"></pre>\n"
      ],
      "text/plain": []
     },
     "metadata": {},
     "output_type": "display_data"
    },
    {
     "data": {
      "text/plain": [
       "[{'test_loss': 1.504554271697998, 'test_acc': 0.5150818824768066}]"
      ]
     },
     "execution_count": 19,
     "metadata": {},
     "output_type": "execute_result"
    }
   ],
   "source": [
    "trainer.test(masked_elo_model, datamodule=elo_data_module)"
   ]
  },
  {
   "cell_type": "code",
   "execution_count": null,
   "metadata": {},
   "outputs": [
    {
     "name": "stderr",
     "output_type": "stream",
     "text": [
      "LOCAL_RANK: 0 - CUDA_VISIBLE_DEVICES: [0]\n"
     ]
    },
    {
     "data": {
      "application/vnd.jupyter.widget-view+json": {
       "model_id": "2e8f4b5ddd194959b3243a84c0678733",
       "version_major": 2,
       "version_minor": 0
      },
      "text/plain": [
       "Output()"
      ]
     },
     "metadata": {},
     "output_type": "display_data"
    },
    {
     "data": {
      "text/html": [
       "<pre style=\"white-space:pre;overflow-x:auto;line-height:normal;font-family:Menlo,'DejaVu Sans Mono',consolas,'Courier New',monospace\">┏━━━━━━━━━━━━━━━━━━━━━━━━━━━┳━━━━━━━━━━━━━━━━━━━━━━━━━━━┓\n",
       "┃<span style=\"font-weight: bold\">        Test metric        </span>┃<span style=\"font-weight: bold\">       DataLoader 0        </span>┃\n",
       "┡━━━━━━━━━━━━━━━━━━━━━━━━━━━╇━━━━━━━━━━━━━━━━━━━━━━━━━━━┩\n",
       "│<span style=\"color: #008080; text-decoration-color: #008080\">         test_acc          </span>│<span style=\"color: #800080; text-decoration-color: #800080\">    0.5107116103172302     </span>│\n",
       "│<span style=\"color: #008080; text-decoration-color: #008080\">         test_loss         </span>│<span style=\"color: #800080; text-decoration-color: #800080\">    1.7678557634353638     </span>│\n",
       "└───────────────────────────┴───────────────────────────┘\n",
       "</pre>\n"
      ],
      "text/plain": [
       "┏━━━━━━━━━━━━━━━━━━━━━━━━━━━┳━━━━━━━━━━━━━━━━━━━━━━━━━━━┓\n",
       "┃\u001b[1m \u001b[0m\u001b[1m       Test metric       \u001b[0m\u001b[1m \u001b[0m┃\u001b[1m \u001b[0m\u001b[1m      DataLoader 0       \u001b[0m\u001b[1m \u001b[0m┃\n",
       "┡━━━━━━━━━━━━━━━━━━━━━━━━━━━╇━━━━━━━━━━━━━━━━━━━━━━━━━━━┩\n",
       "│\u001b[36m \u001b[0m\u001b[36m        test_acc         \u001b[0m\u001b[36m \u001b[0m│\u001b[35m \u001b[0m\u001b[35m   0.5107116103172302    \u001b[0m\u001b[35m \u001b[0m│\n",
       "│\u001b[36m \u001b[0m\u001b[36m        test_loss        \u001b[0m\u001b[36m \u001b[0m│\u001b[35m \u001b[0m\u001b[35m   1.7678557634353638    \u001b[0m\u001b[35m \u001b[0m│\n",
       "└───────────────────────────┴───────────────────────────┘\n"
      ]
     },
     "metadata": {},
     "output_type": "display_data"
    },
    {
     "data": {
      "text/html": [
       "<pre style=\"white-space:pre;overflow-x:auto;line-height:normal;font-family:Menlo,'DejaVu Sans Mono',consolas,'Courier New',monospace\"></pre>\n"
      ],
      "text/plain": []
     },
     "metadata": {},
     "output_type": "display_data"
    },
    {
     "data": {
      "text/plain": [
       "[{'test_loss': 1.7678557634353638, 'test_acc': 0.5107116103172302}]"
      ]
     },
     "execution_count": 19,
     "metadata": {},
     "output_type": "execute_result"
    }
   ],
   "source": [
    "trainer.test(masked_elo_model, datamodule=elo_data_module)"
   ]
  },
  {
   "cell_type": "code",
   "execution_count": null,
   "metadata": {},
   "outputs": [
    {
     "name": "stdout",
     "output_type": "stream",
     "text": [
      "number of parameters: 27.29M\n"
     ]
    }
   ],
   "source": [
    "masked_elo_model = LightningGPT.load_from_checkpoint(masked_elo_checkpoint, config=model_config, test_start_token=11)"
   ]
  },
  {
   "cell_type": "code",
   "execution_count": null,
   "metadata": {},
   "outputs": [
    {
     "name": "stderr",
     "output_type": "stream",
     "text": [
      "LOCAL_RANK: 0 - CUDA_VISIBLE_DEVICES: [0]\n"
     ]
    },
    {
     "data": {
      "application/vnd.jupyter.widget-view+json": {
       "model_id": "d7e6d2740947441990d6d36b145d6e17",
       "version_major": 2,
       "version_minor": 0
      },
      "text/plain": [
       "Output()"
      ]
     },
     "metadata": {},
     "output_type": "display_data"
    },
    {
     "data": {
      "text/html": [
       "<pre style=\"white-space:pre;overflow-x:auto;line-height:normal;font-family:Menlo,'DejaVu Sans Mono',consolas,'Courier New',monospace\">┏━━━━━━━━━━━━━━━━━━━━━━━━━━━┳━━━━━━━━━━━━━━━━━━━━━━━━━━━┓\n",
       "┃<span style=\"font-weight: bold\">        Test metric        </span>┃<span style=\"font-weight: bold\">       DataLoader 0        </span>┃\n",
       "┡━━━━━━━━━━━━━━━━━━━━━━━━━━━╇━━━━━━━━━━━━━━━━━━━━━━━━━━━┩\n",
       "│<span style=\"color: #008080; text-decoration-color: #008080\">         test_acc          </span>│<span style=\"color: #800080; text-decoration-color: #800080\">    0.5110811591148376     </span>│\n",
       "│<span style=\"color: #008080; text-decoration-color: #008080\">         test_loss         </span>│<span style=\"color: #800080; text-decoration-color: #800080\">    1.7678557634353638     </span>│\n",
       "└───────────────────────────┴───────────────────────────┘\n",
       "</pre>\n"
      ],
      "text/plain": [
       "┏━━━━━━━━━━━━━━━━━━━━━━━━━━━┳━━━━━━━━━━━━━━━━━━━━━━━━━━━┓\n",
       "┃\u001b[1m \u001b[0m\u001b[1m       Test metric       \u001b[0m\u001b[1m \u001b[0m┃\u001b[1m \u001b[0m\u001b[1m      DataLoader 0       \u001b[0m\u001b[1m \u001b[0m┃\n",
       "┡━━━━━━━━━━━━━━━━━━━━━━━━━━━╇━━━━━━━━━━━━━━━━━━━━━━━━━━━┩\n",
       "│\u001b[36m \u001b[0m\u001b[36m        test_acc         \u001b[0m\u001b[36m \u001b[0m│\u001b[35m \u001b[0m\u001b[35m   0.5110811591148376    \u001b[0m\u001b[35m \u001b[0m│\n",
       "│\u001b[36m \u001b[0m\u001b[36m        test_loss        \u001b[0m\u001b[36m \u001b[0m│\u001b[35m \u001b[0m\u001b[35m   1.7678557634353638    \u001b[0m\u001b[35m \u001b[0m│\n",
       "└───────────────────────────┴───────────────────────────┘\n"
      ]
     },
     "metadata": {},
     "output_type": "display_data"
    },
    {
     "data": {
      "text/html": [
       "<pre style=\"white-space:pre;overflow-x:auto;line-height:normal;font-family:Menlo,'DejaVu Sans Mono',consolas,'Courier New',monospace\"></pre>\n"
      ],
      "text/plain": []
     },
     "metadata": {},
     "output_type": "display_data"
    },
    {
     "data": {
      "text/plain": [
       "[{'test_loss': 1.7678557634353638, 'test_acc': 0.5110811591148376}]"
      ]
     },
     "execution_count": 27,
     "metadata": {},
     "output_type": "execute_result"
    }
   ],
   "source": [
    "trainer.test(masked_elo_model, datamodule=elo_data_module)"
   ]
  },
  {
   "cell_type": "code",
   "execution_count": 11,
   "metadata": {},
   "outputs": [
    {
     "name": "stderr",
     "output_type": "stream",
     "text": [
      "2025-03-22 12:56:09.778917: E external/local_xla/xla/stream_executor/cuda/cuda_fft.cc:477] Unable to register cuFFT factory: Attempting to register factory for plugin cuFFT when one has already been registered\n",
      "WARNING: All log messages before absl::InitializeLog() is called are written to STDERR\n",
      "E0000 00:00:1742644569.853965   16263 cuda_dnn.cc:8310] Unable to register cuDNN factory: Attempting to register factory for plugin cuDNN when one has already been registered\n",
      "E0000 00:00:1742644569.874195   16263 cuda_blas.cc:1418] Unable to register cuBLAS factory: Attempting to register factory for plugin cuBLAS when one has already been registered\n",
      "2025-03-22 12:56:10.062748: I tensorflow/core/platform/cpu_feature_guard.cc:210] This TensorFlow binary is optimized to use available CPU instructions in performance-critical operations.\n",
      "To enable the following instructions: AVX2 FMA, in other operations, rebuild TensorFlow with the appropriate compiler flags.\n",
      "LOCAL_RANK: 0 - CUDA_VISIBLE_DEVICES: [0]\n"
     ]
    },
    {
     "data": {
      "application/vnd.jupyter.widget-view+json": {
       "model_id": "bc09637612c0477b8d80d130fef6124b",
       "version_major": 2,
       "version_minor": 0
      },
      "text/plain": [
       "Output()"
      ]
     },
     "metadata": {},
     "output_type": "display_data"
    },
    {
     "data": {
      "text/html": [
       "<pre style=\"white-space:pre;overflow-x:auto;line-height:normal;font-family:Menlo,'DejaVu Sans Mono',consolas,'Courier New',monospace\">┏━━━━━━━━━━━━━━━━━━━━━━━━━━━┳━━━━━━━━━━━━━━━━━━━━━━━━━━━┓\n",
       "┃<span style=\"font-weight: bold\">        Test metric        </span>┃<span style=\"font-weight: bold\">       DataLoader 0        </span>┃\n",
       "┡━━━━━━━━━━━━━━━━━━━━━━━━━━━╇━━━━━━━━━━━━━━━━━━━━━━━━━━━┩\n",
       "│<span style=\"color: #008080; text-decoration-color: #008080\">         test_acc          </span>│<span style=\"color: #800080; text-decoration-color: #800080\">    0.5142906904220581     </span>│\n",
       "│<span style=\"color: #008080; text-decoration-color: #008080\">         test_loss         </span>│<span style=\"color: #800080; text-decoration-color: #800080\">     1.623957633972168     </span>│\n",
       "└───────────────────────────┴───────────────────────────┘\n",
       "</pre>\n"
      ],
      "text/plain": [
       "┏━━━━━━━━━━━━━━━━━━━━━━━━━━━┳━━━━━━━━━━━━━━━━━━━━━━━━━━━┓\n",
       "┃\u001b[1m \u001b[0m\u001b[1m       Test metric       \u001b[0m\u001b[1m \u001b[0m┃\u001b[1m \u001b[0m\u001b[1m      DataLoader 0       \u001b[0m\u001b[1m \u001b[0m┃\n",
       "┡━━━━━━━━━━━━━━━━━━━━━━━━━━━╇━━━━━━━━━━━━━━━━━━━━━━━━━━━┩\n",
       "│\u001b[36m \u001b[0m\u001b[36m        test_acc         \u001b[0m\u001b[36m \u001b[0m│\u001b[35m \u001b[0m\u001b[35m   0.5142906904220581    \u001b[0m\u001b[35m \u001b[0m│\n",
       "│\u001b[36m \u001b[0m\u001b[36m        test_loss        \u001b[0m\u001b[36m \u001b[0m│\u001b[35m \u001b[0m\u001b[35m    1.623957633972168    \u001b[0m\u001b[35m \u001b[0m│\n",
       "└───────────────────────────┴───────────────────────────┘\n"
      ]
     },
     "metadata": {},
     "output_type": "display_data"
    },
    {
     "data": {
      "text/html": [
       "<pre style=\"white-space:pre;overflow-x:auto;line-height:normal;font-family:Menlo,'DejaVu Sans Mono',consolas,'Courier New',monospace\"></pre>\n"
      ],
      "text/plain": []
     },
     "metadata": {},
     "output_type": "display_data"
    },
    {
     "data": {
      "text/plain": [
       "[{'test_loss': 1.623957633972168, 'test_acc': 0.5142906904220581}]"
      ]
     },
     "execution_count": 11,
     "metadata": {},
     "output_type": "execute_result"
    }
   ],
   "source": [
    "trainer.test(elo_model, datamodule=elo_data_module)"
   ]
  },
  {
   "cell_type": "code",
   "execution_count": 13,
   "metadata": {},
   "outputs": [
    {
     "name": "stderr",
     "output_type": "stream",
     "text": [
      "Using bfloat16 Automatic Mixed Precision (AMP)\n",
      "You are using the plain ModelCheckpoint callback. Consider using LitModelCheckpoint which with seamless uploading to Model registry.\n",
      "GPU available: True (cuda), used: True\n",
      "TPU available: False, using: 0 TPU cores\n",
      "HPU available: False, using: 0 HPUs\n"
     ]
    },
    {
     "name": "stdout",
     "output_type": "stream",
     "text": [
      "number of parameters: 27.29M\n"
     ]
    }
   ],
   "source": [
    "elo_model = LightningGPT.load_from_checkpoint(elo_checkpoint, config=model_config, test_start_token=11)\n",
    "\n",
    "trainer = pl.Trainer(\n",
    "    accelerator=\"gpu\",\n",
    "    max_epochs=10,\n",
    "    callbacks=[pl.callbacks.RichProgressBar()],\n",
    "    precision=\"bf16-mixed\",\n",
    ")\n",
    "torch.set_float32_matmul_precision('high')"
   ]
  },
  {
   "cell_type": "code",
   "execution_count": 14,
   "metadata": {},
   "outputs": [
    {
     "name": "stderr",
     "output_type": "stream",
     "text": [
      "LOCAL_RANK: 0 - CUDA_VISIBLE_DEVICES: [0]\n"
     ]
    },
    {
     "data": {
      "application/vnd.jupyter.widget-view+json": {
       "model_id": "70938b687a6c47eba6a82ecf38a51019",
       "version_major": 2,
       "version_minor": 0
      },
      "text/plain": [
       "Output()"
      ]
     },
     "metadata": {},
     "output_type": "display_data"
    },
    {
     "data": {
      "text/html": [
       "<pre style=\"white-space:pre;overflow-x:auto;line-height:normal;font-family:Menlo,'DejaVu Sans Mono',consolas,'Courier New',monospace\">┏━━━━━━━━━━━━━━━━━━━━━━━━━━━┳━━━━━━━━━━━━━━━━━━━━━━━━━━━┓\n",
       "┃<span style=\"font-weight: bold\">        Test metric        </span>┃<span style=\"font-weight: bold\">       DataLoader 0        </span>┃\n",
       "┡━━━━━━━━━━━━━━━━━━━━━━━━━━━╇━━━━━━━━━━━━━━━━━━━━━━━━━━━┩\n",
       "│<span style=\"color: #008080; text-decoration-color: #008080\">         test_acc          </span>│<span style=\"color: #800080; text-decoration-color: #800080\">     0.512260377407074     </span>│\n",
       "│<span style=\"color: #008080; text-decoration-color: #008080\">         test_loss         </span>│<span style=\"color: #800080; text-decoration-color: #800080\">     1.623957633972168     </span>│\n",
       "└───────────────────────────┴───────────────────────────┘\n",
       "</pre>\n"
      ],
      "text/plain": [
       "┏━━━━━━━━━━━━━━━━━━━━━━━━━━━┳━━━━━━━━━━━━━━━━━━━━━━━━━━━┓\n",
       "┃\u001b[1m \u001b[0m\u001b[1m       Test metric       \u001b[0m\u001b[1m \u001b[0m┃\u001b[1m \u001b[0m\u001b[1m      DataLoader 0       \u001b[0m\u001b[1m \u001b[0m┃\n",
       "┡━━━━━━━━━━━━━━━━━━━━━━━━━━━╇━━━━━━━━━━━━━━━━━━━━━━━━━━━┩\n",
       "│\u001b[36m \u001b[0m\u001b[36m        test_acc         \u001b[0m\u001b[36m \u001b[0m│\u001b[35m \u001b[0m\u001b[35m    0.512260377407074    \u001b[0m\u001b[35m \u001b[0m│\n",
       "│\u001b[36m \u001b[0m\u001b[36m        test_loss        \u001b[0m\u001b[36m \u001b[0m│\u001b[35m \u001b[0m\u001b[35m    1.623957633972168    \u001b[0m\u001b[35m \u001b[0m│\n",
       "└───────────────────────────┴───────────────────────────┘\n"
      ]
     },
     "metadata": {},
     "output_type": "display_data"
    },
    {
     "data": {
      "text/html": [
       "<pre style=\"white-space:pre;overflow-x:auto;line-height:normal;font-family:Menlo,'DejaVu Sans Mono',consolas,'Courier New',monospace\"></pre>\n"
      ],
      "text/plain": []
     },
     "metadata": {},
     "output_type": "display_data"
    },
    {
     "data": {
      "text/plain": [
       "[{'test_loss': 1.623957633972168, 'test_acc': 0.512260377407074}]"
      ]
     },
     "execution_count": 14,
     "metadata": {},
     "output_type": "execute_result"
    }
   ],
   "source": [
    "trainer.test(elo_model, datamodule=elo_data_module)"
   ]
  }
 ],
 "metadata": {
  "kernelspec": {
   "display_name": "python",
   "language": "python",
   "name": "python3"
  },
  "language_info": {
   "codemirror_mode": {
    "name": "ipython",
    "version": 3
   },
   "file_extension": ".py",
   "mimetype": "text/x-python",
   "name": "python",
   "nbconvert_exporter": "python",
   "pygments_lexer": "ipython3",
   "version": "3.13.2"
  }
 },
 "nbformat": 4,
 "nbformat_minor": 2
}

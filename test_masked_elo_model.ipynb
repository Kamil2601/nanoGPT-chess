{
 "cells": [
  {
   "cell_type": "code",
   "execution_count": 1,
   "metadata": {},
   "outputs": [],
   "source": [
    "import pandas as pd\n",
    "import matplotlib.pyplot as plt\n",
    "from data_process import tokenizers, utils\n",
    "from nanoGPT.model import  GPT, GPTConfig\n",
    "from lightning_training import LightningGPT, GamesDataModule, GamesDataset\n",
    "import pytorch_lightning as pl\n",
    "import torch\n",
    "import os\n",
    "import numpy as np\n",
    "import seaborn as sns"
   ]
  },
  {
   "cell_type": "code",
   "execution_count": 2,
   "metadata": {},
   "outputs": [
    {
     "data": {
      "text/html": [
       "<div>\n",
       "<style scoped>\n",
       "    .dataframe tbody tr th:only-of-type {\n",
       "        vertical-align: middle;\n",
       "    }\n",
       "\n",
       "    .dataframe tbody tr th {\n",
       "        vertical-align: top;\n",
       "    }\n",
       "\n",
       "    .dataframe thead th {\n",
       "        text-align: right;\n",
       "    }\n",
       "</style>\n",
       "<table border=\"1\" class=\"dataframe\">\n",
       "  <thead>\n",
       "    <tr style=\"text-align: right;\">\n",
       "      <th></th>\n",
       "      <th>index</th>\n",
       "      <th>id</th>\n",
       "      <th>date</th>\n",
       "      <th>white_elo</th>\n",
       "      <th>black_elo</th>\n",
       "      <th>result</th>\n",
       "      <th>ply</th>\n",
       "      <th>ply_30s</th>\n",
       "      <th>piece_uci</th>\n",
       "    </tr>\n",
       "  </thead>\n",
       "  <tbody>\n",
       "    <tr>\n",
       "      <th>0</th>\n",
       "      <td>74497</td>\n",
       "      <td>?</td>\n",
       "      <td>2021.12.05</td>\n",
       "      <td>2523</td>\n",
       "      <td>2684</td>\n",
       "      <td>0-1</td>\n",
       "      <td>52</td>\n",
       "      <td>-1</td>\n",
       "      <td>Pd2d4 Pd7d5 Nb1c3 Pc7c6 Pe2e4 Pd5e4 Pf2f3 Pe4f...</td>\n",
       "    </tr>\n",
       "    <tr>\n",
       "      <th>1</th>\n",
       "      <td>74505</td>\n",
       "      <td>?</td>\n",
       "      <td>2021.12.05</td>\n",
       "      <td>2623</td>\n",
       "      <td>2581</td>\n",
       "      <td>0-1</td>\n",
       "      <td>96</td>\n",
       "      <td>-1</td>\n",
       "      <td>Pd2d4 Ng8f6 Pc2c4 Pe7e6 Ng1f3 Pd7d5 Nb1c3 Pd5c...</td>\n",
       "    </tr>\n",
       "    <tr>\n",
       "      <th>2</th>\n",
       "      <td>74508</td>\n",
       "      <td>?</td>\n",
       "      <td>2021.12.05</td>\n",
       "      <td>2757</td>\n",
       "      <td>2670</td>\n",
       "      <td>1/2-1/2</td>\n",
       "      <td>106</td>\n",
       "      <td>-1</td>\n",
       "      <td>Pd2d4 Pd7d5 Ke1d2 Pe7e5 Kd2c3 Pe5d4 Qd1d4 Nb8c...</td>\n",
       "    </tr>\n",
       "    <tr>\n",
       "      <th>3</th>\n",
       "      <td>74510</td>\n",
       "      <td>?</td>\n",
       "      <td>2021.12.05</td>\n",
       "      <td>2627</td>\n",
       "      <td>2666</td>\n",
       "      <td>0-1</td>\n",
       "      <td>96</td>\n",
       "      <td>-1</td>\n",
       "      <td>Pd2d4 Ng8f6 Bc1f4 Pd7d5 Pe2e3 Pe7e6 Pc2c3 Bf8d...</td>\n",
       "    </tr>\n",
       "    <tr>\n",
       "      <th>4</th>\n",
       "      <td>74517</td>\n",
       "      <td>?</td>\n",
       "      <td>2021.12.05</td>\n",
       "      <td>2666</td>\n",
       "      <td>2571</td>\n",
       "      <td>1-0</td>\n",
       "      <td>47</td>\n",
       "      <td>-1</td>\n",
       "      <td>Pe2e4 Pc7c5 Ng1f3 Nb8c6 Bf1b5 Pg7g6 Bb5c6 Pd7c...</td>\n",
       "    </tr>\n",
       "    <tr>\n",
       "      <th>...</th>\n",
       "      <td>...</td>\n",
       "      <td>...</td>\n",
       "      <td>...</td>\n",
       "      <td>...</td>\n",
       "      <td>...</td>\n",
       "      <td>...</td>\n",
       "      <td>...</td>\n",
       "      <td>...</td>\n",
       "      <td>...</td>\n",
       "    </tr>\n",
       "    <tr>\n",
       "      <th>99995</th>\n",
       "      <td>14202188</td>\n",
       "      <td>CJayVtXh</td>\n",
       "      <td>2024.12.05</td>\n",
       "      <td>1303</td>\n",
       "      <td>879</td>\n",
       "      <td>1-0</td>\n",
       "      <td>33</td>\n",
       "      <td>-1</td>\n",
       "      <td>Pe2e4 Pe7e6 Ng1f3 Pf7f6 Bf1c4 Qd8e7 Ke1g1 Ng8h...</td>\n",
       "    </tr>\n",
       "    <tr>\n",
       "      <th>99996</th>\n",
       "      <td>14202189</td>\n",
       "      <td>XkroYjvj</td>\n",
       "      <td>2024.12.05</td>\n",
       "      <td>1099</td>\n",
       "      <td>1209</td>\n",
       "      <td>0-1</td>\n",
       "      <td>59</td>\n",
       "      <td>-1</td>\n",
       "      <td>Pe2e4 Pe7e5 Ng1f3 Nb8c6 Pd2d4 Pd7d6 Pd4e5 Bc8g...</td>\n",
       "    </tr>\n",
       "    <tr>\n",
       "      <th>99997</th>\n",
       "      <td>14202191</td>\n",
       "      <td>DWLSh6Wn</td>\n",
       "      <td>2024.12.05</td>\n",
       "      <td>1070</td>\n",
       "      <td>1019</td>\n",
       "      <td>0-1</td>\n",
       "      <td>48</td>\n",
       "      <td>-1</td>\n",
       "      <td>Pe2e4 Pe7e5 Ng1f3 Ng8f6 Nb1c3 Nb8c6 Bf1c4 Bf8c...</td>\n",
       "    </tr>\n",
       "    <tr>\n",
       "      <th>99998</th>\n",
       "      <td>14202194</td>\n",
       "      <td>g7tUv4Rt</td>\n",
       "      <td>2024.12.05</td>\n",
       "      <td>1211</td>\n",
       "      <td>1173</td>\n",
       "      <td>1-0</td>\n",
       "      <td>9</td>\n",
       "      <td>-1</td>\n",
       "      <td>Pe2e4 Pd7d5 Bf1c4 Pe7e5 Bc4d5 Nb8d7 Qd1h5 Ng8f...</td>\n",
       "    </tr>\n",
       "    <tr>\n",
       "      <th>99999</th>\n",
       "      <td>14202225</td>\n",
       "      <td>nw1eUTwy</td>\n",
       "      <td>2024.12.05</td>\n",
       "      <td>1200</td>\n",
       "      <td>1166</td>\n",
       "      <td>0-1</td>\n",
       "      <td>32</td>\n",
       "      <td>-1</td>\n",
       "      <td>Pe2e4 Pd7d5 Pe4d5 Qd8d5 Nb1c3 Qd5d8 Ng1f3 Pa7a...</td>\n",
       "    </tr>\n",
       "  </tbody>\n",
       "</table>\n",
       "<p>100000 rows × 9 columns</p>\n",
       "</div>"
      ],
      "text/plain": [
       "          index        id        date  white_elo  black_elo   result  ply  \\\n",
       "0         74497         ?  2021.12.05       2523       2684      0-1   52   \n",
       "1         74505         ?  2021.12.05       2623       2581      0-1   96   \n",
       "2         74508         ?  2021.12.05       2757       2670  1/2-1/2  106   \n",
       "3         74510         ?  2021.12.05       2627       2666      0-1   96   \n",
       "4         74517         ?  2021.12.05       2666       2571      1-0   47   \n",
       "...         ...       ...         ...        ...        ...      ...  ...   \n",
       "99995  14202188  CJayVtXh  2024.12.05       1303        879      1-0   33   \n",
       "99996  14202189  XkroYjvj  2024.12.05       1099       1209      0-1   59   \n",
       "99997  14202191  DWLSh6Wn  2024.12.05       1070       1019      0-1   48   \n",
       "99998  14202194  g7tUv4Rt  2024.12.05       1211       1173      1-0    9   \n",
       "99999  14202225  nw1eUTwy  2024.12.05       1200       1166      0-1   32   \n",
       "\n",
       "       ply_30s                                          piece_uci  \n",
       "0           -1  Pd2d4 Pd7d5 Nb1c3 Pc7c6 Pe2e4 Pd5e4 Pf2f3 Pe4f...  \n",
       "1           -1  Pd2d4 Ng8f6 Pc2c4 Pe7e6 Ng1f3 Pd7d5 Nb1c3 Pd5c...  \n",
       "2           -1  Pd2d4 Pd7d5 Ke1d2 Pe7e5 Kd2c3 Pe5d4 Qd1d4 Nb8c...  \n",
       "3           -1  Pd2d4 Ng8f6 Bc1f4 Pd7d5 Pe2e3 Pe7e6 Pc2c3 Bf8d...  \n",
       "4           -1  Pe2e4 Pc7c5 Ng1f3 Nb8c6 Bf1b5 Pg7g6 Bb5c6 Pd7c...  \n",
       "...        ...                                                ...  \n",
       "99995       -1  Pe2e4 Pe7e6 Ng1f3 Pf7f6 Bf1c4 Qd8e7 Ke1g1 Ng8h...  \n",
       "99996       -1  Pe2e4 Pe7e5 Ng1f3 Nb8c6 Pd2d4 Pd7d6 Pd4e5 Bc8g...  \n",
       "99997       -1  Pe2e4 Pe7e5 Ng1f3 Ng8f6 Nb1c3 Nb8c6 Bf1c4 Bf8c...  \n",
       "99998       -1  Pe2e4 Pd7d5 Bf1c4 Pe7e5 Bc4d5 Nb8d7 Qd1h5 Ng8f...  \n",
       "99999       -1  Pe2e4 Pd7d5 Pe4d5 Qd8d5 Nb1c3 Qd5d8 Ng1f3 Pa7a...  \n",
       "\n",
       "[100000 rows x 9 columns]"
      ]
     },
     "execution_count": 2,
     "metadata": {},
     "output_type": "execute_result"
    }
   ],
   "source": [
    "headers = [\"index\", \"id\", \"date\", \"white_elo\", \"black_elo\", \"result\", \"ply\", \"ply_30s\", \"piece_uci\"]\n",
    "\n",
    "games_df = pd.read_csv(\"./data/csv/uniform_elo_distribution/test.csv\", delimiter=\";\", header=None, names=headers)\n",
    "\n",
    "games_df['piece_uci'] = utils.remove_material_tokens(games_df['piece_uci'])\n",
    "\n",
    "games_df"
   ]
  },
  {
   "cell_type": "code",
   "execution_count": 3,
   "metadata": {},
   "outputs": [
    {
     "data": {
      "image/png": "[encoded data removed]",
      "text/plain": [
       "<Figure size 1000x500 with 1 Axes>"
      ]
     },
     "metadata": {},
     "output_type": "display_data"
    }
   ],
   "source": [
    "white_elo_bins = games_df.white_elo // 100 * 100\n",
    "black_elo_bins = games_df.black_elo // 100 * 100\n",
    "\n",
    "data = pd.DataFrame({\n",
    "    'Elo Bin': list(white_elo_bins) + list(black_elo_bins),\n",
    "    'Type': ['White'] * len(white_elo_bins) + ['Black'] * len(black_elo_bins)\n",
    "})\n",
    "\n",
    "plt.figure(figsize=(10, 5))\n",
    "sns.countplot(data=data, x='Elo Bin', hue='Type', palette=['blue', 'black'])\n",
    "plt.xticks(rotation=45)\n",
    "plt.xlabel(\"Elo Bins\")\n",
    "plt.ylabel(\"Count\")\n",
    "plt.title(\"Count of White and Black Elo Ratings by Bin\")\n",
    "plt.show()"
   ]
  },
  {
   "cell_type": "code",
   "execution_count": 4,
   "metadata": {},
   "outputs": [
    {
     "name": "stdout",
     "output_type": "stream",
     "text": [
      "number of parameters: 27.29M\n",
      "number of parameters: 27.29M\n"
     ]
    }
   ],
   "source": [
    "tokenizer = tokenizers.FullMoveTokenizerWithElo()\n",
    "\n",
    "model_config = GPTConfig(\n",
    "    block_size=302,\n",
    "    vocab_size=tokenizer.vocab_size,\n",
    "    n_layer=8,\n",
    "    n_head=8,\n",
    "    n_embd=512,\n",
    "    bias=False,\n",
    ")\n",
    "\n",
    "test_start_token = 1\n",
    "\n",
    "masked_elo_checkpoint = \"./models/masked_elo_training/epoch=9-step=1250000.ckpt\"\n",
    "elo_checkpoint = \"./models/adaptive_elo_training/epoch=9-step=1250000.ckpt\"\n",
    "\n",
    "masked_elo_model = LightningGPT.load_from_checkpoint(masked_elo_checkpoint, config=model_config, test_start_token=test_start_token)\n",
    "elo_model = LightningGPT.load_from_checkpoint(elo_checkpoint, config=model_config, test_start_token=test_start_token)"
   ]
  },
  {
   "cell_type": "code",
   "execution_count": 6,
   "metadata": {},
   "outputs": [
    {
     "name": "stderr",
     "output_type": "stream",
     "text": [
      "Using bfloat16 Automatic Mixed Precision (AMP)\n",
      "You are using the plain ModelCheckpoint callback. Consider using LitModelCheckpoint which with seamless uploading to Model registry.\n",
      "GPU available: True (cuda), used: True\n",
      "TPU available: False, using: 0 TPU cores\n",
      "HPU available: False, using: 0 HPUs\n"
     ]
    }
   ],
   "source": [
    "trainer = pl.Trainer(\n",
    "    accelerator=\"gpu\",\n",
    "    max_epochs=10,\n",
    "    callbacks=[pl.callbacks.RichProgressBar()],\n",
    "    precision=\"bf16-mixed\",\n",
    ")\n",
    "torch.set_float32_matmul_precision('high')"
   ]
  },
  {
   "cell_type": "code",
   "execution_count": 12,
   "metadata": {},
   "outputs": [
    {
     "data": {
      "text/plain": [
       "0        2500 2600 Pd2d4 Pd7d5 Nb1c3 Pc7c6 Pe2e4 Pd5e4 ...\n",
       "1        2600 2500 Pd2d4 Ng8f6 Pc2c4 Pe7e6 Ng1f3 Pd7d5 ...\n",
       "2        2700 2600 Pd2d4 Pd7d5 Ke1d2 Pe7e5 Kd2c3 Pe5d4 ...\n",
       "3        2600 2600 Pd2d4 Ng8f6 Bc1f4 Pd7d5 Pe2e3 Pe7e6 ...\n",
       "4        2600 2500 Pe2e4 Pc7c5 Ng1f3 Nb8c6 Bf1b5 Pg7g6 ...\n",
       "                               ...                        \n",
       "99995    1300 800 Pe2e4 Pe7e6 Ng1f3 Pf7f6 Bf1c4 Qd8e7 K...\n",
       "99996    1000 1200 Pe2e4 Pe7e5 Ng1f3 Nb8c6 Pd2d4 Pd7d6 ...\n",
       "99997    1000 1000 Pe2e4 Pe7e5 Ng1f3 Ng8f6 Nb1c3 Nb8c6 ...\n",
       "99998    1200 1100 Pe2e4 Pd7d5 Bf1c4 Pe7e5 Bc4d5 Nb8d7 ...\n",
       "99999    1200 1100 Pe2e4 Pd7d5 Pe4d5 Qd8d5 Nb1c3 Qd5d8 ...\n",
       "Length: 100000, dtype: object"
      ]
     },
     "execution_count": 12,
     "metadata": {},
     "output_type": "execute_result"
    }
   ],
   "source": [
    "cuts = games_df.ply_30s\n",
    "games_with_elo = utils.add_elo_token_to_games(games_df.piece_uci, games_df.white_elo, games_df.black_elo)\n",
    "games_with_elo"
   ]
  },
  {
   "cell_type": "code",
   "execution_count": 10,
   "metadata": {},
   "outputs": [],
   "source": [
    "elo_data_module = GamesDataModule(test_games=list(games_with_elo), tokenizer=tokenizer, num_workers=12)"
   ]
  },
  {
   "cell_type": "code",
   "execution_count": null,
   "metadata": {},
   "outputs": [
    {
     "name": "stderr",
     "output_type": "stream",
     "text": [
      "LOCAL_RANK: 0 - CUDA_VISIBLE_DEVICES: [0]\n"
     ]
    },
    {
     "data": {
      "application/vnd.jupyter.widget-view+json": {
       "model_id": "2e8f4b5ddd194959b3243a84c0678733",
       "version_major": 2,
       "version_minor": 0
      },
      "text/plain": [
       "Output()"
      ]
     },
     "metadata": {},
     "output_type": "display_data"
    },
    {
     "data": {
      "text/html": [
       "<pre style=\"white-space:pre;overflow-x:auto;line-height:normal;font-family:Menlo,'DejaVu Sans Mono',consolas,'Courier New',monospace\">┏━━━━━━━━━━━━━━━━━━━━━━━━━━━┳━━━━━━━━━━━━━━━━━━━━━━━━━━━┓\n",
       "┃<span style=\"font-weight: bold\">        Test metric        </span>┃<span style=\"font-weight: bold\">       DataLoader 0        </span>┃\n",
       "┡━━━━━━━━━━━━━━━━━━━━━━━━━━━╇━━━━━━━━━━━━━━━━━━━━━━━━━━━┩\n",
       "│<span style=\"color: #008080; text-decoration-color: #008080\">         test_acc          </span>│<span style=\"color: #800080; text-decoration-color: #800080\">    0.5107116103172302     </span>│\n",
       "│<span style=\"color: #008080; text-decoration-color: #008080\">         test_loss         </span>│<span style=\"color: #800080; text-decoration-color: #800080\">    1.7678557634353638     </span>│\n",
       "└───────────────────────────┴───────────────────────────┘\n",
       "</pre>\n"
      ],
      "text/plain": [
       "┏━━━━━━━━━━━━━━━━━━━━━━━━━━━┳━━━━━━━━━━━━━━━━━━━━━━━━━━━┓\n",
       "┃\u001b[1m \u001b[0m\u001b[1m       Test metric       \u001b[0m\u001b[1m \u001b[0m┃\u001b[1m \u001b[0m\u001b[1m      DataLoader 0       \u001b[0m\u001b[1m \u001b[0m┃\n",
       "┡━━━━━━━━━━━━━━━━━━━━━━━━━━━╇━━━━━━━━━━━━━━━━━━━━━━━━━━━┩\n",
       "│\u001b[36m \u001b[0m\u001b[36m        test_acc         \u001b[0m\u001b[36m \u001b[0m│\u001b[35m \u001b[0m\u001b[35m   0.5107116103172302    \u001b[0m\u001b[35m \u001b[0m│\n",
       "│\u001b[36m \u001b[0m\u001b[36m        test_loss        \u001b[0m\u001b[36m \u001b[0m│\u001b[35m \u001b[0m\u001b[35m   1.7678557634353638    \u001b[0m\u001b[35m \u001b[0m│\n",
       "└───────────────────────────┴───────────────────────────┘\n"
      ]
     },
     "metadata": {},
     "output_type": "display_data"
    },
    {
     "data": {
      "text/html": [
       "<pre style=\"white-space:pre;overflow-x:auto;line-height:normal;font-family:Menlo,'DejaVu Sans Mono',consolas,'Courier New',monospace\"></pre>\n"
      ],
      "text/plain": []
     },
     "metadata": {},
     "output_type": "display_data"
    },
    {
     "data": {
      "text/plain": [
       "[{'test_loss': 1.7678557634353638, 'test_acc': 0.5107116103172302}]"
      ]
     },
     "execution_count": 19,
     "metadata": {},
     "output_type": "execute_result"
    }
   ],
   "source": [
    "trainer.test(masked_elo_model, datamodule=elo_data_module)"
   ]
  },
  {
   "cell_type": "code",
   "execution_count": null,
   "metadata": {},
   "outputs": [
    {
     "name": "stdout",
     "output_type": "stream",
     "text": [
      "number of parameters: 27.29M\n"
     ]
    }
   ],
   "source": [
    "masked_elo_model = LightningGPT.load_from_checkpoint(masked_elo_checkpoint, config=model_config, test_start_token=11)"
   ]
  },
  {
   "cell_type": "code",
   "execution_count": null,
   "metadata": {},
   "outputs": [
    {
     "name": "stderr",
     "output_type": "stream",
     "text": [
      "LOCAL_RANK: 0 - CUDA_VISIBLE_DEVICES: [0]\n"
     ]
    },
    {
     "data": {
      "application/vnd.jupyter.widget-view+json": {
       "model_id": "d7e6d2740947441990d6d36b145d6e17",
       "version_major": 2,
       "version_minor": 0
      },
      "text/plain": [
       "Output()"
      ]
     },
     "metadata": {},
     "output_type": "display_data"
    },
    {
     "data": {
      "text/html": [
       "<pre style=\"white-space:pre;overflow-x:auto;line-height:normal;font-family:Menlo,'DejaVu Sans Mono',consolas,'Courier New',monospace\">┏━━━━━━━━━━━━━━━━━━━━━━━━━━━┳━━━━━━━━━━━━━━━━━━━━━━━━━━━┓\n",
       "┃<span style=\"font-weight: bold\">        Test metric        </span>┃<span style=\"font-weight: bold\">       DataLoader 0        </span>┃\n",
       "┡━━━━━━━━━━━━━━━━━━━━━━━━━━━╇━━━━━━━━━━━━━━━━━━━━━━━━━━━┩\n",
       "│<span style=\"color: #008080; text-decoration-color: #008080\">         test_acc          </span>│<span style=\"color: #800080; text-decoration-color: #800080\">    0.5110811591148376     </span>│\n",
       "│<span style=\"color: #008080; text-decoration-color: #008080\">         test_loss         </span>│<span style=\"color: #800080; text-decoration-color: #800080\">    1.7678557634353638     </span>│\n",
       "└───────────────────────────┴───────────────────────────┘\n",
       "</pre>\n"
      ],
      "text/plain": [
       "┏━━━━━━━━━━━━━━━━━━━━━━━━━━━┳━━━━━━━━━━━━━━━━━━━━━━━━━━━┓\n",
       "┃\u001b[1m \u001b[0m\u001b[1m       Test metric       \u001b[0m\u001b[1m \u001b[0m┃\u001b[1m \u001b[0m\u001b[1m      DataLoader 0       \u001b[0m\u001b[1m \u001b[0m┃\n",
       "┡━━━━━━━━━━━━━━━━━━━━━━━━━━━╇━━━━━━━━━━━━━━━━━━━━━━━━━━━┩\n",
       "│\u001b[36m \u001b[0m\u001b[36m        test_acc         \u001b[0m\u001b[36m \u001b[0m│\u001b[35m \u001b[0m\u001b[35m   0.5110811591148376    \u001b[0m\u001b[35m \u001b[0m│\n",
       "│\u001b[36m \u001b[0m\u001b[36m        test_loss        \u001b[0m\u001b[36m \u001b[0m│\u001b[35m \u001b[0m\u001b[35m   1.7678557634353638    \u001b[0m\u001b[35m \u001b[0m│\n",
       "└───────────────────────────┴───────────────────────────┘\n"
      ]
     },
     "metadata": {},
     "output_type": "display_data"
    },
    {
     "data": {
      "text/html": [
       "<pre style=\"white-space:pre;overflow-x:auto;line-height:normal;font-family:Menlo,'DejaVu Sans Mono',consolas,'Courier New',monospace\"></pre>\n"
      ],
      "text/plain": []
     },
     "metadata": {},
     "output_type": "display_data"
    },
    {
     "data": {
      "text/plain": [
       "[{'test_loss': 1.7678557634353638, 'test_acc': 0.5110811591148376}]"
      ]
     },
     "execution_count": 27,
     "metadata": {},
     "output_type": "execute_result"
    }
   ],
   "source": [
    "trainer.test(masked_elo_model, datamodule=elo_data_module)"
   ]
  },
  {
   "cell_type": "code",
   "execution_count": 11,
   "metadata": {},
   "outputs": [
    {
     "name": "stderr",
     "output_type": "stream",
     "text": [
      "2025-03-22 12:56:09.778917: E external/local_xla/xla/stream_executor/cuda/cuda_fft.cc:477] Unable to register cuFFT factory: Attempting to register factory for plugin cuFFT when one has already been registered\n",
      "WARNING: All log messages before absl::InitializeLog() is called are written to STDERR\n",
      "E0000 00:00:1742644569.853965   16263 cuda_dnn.cc:8310] Unable to register cuDNN factory: Attempting to register factory for plugin cuDNN when one has already been registered\n",
      "E0000 00:00:1742644569.874195   16263 cuda_blas.cc:1418] Unable to register cuBLAS factory: Attempting to register factory for plugin cuBLAS when one has already been registered\n",
      "2025-03-22 12:56:10.062748: I tensorflow/core/platform/cpu_feature_guard.cc:210] This TensorFlow binary is optimized to use available CPU instructions in performance-critical operations.\n",
      "To enable the following instructions: AVX2 FMA, in other operations, rebuild TensorFlow with the appropriate compiler flags.\n",
      "LOCAL_RANK: 0 - CUDA_VISIBLE_DEVICES: [0]\n"
     ]
    },
    {
     "data": {
      "application/vnd.jupyter.widget-view+json": {
       "model_id": "bc09637612c0477b8d80d130fef6124b",
       "version_major": 2,
       "version_minor": 0
      },
      "text/plain": [
       "Output()"
      ]
     },
     "metadata": {},
     "output_type": "display_data"
    },
    {
     "data": {
      "text/html": [
       "<pre style=\"white-space:pre;overflow-x:auto;line-height:normal;font-family:Menlo,'DejaVu Sans Mono',consolas,'Courier New',monospace\">┏━━━━━━━━━━━━━━━━━━━━━━━━━━━┳━━━━━━━━━━━━━━━━━━━━━━━━━━━┓\n",
       "┃<span style=\"font-weight: bold\">        Test metric        </span>┃<span style=\"font-weight: bold\">       DataLoader 0        </span>┃\n",
       "┡━━━━━━━━━━━━━━━━━━━━━━━━━━━╇━━━━━━━━━━━━━━━━━━━━━━━━━━━┩\n",
       "│<span style=\"color: #008080; text-decoration-color: #008080\">         test_acc          </span>│<span style=\"color: #800080; text-decoration-color: #800080\">    0.5142906904220581     </span>│\n",
       "│<span style=\"color: #008080; text-decoration-color: #008080\">         test_loss         </span>│<span style=\"color: #800080; text-decoration-color: #800080\">     1.623957633972168     </span>│\n",
       "└───────────────────────────┴───────────────────────────┘\n",
       "</pre>\n"
      ],
      "text/plain": [
       "┏━━━━━━━━━━━━━━━━━━━━━━━━━━━┳━━━━━━━━━━━━━━━━━━━━━━━━━━━┓\n",
       "┃\u001b[1m \u001b[0m\u001b[1m       Test metric       \u001b[0m\u001b[1m \u001b[0m┃\u001b[1m \u001b[0m\u001b[1m      DataLoader 0       \u001b[0m\u001b[1m \u001b[0m┃\n",
       "┡━━━━━━━━━━━━━━━━━━━━━━━━━━━╇━━━━━━━━━━━━━━━━━━━━━━━━━━━┩\n",
       "│\u001b[36m \u001b[0m\u001b[36m        test_acc         \u001b[0m\u001b[36m \u001b[0m│\u001b[35m \u001b[0m\u001b[35m   0.5142906904220581    \u001b[0m\u001b[35m \u001b[0m│\n",
       "│\u001b[36m \u001b[0m\u001b[36m        test_loss        \u001b[0m\u001b[36m \u001b[0m│\u001b[35m \u001b[0m\u001b[35m    1.623957633972168    \u001b[0m\u001b[35m \u001b[0m│\n",
       "└───────────────────────────┴───────────────────────────┘\n"
      ]
     },
     "metadata": {},
     "output_type": "display_data"
    },
    {
     "data": {
      "text/html": [
       "<pre style=\"white-space:pre;overflow-x:auto;line-height:normal;font-family:Menlo,'DejaVu Sans Mono',consolas,'Courier New',monospace\"></pre>\n"
      ],
      "text/plain": []
     },
     "metadata": {},
     "output_type": "display_data"
    },
    {
     "data": {
      "text/plain": [
       "[{'test_loss': 1.623957633972168, 'test_acc': 0.5142906904220581}]"
      ]
     },
     "execution_count": 11,
     "metadata": {},
     "output_type": "execute_result"
    }
   ],
   "source": [
    "trainer.test(elo_model, datamodule=elo_data_module)"
   ]
  },
  {
   "cell_type": "code",
   "execution_count": 13,
   "metadata": {},
   "outputs": [
    {
     "name": "stderr",
     "output_type": "stream",
     "text": [
      "Using bfloat16 Automatic Mixed Precision (AMP)\n",
      "You are using the plain ModelCheckpoint callback. Consider using LitModelCheckpoint which with seamless uploading to Model registry.\n",
      "GPU available: True (cuda), used: True\n",
      "TPU available: False, using: 0 TPU cores\n",
      "HPU available: False, using: 0 HPUs\n"
     ]
    },
    {
     "name": "stdout",
     "output_type": "stream",
     "text": [
      "number of parameters: 27.29M\n"
     ]
    }
   ],
   "source": [
    "elo_model = LightningGPT.load_from_checkpoint(elo_checkpoint, config=model_config, test_start_token=11)\n",
    "\n",
    "trainer = pl.Trainer(\n",
    "    accelerator=\"gpu\",\n",
    "    max_epochs=10,\n",
    "    callbacks=[pl.callbacks.RichProgressBar()],\n",
    "    precision=\"bf16-mixed\",\n",
    ")\n",
    "torch.set_float32_matmul_precision('high')"
   ]
  },
  {
   "cell_type": "code",
   "execution_count": 14,
   "metadata": {},
   "outputs": [
    {
     "name": "stderr",
     "output_type": "stream",
     "text": [
      "LOCAL_RANK: 0 - CUDA_VISIBLE_DEVICES: [0]\n"
     ]
    },
    {
     "data": {
      "application/vnd.jupyter.widget-view+json": {
       "model_id": "70938b687a6c47eba6a82ecf38a51019",
       "version_major": 2,
       "version_minor": 0
      },
      "text/plain": [
       "Output()"
      ]
     },
     "metadata": {},
     "output_type": "display_data"
    },
    {
     "data": {
      "text/html": [
       "<pre style=\"white-space:pre;overflow-x:auto;line-height:normal;font-family:Menlo,'DejaVu Sans Mono',consolas,'Courier New',monospace\">┏━━━━━━━━━━━━━━━━━━━━━━━━━━━┳━━━━━━━━━━━━━━━━━━━━━━━━━━━┓\n",
       "┃<span style=\"font-weight: bold\">        Test metric        </span>┃<span style=\"font-weight: bold\">       DataLoader 0        </span>┃\n",
       "┡━━━━━━━━━━━━━━━━━━━━━━━━━━━╇━━━━━━━━━━━━━━━━━━━━━━━━━━━┩\n",
       "│<span style=\"color: #008080; text-decoration-color: #008080\">         test_acc          </span>│<span style=\"color: #800080; text-decoration-color: #800080\">     0.512260377407074     </span>│\n",
       "│<span style=\"color: #008080; text-decoration-color: #008080\">         test_loss         </span>│<span style=\"color: #800080; text-decoration-color: #800080\">     1.623957633972168     </span>│\n",
       "└───────────────────────────┴───────────────────────────┘\n",
       "</pre>\n"
      ],
      "text/plain": [
       "┏━━━━━━━━━━━━━━━━━━━━━━━━━━━┳━━━━━━━━━━━━━━━━━━━━━━━━━━━┓\n",
       "┃\u001b[1m \u001b[0m\u001b[1m       Test metric       \u001b[0m\u001b[1m \u001b[0m┃\u001b[1m \u001b[0m\u001b[1m      DataLoader 0       \u001b[0m\u001b[1m \u001b[0m┃\n",
       "┡━━━━━━━━━━━━━━━━━━━━━━━━━━━╇━━━━━━━━━━━━━━━━━━━━━━━━━━━┩\n",
       "│\u001b[36m \u001b[0m\u001b[36m        test_acc         \u001b[0m\u001b[36m \u001b[0m│\u001b[35m \u001b[0m\u001b[35m    0.512260377407074    \u001b[0m\u001b[35m \u001b[0m│\n",
       "│\u001b[36m \u001b[0m\u001b[36m        test_loss        \u001b[0m\u001b[36m \u001b[0m│\u001b[35m \u001b[0m\u001b[35m    1.623957633972168    \u001b[0m\u001b[35m \u001b[0m│\n",
       "└───────────────────────────┴───────────────────────────┘\n"
      ]
     },
     "metadata": {},
     "output_type": "display_data"
    },
    {
     "data": {
      "text/html": [
       "<pre style=\"white-space:pre;overflow-x:auto;line-height:normal;font-family:Menlo,'DejaVu Sans Mono',consolas,'Courier New',monospace\"></pre>\n"
      ],
      "text/plain": []
     },
     "metadata": {},
     "output_type": "display_data"
    },
    {
     "data": {
      "text/plain": [
       "[{'test_loss': 1.623957633972168, 'test_acc': 0.512260377407074}]"
      ]
     },
     "execution_count": 14,
     "metadata": {},
     "output_type": "execute_result"
    }
   ],
   "source": [
    "trainer.test(elo_model, datamodule=elo_data_module)"
   ]
  }
 ],
 "metadata": {
  "kernelspec": {
   "display_name": "python",
   "language": "python",
   "name": "python3"
  },
  "language_info": {
   "codemirror_mode": {
    "name": "ipython",
    "version": 3
   },
   "file_extension": ".py",
   "mimetype": "text/x-python",
   "name": "python",
   "nbconvert_exporter": "python",
   "pygments_lexer": "ipython3",
   "version": "3.12.4"
  }
 },
 "nbformat": 4,
 "nbformat_minor": 2
}

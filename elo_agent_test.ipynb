{
 "cells": [
  {
   "cell_type": "code",
   "execution_count": 1,
   "id": "0acafea1",
   "metadata": {},
   "outputs": [],
   "source": [
    "%reload_ext autoreload\n",
    "%autoreload 2"
   ]
  },
  {
   "cell_type": "code",
   "execution_count": 28,
   "id": "8cf36d28",
   "metadata": {},
   "outputs": [],
   "source": [
    "import chess\n",
    "from playing.utils import board_to_piece_uci_moves\n",
    "from playing.agents import GPTEloAgent, NegaMaxMaterialGPTEloAgent\n",
    "from lightning_training import LightningGPT\n",
    "\n",
    "from data_process import tokenizers\n",
    "from nanoGPT.model import GPTConfig\n"
   ]
  },
  {
   "cell_type": "code",
   "execution_count": 3,
   "id": "91177c01",
   "metadata": {},
   "outputs": [
    {
     "name": "stdout",
     "output_type": "stream",
     "text": [
      "number of parameters: 27.34M\n",
      "number of parameters: 28.15M\n",
      "number of parameters: 27.29M\n",
      "number of parameters: 27.29M\n"
     ]
    }
   ],
   "source": [
    "material_pair_tokenizer = tokenizers.FullMoveEloMaterialPairTokenizer()\n",
    "\n",
    "material_tokenizer = tokenizers.FullMoveEloMaterialTokenizer()\n",
    "\n",
    "base_tokenizer = tokenizers.FullMoveTokenizerWithElo()\n",
    "\n",
    "material_pair_model_config = GPTConfig(\n",
    "    block_size=604,\n",
    "    vocab_size=len(material_pair_tokenizer.vocab),\n",
    "    n_layer=8,\n",
    "    n_head=8,\n",
    "    n_embd=512,\n",
    "    bias=False,\n",
    ")\n",
    "\n",
    "material_model_config = GPTConfig(\n",
    "    block_size=604,\n",
    "    vocab_size=material_tokenizer.vocab_size,\n",
    "    n_layer=8,\n",
    "    n_head=8,\n",
    "    n_embd=512,\n",
    "    bias=False,\n",
    ")\n",
    "\n",
    "base_model_config = GPTConfig(\n",
    "    block_size=302,\n",
    "    vocab_size=base_tokenizer.vocab_size,\n",
    "    n_layer=8,\n",
    "    n_head=8,\n",
    "    n_embd=512,\n",
    "    bias=False,\n",
    ")\n",
    "\n",
    "test_start_token = 21\n",
    "test_token_step = 2\n",
    "\n",
    "test_start_token_base = test_start_token // 2 + 1\n",
    "test_token_step_base = 1\n",
    "\n",
    "material_checkpoint = \"./models/full_training/elo_material_ignore_material_prediction/epoch=9-step=1250000.ckpt\"\n",
    "# material_single_checkpoint = \"./models/small_training/elo_material_ignore_material_prediction/epoch=4-step=78125.ckpt\"\n",
    "\n",
    "\n",
    "material_model = LightningGPT.load_from_checkpoint(\n",
    "    material_checkpoint,\n",
    "    config=material_model_config,\n",
    "    test_start_token=test_start_token,\n",
    "    test_token_step=test_token_step,\n",
    "    trainig_ignore_first_n_targets=test_start_token,\n",
    "    training_target_step=2,\n",
    "    tokenizer=material_tokenizer,\n",
    "    masked_elo_test=True\n",
    ")\n",
    "\n",
    "material_pair_checkpoint = \"./models/full_training/elo_material_pair_ignore_material_prediction/epoch=9-step=1250000.ckpt\"\n",
    "\n",
    "material_pair_model = LightningGPT.load_from_checkpoint(\n",
    "    material_pair_checkpoint,\n",
    "    config=material_pair_model_config,\n",
    "    test_start_token=test_start_token,\n",
    "    test_token_step=test_token_step,\n",
    "    trainig_ignore_first_n_targets=test_start_token,\n",
    "    training_target_step=2,\n",
    "    tokenizer=material_pair_tokenizer,\n",
    "    masked_elo_test=True\n",
    ")\n",
    "\n",
    "base_checkpoint = \"./models/full_training/masked_elo/epoch=9-step=1250000.ckpt\"\n",
    "\n",
    "base_model = LightningGPT.load_from_checkpoint(\n",
    "    base_checkpoint,\n",
    "    config=base_model_config,\n",
    "    test_start_token=test_start_token_base,\n",
    "    test_token_step=test_token_step_base,\n",
    "    trainig_ignore_first_n_targets=test_start_token_base,\n",
    "    training_target_step=test_token_step_base,\n",
    "    tokenizer=base_tokenizer,\n",
    "    masked_elo_test=True\n",
    ")\n",
    "\n",
    "base_no_mask_checkpoint = \"./models/full_training/adaptive_elo/epoch=9-step=1250000.ckpt\"\n",
    "\n",
    "base_no_mask_model = LightningGPT.load_from_checkpoint(\n",
    "    base_no_mask_checkpoint,\n",
    "    config=base_model_config,\n",
    "    test_start_token=test_start_token_base,\n",
    "    test_token_step=test_token_step_base,\n",
    "    trainig_ignore_first_n_targets=test_start_token_base,\n",
    "    training_target_step=test_token_step_base,\n",
    "    tokenizer=base_tokenizer,\n",
    "    masked_elo_test=True\n",
    ")"
   ]
  },
  {
   "cell_type": "code",
   "execution_count": 7,
   "id": "7d221c04",
   "metadata": {},
   "outputs": [
    {
     "data": {
      "text/plain": [
       "Move.from_uci('e2e4')"
      ]
     },
     "execution_count": 7,
     "metadata": {},
     "output_type": "execute_result"
    }
   ],
   "source": [
    "model = material_model.model\n",
    "agent = GPTEloAgent(model=model, model_elo=1000, use_material_tokens=True)\n",
    "\n",
    "board = chess.Board()\n",
    "agent.play(board)"
   ]
  },
  {
   "cell_type": "code",
   "execution_count": 25,
   "id": "0cf69cad",
   "metadata": {},
   "outputs": [
    {
     "data": {
      "text/html": [
       "<div>\n",
       "<style scoped>\n",
       "    .dataframe tbody tr th:only-of-type {\n",
       "        vertical-align: middle;\n",
       "    }\n",
       "\n",
       "    .dataframe tbody tr th {\n",
       "        vertical-align: top;\n",
       "    }\n",
       "\n",
       "    .dataframe thead th {\n",
       "        text-align: right;\n",
       "    }\n",
       "</style>\n",
       "<table border=\"1\" class=\"dataframe\">\n",
       "  <thead>\n",
       "    <tr style=\"text-align: right;\">\n",
       "      <th></th>\n",
       "      <th>index</th>\n",
       "      <th>id</th>\n",
       "      <th>date</th>\n",
       "      <th>white_elo</th>\n",
       "      <th>black_elo</th>\n",
       "      <th>result</th>\n",
       "      <th>ply</th>\n",
       "      <th>ply_30s</th>\n",
       "      <th>piece_uci</th>\n",
       "    </tr>\n",
       "  </thead>\n",
       "  <tbody>\n",
       "    <tr>\n",
       "      <th>75721</th>\n",
       "      <td>99034768</td>\n",
       "      <td>j8dut9JL</td>\n",
       "      <td>2025.01.31</td>\n",
       "      <td>2425</td>\n",
       "      <td>2427</td>\n",
       "      <td>1-0</td>\n",
       "      <td>85</td>\n",
       "      <td>68</td>\n",
       "      <td>Pd2d4 39 39 Ng8f6 39 39 Ng1f3 39 39 Pc7c5 39 3...</td>\n",
       "    </tr>\n",
       "    <tr>\n",
       "      <th>80184</th>\n",
       "      <td>7380677</td>\n",
       "      <td>UMIvcBzB</td>\n",
       "      <td>2024.12.03</td>\n",
       "      <td>1919</td>\n",
       "      <td>2020</td>\n",
       "      <td>1-0</td>\n",
       "      <td>67</td>\n",
       "      <td>47</td>\n",
       "      <td>Pd2d4 39 39 Ng8f6 39 39 Nb1c3 39 39 Pc7c5 39 3...</td>\n",
       "    </tr>\n",
       "    <tr>\n",
       "      <th>19864</th>\n",
       "      <td>14462158</td>\n",
       "      <td>RP3reGqr</td>\n",
       "      <td>2024.12.05</td>\n",
       "      <td>2135</td>\n",
       "      <td>2144</td>\n",
       "      <td>1-0</td>\n",
       "      <td>41</td>\n",
       "      <td>-1</td>\n",
       "      <td>Ng1f3 39 39 Pc7c6 39 39 Pg2g3 39 39 Pd7d5 39 3...</td>\n",
       "    </tr>\n",
       "    <tr>\n",
       "      <th>76699</th>\n",
       "      <td>99355390</td>\n",
       "      <td>OC9pukWM</td>\n",
       "      <td>2025.01.31</td>\n",
       "      <td>2402</td>\n",
       "      <td>2433</td>\n",
       "      <td>1-0</td>\n",
       "      <td>53</td>\n",
       "      <td>-1</td>\n",
       "      <td>Pc2c4 39 39 Pe7e6 39 39 Nb1c3 39 39 Pd7d5 39 3...</td>\n",
       "    </tr>\n",
       "    <tr>\n",
       "      <th>92991</th>\n",
       "      <td>14089339</td>\n",
       "      <td>BL4die9s</td>\n",
       "      <td>2024.12.05</td>\n",
       "      <td>1200</td>\n",
       "      <td>1143</td>\n",
       "      <td>1-0</td>\n",
       "      <td>45</td>\n",
       "      <td>-1</td>\n",
       "      <td>Pe2e4 39 39 Pd7d5 39 39 Pe4d5 39 38 Qd8d5 38 3...</td>\n",
       "    </tr>\n",
       "    <tr>\n",
       "      <th>...</th>\n",
       "      <td>...</td>\n",
       "      <td>...</td>\n",
       "      <td>...</td>\n",
       "      <td>...</td>\n",
       "      <td>...</td>\n",
       "      <td>...</td>\n",
       "      <td>...</td>\n",
       "      <td>...</td>\n",
       "      <td>...</td>\n",
       "    </tr>\n",
       "    <tr>\n",
       "      <th>5002</th>\n",
       "      <td>97062</td>\n",
       "      <td>?</td>\n",
       "      <td>2021.12.07</td>\n",
       "      <td>2726</td>\n",
       "      <td>2574</td>\n",
       "      <td>1-0</td>\n",
       "      <td>9</td>\n",
       "      <td>-1</td>\n",
       "      <td>Pd2d4 39 39 Pd7d5 39 39 Nb1c3 39 39 Ng8f6 39 3...</td>\n",
       "    </tr>\n",
       "    <tr>\n",
       "      <th>30151</th>\n",
       "      <td>45151922</td>\n",
       "      <td>dUvdD4GK</td>\n",
       "      <td>2024.12.15</td>\n",
       "      <td>2258</td>\n",
       "      <td>2163</td>\n",
       "      <td>0-1</td>\n",
       "      <td>80</td>\n",
       "      <td>-1</td>\n",
       "      <td>Pc2c4 39 39 Pe7e6 39 39 Ng1f3 39 39 Pd7d5 39 3...</td>\n",
       "    </tr>\n",
       "    <tr>\n",
       "      <th>93194</th>\n",
       "      <td>14092632</td>\n",
       "      <td>7yOJ8xPr</td>\n",
       "      <td>2024.12.05</td>\n",
       "      <td>1051</td>\n",
       "      <td>1129</td>\n",
       "      <td>1-0</td>\n",
       "      <td>45</td>\n",
       "      <td>-1</td>\n",
       "      <td>Pe2e4 39 39 Pe7e5 39 39 Pd2d3 39 39 Nb8c6 39 3...</td>\n",
       "    </tr>\n",
       "    <tr>\n",
       "      <th>73199</th>\n",
       "      <td>98330191</td>\n",
       "      <td>Zw7vLYf0</td>\n",
       "      <td>2025.01.31</td>\n",
       "      <td>2418</td>\n",
       "      <td>2414</td>\n",
       "      <td>0-1</td>\n",
       "      <td>48</td>\n",
       "      <td>22</td>\n",
       "      <td>Pe2e4 39 39 Pd7d5 39 39 Pe4d5 39 38 Qd8d5 38 3...</td>\n",
       "    </tr>\n",
       "    <tr>\n",
       "      <th>74479</th>\n",
       "      <td>98680773</td>\n",
       "      <td>sEpm5Pcj</td>\n",
       "      <td>2025.01.31</td>\n",
       "      <td>2589</td>\n",
       "      <td>2570</td>\n",
       "      <td>0-1</td>\n",
       "      <td>96</td>\n",
       "      <td>66</td>\n",
       "      <td>Pd2d4 39 39 Ng8f6 39 39 Nb1c3 39 39 Pg7g6 39 3...</td>\n",
       "    </tr>\n",
       "  </tbody>\n",
       "</table>\n",
       "<p>10000 rows × 9 columns</p>\n",
       "</div>"
      ],
      "text/plain": [
       "          index        id        date  white_elo  black_elo result  ply  \\\n",
       "75721  99034768  j8dut9JL  2025.01.31       2425       2427    1-0   85   \n",
       "80184   7380677  UMIvcBzB  2024.12.03       1919       2020    1-0   67   \n",
       "19864  14462158  RP3reGqr  2024.12.05       2135       2144    1-0   41   \n",
       "76699  99355390  OC9pukWM  2025.01.31       2402       2433    1-0   53   \n",
       "92991  14089339  BL4die9s  2024.12.05       1200       1143    1-0   45   \n",
       "...         ...       ...         ...        ...        ...    ...  ...   \n",
       "5002      97062         ?  2021.12.07       2726       2574    1-0    9   \n",
       "30151  45151922  dUvdD4GK  2024.12.15       2258       2163    0-1   80   \n",
       "93194  14092632  7yOJ8xPr  2024.12.05       1051       1129    1-0   45   \n",
       "73199  98330191  Zw7vLYf0  2025.01.31       2418       2414    0-1   48   \n",
       "74479  98680773  sEpm5Pcj  2025.01.31       2589       2570    0-1   96   \n",
       "\n",
       "       ply_30s                                          piece_uci  \n",
       "75721       68  Pd2d4 39 39 Ng8f6 39 39 Ng1f3 39 39 Pc7c5 39 3...  \n",
       "80184       47  Pd2d4 39 39 Ng8f6 39 39 Nb1c3 39 39 Pc7c5 39 3...  \n",
       "19864       -1  Ng1f3 39 39 Pc7c6 39 39 Pg2g3 39 39 Pd7d5 39 3...  \n",
       "76699       -1  Pc2c4 39 39 Pe7e6 39 39 Nb1c3 39 39 Pd7d5 39 3...  \n",
       "92991       -1  Pe2e4 39 39 Pd7d5 39 39 Pe4d5 39 38 Qd8d5 38 3...  \n",
       "...        ...                                                ...  \n",
       "5002        -1  Pd2d4 39 39 Pd7d5 39 39 Nb1c3 39 39 Ng8f6 39 3...  \n",
       "30151       -1  Pc2c4 39 39 Pe7e6 39 39 Ng1f3 39 39 Pd7d5 39 3...  \n",
       "93194       -1  Pe2e4 39 39 Pe7e5 39 39 Pd2d3 39 39 Nb8c6 39 3...  \n",
       "73199       22  Pe2e4 39 39 Pd7d5 39 39 Pe4d5 39 38 Qd8d5 38 3...  \n",
       "74479       66  Pd2d4 39 39 Ng8f6 39 39 Nb1c3 39 39 Pg7g6 39 3...  \n",
       "\n",
       "[10000 rows x 9 columns]"
      ]
     },
     "execution_count": 25,
     "metadata": {},
     "output_type": "execute_result"
    }
   ],
   "source": [
    "import pandas as pd\n",
    "from data_process.utils import add_elo_token_to_games, remove_last_player_material_token\n",
    "\n",
    "\n",
    "headers = [\"index\", \"id\", \"date\", \"white_elo\", \"black_elo\", \"result\", \"ply\", \"ply_30s\", \"piece_uci\"]\n",
    "\n",
    "games_df = pd.read_csv(\"./data/test.csv\", delimiter=\";\", header=None, names=headers)\n",
    "\n",
    "games_df = games_df.sample(frac=0.1, random_state=42)\n",
    "\n",
    "games = remove_last_player_material_token(games_df.piece_uci)\n",
    "games = add_elo_token_to_games(games, games_df.white_elo, games_df.black_elo)\n",
    "\n",
    "games_df"
   ]
  },
  {
   "cell_type": "code",
   "execution_count": 30,
   "id": "36038eba",
   "metadata": {},
   "outputs": [],
   "source": [
    "def elo_agent_prediction(agent, piece_uci, white_elo, black_elo):\n",
    "    if isinstance(piece_uci, str):\n",
    "        piece_uci = piece_uci.split(\" \")\n",
    "    if isinstance(white_elo, int):\n",
    "        white_elo = str(white_elo)\n",
    "    if isinstance(black_elo, int):\n",
    "        black_elo = str(black_elo)\n",
    "\n",
    "    board = chess.Board()\n",
    "\n",
    "    correct_predictions = 0\n",
    "    all_predictions = 0\n",
    "\n",
    "    for move in piece_uci:\n",
    "        if board.turn == chess.WHITE:\n",
    "            agent.model_elo = white_elo\n",
    "        else:\n",
    "            agent.model_elo = black_elo\n",
    "\n",
    "        predicted_move = agent.play(board)\n",
    "        real_move = chess.Move.from_uci(move[1:])\n",
    "        if predicted_move == real_move:\n",
    "            correct_predictions += 1\n",
    "        all_predictions += 1\n",
    "        board.push(chess.Move.from_uci(move[1:]))\n",
    "\n",
    "    return correct_predictions, all_predictions"
   ]
  },
  {
   "cell_type": "code",
   "execution_count": 33,
   "id": "2091c6cc",
   "metadata": {},
   "outputs": [],
   "source": [
    "from tqdm import tqdm\n",
    "\n",
    "def test_elo_agent(agent, games_df):\n",
    "    correct_predictions = 0\n",
    "    all_predictions = 0\n",
    "\n",
    "    for index, row in tqdm(list(games_df.iterrows())):\n",
    "        piece_uci = row[\"piece_uci\"].split(\" \")[::3]\n",
    "        white_elo = int(row[\"white_elo\"]) // 100 * 100\n",
    "        black_elo = int(row[\"black_elo\"]) // 100 * 100\n",
    "\n",
    "        correct, all_moves = elo_agent_prediction(agent, piece_uci, white_elo, black_elo)\n",
    "        correct_predictions += correct\n",
    "        all_predictions += all_moves\n",
    "\n",
    "    return correct_predictions, all_predictions"
   ]
  },
  {
   "cell_type": "code",
   "execution_count": null,
   "id": "b4ee1af6",
   "metadata": {},
   "outputs": [
    {
     "name": "stderr",
     "output_type": "stream",
     "text": [
      "100%|██████████| 10/10 [00:17<00:00,  1.77s/it]"
     ]
    },
    {
     "name": "stdout",
     "output_type": "stream",
     "text": [
      "376 / 714 = 52.66%\n"
     ]
    },
    {
     "name": "stderr",
     "output_type": "stream",
     "text": [
      "\n"
     ]
    }
   ],
   "source": [
    "games_df_sample = games_df.sample(n=10, random_state=42)\n",
    "agent = GPTEloAgent(model=model, model_elo=1500, use_material_tokens=True)\n",
    "\n",
    "corect_prediction, all_predictions = test_elo_agent(agent, games_df_sample)\n",
    "\n",
    "print(f\"{corect_prediction} / {all_predictions} = {corect_prediction / all_predictions:.2%}\")\n",
    "\n"
   ]
  },
  {
   "cell_type": "code",
   "execution_count": 73,
   "id": "b6512864",
   "metadata": {},
   "outputs": [],
   "source": [
    "search_agent = NegaMaxMaterialGPTEloAgent(model=model, depth=1, model_elo=1500, use_material_tokens=True)"
   ]
  },
  {
   "cell_type": "code",
   "execution_count": 74,
   "id": "8cf4f51a",
   "metadata": {},
   "outputs": [
    {
     "data": {
      "text/plain": [
       "Move.from_uci('e2e4')"
      ]
     },
     "execution_count": 74,
     "metadata": {},
     "output_type": "execute_result"
    }
   ],
   "source": [
    "board = chess.Board()\n",
    "search_agent.play(board)"
   ]
  },
  {
   "cell_type": "code",
   "execution_count": 75,
   "id": "57916c2c",
   "metadata": {},
   "outputs": [
    {
     "name": "stderr",
     "output_type": "stream",
     "text": [
      "100%|██████████| 10/10 [00:19<00:00,  1.91s/it]"
     ]
    },
    {
     "name": "stdout",
     "output_type": "stream",
     "text": [
      "329 / 714 = 46.08%\n"
     ]
    },
    {
     "name": "stderr",
     "output_type": "stream",
     "text": [
      "\n"
     ]
    }
   ],
   "source": [
    "corect_prediction, all_predictions = test_elo_agent(search_agent, games_df_sample)\n",
    "\n",
    "print(f\"{corect_prediction} / {all_predictions} = {corect_prediction / all_predictions:.2%}\")"
   ]
  },
  {
   "cell_type": "code",
   "execution_count": null,
   "id": "8cc75a6f",
   "metadata": {},
   "outputs": [],
   "source": []
  }
 ],
 "metadata": {
  "kernelspec": {
   "display_name": "python",
   "language": "python",
   "name": "python3"
  },
  "language_info": {
   "codemirror_mode": {
    "name": "ipython",
    "version": 3
   },
   "file_extension": ".py",
   "mimetype": "text/x-python",
   "name": "python",
   "nbconvert_exporter": "python",
   "pygments_lexer": "ipython3",
   "version": "3.13.2"
  }
 },
 "nbformat": 4,
 "nbformat_minor": 5
}

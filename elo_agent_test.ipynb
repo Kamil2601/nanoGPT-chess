{
 "cells": [
  {
   "cell_type": "code",
   "execution_count": 25,
   "id": "0acafea1",
   "metadata": {},
   "outputs": [],
   "source": [
    "%reload_ext autoreload\n",
    "%autoreload 2"
   ]
  },
  {
   "cell_type": "code",
   "execution_count": 26,
   "id": "8cf36d28",
   "metadata": {},
   "outputs": [],
   "source": [
    "import chess\n",
    "from playing.utils import board_to_piece_uci_moves\n",
    "from playing.agents import GPTEloAgent\n",
    "from lightning_training import LightningGPT\n",
    "\n",
    "from data_process import tokenizers\n",
    "from nanoGPT.model import GPTConfig\n"
   ]
  },
  {
   "cell_type": "code",
   "execution_count": 27,
   "id": "91177c01",
   "metadata": {},
   "outputs": [
    {
     "name": "stdout",
     "output_type": "stream",
     "text": [
      "number of parameters: 27.34M\n",
      "number of parameters: 28.15M\n",
      "number of parameters: 27.29M\n",
      "number of parameters: 27.29M\n"
     ]
    }
   ],
   "source": [
    "material_pair_tokenizer = tokenizers.FullMoveEloMaterialPairTokenizer()\n",
    "\n",
    "material_tokenizer = tokenizers.FullMoveEloMaterialTokenizer()\n",
    "\n",
    "base_tokenizer = tokenizers.FullMoveTokenizerWithElo()\n",
    "\n",
    "material_pair_model_config = GPTConfig(\n",
    "    block_size=604,\n",
    "    vocab_size=len(material_pair_tokenizer.vocab),\n",
    "    n_layer=8,\n",
    "    n_head=8,\n",
    "    n_embd=512,\n",
    "    bias=False,\n",
    ")\n",
    "\n",
    "material_model_config = GPTConfig(\n",
    "    block_size=604,\n",
    "    vocab_size=material_tokenizer.vocab_size,\n",
    "    n_layer=8,\n",
    "    n_head=8,\n",
    "    n_embd=512,\n",
    "    bias=False,\n",
    ")\n",
    "\n",
    "base_model_config = GPTConfig(\n",
    "    block_size=302,\n",
    "    vocab_size=base_tokenizer.vocab_size,\n",
    "    n_layer=8,\n",
    "    n_head=8,\n",
    "    n_embd=512,\n",
    "    bias=False,\n",
    ")\n",
    "\n",
    "test_start_token = 21\n",
    "test_token_step = 2\n",
    "\n",
    "test_start_token_base = test_start_token // 2 + 1\n",
    "test_token_step_base = 1\n",
    "\n",
    "material_checkpoint = \"./models/full_training/elo_material_ignore_material_prediction/epoch=9-step=1250000.ckpt\"\n",
    "# material_single_checkpoint = \"./models/small_training/elo_material_ignore_material_prediction/epoch=4-step=78125.ckpt\"\n",
    "\n",
    "\n",
    "material_model = LightningGPT.load_from_checkpoint(\n",
    "    material_checkpoint,\n",
    "    config=material_model_config,\n",
    "    test_start_token=test_start_token,\n",
    "    test_token_step=test_token_step,\n",
    "    trainig_ignore_first_n_targets=test_start_token,\n",
    "    training_target_step=2,\n",
    "    tokenizer=material_tokenizer,\n",
    "    masked_elo_test=True\n",
    ")\n",
    "\n",
    "material_pair_checkpoint = \"./models/full_training/elo_material_pair_ignore_material_prediction/epoch=9-step=1250000.ckpt\"\n",
    "\n",
    "material_pair_model = LightningGPT.load_from_checkpoint(\n",
    "    material_pair_checkpoint,\n",
    "    config=material_pair_model_config,\n",
    "    test_start_token=test_start_token,\n",
    "    test_token_step=test_token_step,\n",
    "    trainig_ignore_first_n_targets=test_start_token,\n",
    "    training_target_step=2,\n",
    "    tokenizer=material_pair_tokenizer,\n",
    "    masked_elo_test=True\n",
    ")\n",
    "\n",
    "base_checkpoint = \"./models/full_training/masked_elo/epoch=9-step=1250000.ckpt\"\n",
    "\n",
    "base_model = LightningGPT.load_from_checkpoint(\n",
    "    base_checkpoint,\n",
    "    config=base_model_config,\n",
    "    test_start_token=test_start_token_base,\n",
    "    test_token_step=test_token_step_base,\n",
    "    trainig_ignore_first_n_targets=test_start_token_base,\n",
    "    training_target_step=test_token_step_base,\n",
    "    tokenizer=base_tokenizer,\n",
    "    masked_elo_test=True\n",
    ")\n",
    "\n",
    "base_no_mask_checkpoint = \"./models/full_training/adaptive_elo/epoch=9-step=1250000.ckpt\"\n",
    "\n",
    "base_no_mask_model = LightningGPT.load_from_checkpoint(\n",
    "    base_no_mask_checkpoint,\n",
    "    config=base_model_config,\n",
    "    test_start_token=test_start_token_base,\n",
    "    test_token_step=test_token_step_base,\n",
    "    trainig_ignore_first_n_targets=test_start_token_base,\n",
    "    training_target_step=test_token_step_base,\n",
    "    tokenizer=base_tokenizer,\n",
    "    masked_elo_test=True\n",
    ")"
   ]
  },
  {
   "cell_type": "code",
   "execution_count": 94,
   "id": "7d221c04",
   "metadata": {},
   "outputs": [
    {
     "data": {
      "text/plain": [
       "Move.from_uci('e2e4')"
      ]
     },
     "execution_count": 94,
     "metadata": {},
     "output_type": "execute_result"
    }
   ],
   "source": [
    "model = material_model.model\n",
    "agent = GPTEloAgent(model=model, model_elo=1800, use_material_tokens=True)\n",
    "\n",
    "board = chess.Board()\n",
    "agent.play(board)"
   ]
  }
 ],
 "metadata": {
  "kernelspec": {
   "display_name": "python",
   "language": "python",
   "name": "python3"
  },
  "language_info": {
   "codemirror_mode": {
    "name": "ipython",
    "version": 3
   },
   "file_extension": ".py",
   "mimetype": "text/x-python",
   "name": "python",
   "nbconvert_exporter": "python",
   "pygments_lexer": "ipython3",
   "version": "3.13.2"
  }
 },
 "nbformat": 4,
 "nbformat_minor": 5
}

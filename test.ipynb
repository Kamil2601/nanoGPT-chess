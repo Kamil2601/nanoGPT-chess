{
 "cells": [
  {
   "cell_type": "code",
   "execution_count": 1,
   "metadata": {},
   "outputs": [],
   "source": [
    "import pandas as pd\n",
    "import matplotlib.pyplot as plt\n",
    "from data_process import tokenizers"
   ]
  },
  {
   "cell_type": "code",
   "execution_count": 3,
   "metadata": {},
   "outputs": [],
   "source": [
    "headers = [\"index\", \"id\", \"date\", \"white_elo\", \"black_elo\", \"result\", \"ply\", \"ply_30s\", \"piece_uci\"]\n",
    "\n",
    "df = pd.read_csv(\"./data/csv/train.csv\", delimiter=\";\", header=None, names=headers)"
   ]
  },
  {
   "cell_type": "code",
   "execution_count": 4,
   "metadata": {},
   "outputs": [],
   "source": [
    "piece_uci = df.piece_uci.str.split(\" \")\n",
    "piece_uci = piece_uci.apply(lambda lst: [x for x in lst if not x.isdigit()])\n",
    "piece_uci = piece_uci.apply(lambda lst: \" \".join(lst))\n",
    "# ranked_games = df.white_elo.astype(\"str\") + \" \" + df.black_elo.astype(\"str\") + \" \" + piece_uci\n",
    "# ranked_games"
   ]
  },
  {
   "cell_type": "code",
   "execution_count": 5,
   "metadata": {},
   "outputs": [],
   "source": [
    "piece_uci = df.piece_uci.str.replace(r\" \\d+\", \"\", regex=True)"
   ]
  },
  {
   "cell_type": "code",
   "execution_count": 6,
   "metadata": {},
   "outputs": [],
   "source": [
    "elo_piece_uci = (df.white_elo // 100 * 100).astype(str) + \" \" + (df.black_elo // 100 * 100).astype(str) + \" \" + piece_uci"
   ]
  },
  {
   "cell_type": "code",
   "execution_count": 7,
   "metadata": {},
   "outputs": [],
   "source": [
    "tokenizer = tokenizers.FullMoveTokenizerWithElo()"
   ]
  },
  {
   "cell_type": "code",
   "execution_count": 8,
   "metadata": {},
   "outputs": [],
   "source": [
    "unk_elo_piece_uci = tokenizer.unk_elo_token + \" \" + tokenizer.unk_elo_token + \" \" + piece_uci"
   ]
  },
  {
   "cell_type": "code",
   "execution_count": 9,
   "metadata": {},
   "outputs": [
    {
     "data": {
      "text/plain": [
       "0        [UNK_ELO] [UNK_ELO] Pe2e4 Pe7e6 Pd2d4 Pd7d5 Pe...\n",
       "1        [UNK_ELO] [UNK_ELO] Pd2d3 Pd7d5 Pg2g3 Pe7e5 Bf...\n",
       "2        [UNK_ELO] [UNK_ELO] Pd2d4 Pe7e6 Bc1f4 Ng8f6 Pe...\n",
       "3        [UNK_ELO] [UNK_ELO] Pe2e4 Pe7e5 Ng1f3 Pd7d6 Pc...\n",
       "4        [UNK_ELO] [UNK_ELO] Pg2g3 Ng8f6 Bf1g2 Pe7e5 Pd...\n",
       "                               ...                        \n",
       "99995    [UNK_ELO] [UNK_ELO] Pe2e4 Pe7e5 Pd2d4 Pd7d6 Ng...\n",
       "99996    [UNK_ELO] [UNK_ELO] Pe2e4 Pd7d5 Pe4e5 Pe7e6 Pd...\n",
       "99997    [UNK_ELO] [UNK_ELO] Pe2e4 Pe7e5 Ng1f3 Pd7d6 Ph...\n",
       "99998    [UNK_ELO] [UNK_ELO] Pd2d4 Pd7d5 Pc2c4 Pe7e6 Pe...\n",
       "99999    [UNK_ELO] [UNK_ELO] Pd2d4 Ng8f6 Pc2c4 Pe7e6 Ng...\n",
       "Name: piece_uci, Length: 100000, dtype: object"
      ]
     },
     "execution_count": 9,
     "metadata": {},
     "output_type": "execute_result"
    }
   ],
   "source": [
    "unk_elo_piece_uci"
   ]
  }
 ],
 "metadata": {
  "kernelspec": {
   "display_name": "python",
   "language": "python",
   "name": "python3"
  },
  "language_info": {
   "codemirror_mode": {
    "name": "ipython",
    "version": 3
   },
   "file_extension": ".py",
   "mimetype": "text/x-python",
   "name": "python",
   "nbconvert_exporter": "python",
   "pygments_lexer": "ipython3",
   "version": "3.12.4"
  }
 },
 "nbformat": 4,
 "nbformat_minor": 2
}

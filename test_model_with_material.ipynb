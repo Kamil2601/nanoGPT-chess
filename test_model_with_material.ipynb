{
 "cells": [
  {
   "cell_type": "code",
   "execution_count": 1,
   "id": "daa4d7b9",
   "metadata": {},
   "outputs": [],
   "source": [
    "import pandas as pd\n",
    "import matplotlib.pyplot as plt\n",
    "from data_process import tokenizers, utils\n",
    "from nanoGPT.model import  GPT, GPTConfig\n",
    "from lightning_training import LightningGPT, GamesDataModule, GamesDataset\n",
    "import pytorch_lightning as pl\n",
    "import torch\n",
    "import os\n",
    "import numpy as np\n",
    "import seaborn as sns\n",
    "from data_process.utils import add_elo_token_to_games, join_material_tokens, remove_material_tokens"
   ]
  },
  {
   "cell_type": "code",
   "execution_count": 2,
   "id": "9d4d6a0c",
   "metadata": {},
   "outputs": [
    {
     "data": {
      "text/html": [
       "<div>\n",
       "<style scoped>\n",
       "    .dataframe tbody tr th:only-of-type {\n",
       "        vertical-align: middle;\n",
       "    }\n",
       "\n",
       "    .dataframe tbody tr th {\n",
       "        vertical-align: top;\n",
       "    }\n",
       "\n",
       "    .dataframe thead th {\n",
       "        text-align: right;\n",
       "    }\n",
       "</style>\n",
       "<table border=\"1\" class=\"dataframe\">\n",
       "  <thead>\n",
       "    <tr style=\"text-align: right;\">\n",
       "      <th></th>\n",
       "      <th>index</th>\n",
       "      <th>id</th>\n",
       "      <th>date</th>\n",
       "      <th>white_elo</th>\n",
       "      <th>black_elo</th>\n",
       "      <th>result</th>\n",
       "      <th>ply</th>\n",
       "      <th>ply_30s</th>\n",
       "      <th>piece_uci</th>\n",
       "    </tr>\n",
       "  </thead>\n",
       "  <tbody>\n",
       "    <tr>\n",
       "      <th>0</th>\n",
       "      <td>74497</td>\n",
       "      <td>?</td>\n",
       "      <td>2021.12.05</td>\n",
       "      <td>2523</td>\n",
       "      <td>2684</td>\n",
       "      <td>0-1</td>\n",
       "      <td>52</td>\n",
       "      <td>-1</td>\n",
       "      <td>Pd2d4 39 39 Pd7d5 39 39 Nb1c3 39 39 Pc7c6 39 3...</td>\n",
       "    </tr>\n",
       "    <tr>\n",
       "      <th>1</th>\n",
       "      <td>74505</td>\n",
       "      <td>?</td>\n",
       "      <td>2021.12.05</td>\n",
       "      <td>2623</td>\n",
       "      <td>2581</td>\n",
       "      <td>0-1</td>\n",
       "      <td>96</td>\n",
       "      <td>-1</td>\n",
       "      <td>Pd2d4 39 39 Ng8f6 39 39 Pc2c4 39 39 Pe7e6 39 3...</td>\n",
       "    </tr>\n",
       "    <tr>\n",
       "      <th>2</th>\n",
       "      <td>74508</td>\n",
       "      <td>?</td>\n",
       "      <td>2021.12.05</td>\n",
       "      <td>2757</td>\n",
       "      <td>2670</td>\n",
       "      <td>1/2-1/2</td>\n",
       "      <td>106</td>\n",
       "      <td>-1</td>\n",
       "      <td>Pd2d4 39 39 Pd7d5 39 39 Ke1d2 39 39 Pe7e5 39 3...</td>\n",
       "    </tr>\n",
       "    <tr>\n",
       "      <th>3</th>\n",
       "      <td>74510</td>\n",
       "      <td>?</td>\n",
       "      <td>2021.12.05</td>\n",
       "      <td>2627</td>\n",
       "      <td>2666</td>\n",
       "      <td>0-1</td>\n",
       "      <td>96</td>\n",
       "      <td>-1</td>\n",
       "      <td>Pd2d4 39 39 Ng8f6 39 39 Bc1f4 39 39 Pd7d5 39 3...</td>\n",
       "    </tr>\n",
       "    <tr>\n",
       "      <th>4</th>\n",
       "      <td>74517</td>\n",
       "      <td>?</td>\n",
       "      <td>2021.12.05</td>\n",
       "      <td>2666</td>\n",
       "      <td>2571</td>\n",
       "      <td>1-0</td>\n",
       "      <td>47</td>\n",
       "      <td>-1</td>\n",
       "      <td>Pe2e4 39 39 Pc7c5 39 39 Ng1f3 39 39 Nb8c6 39 3...</td>\n",
       "    </tr>\n",
       "    <tr>\n",
       "      <th>...</th>\n",
       "      <td>...</td>\n",
       "      <td>...</td>\n",
       "      <td>...</td>\n",
       "      <td>...</td>\n",
       "      <td>...</td>\n",
       "      <td>...</td>\n",
       "      <td>...</td>\n",
       "      <td>...</td>\n",
       "      <td>...</td>\n",
       "    </tr>\n",
       "    <tr>\n",
       "      <th>99995</th>\n",
       "      <td>14202188</td>\n",
       "      <td>CJayVtXh</td>\n",
       "      <td>2024.12.05</td>\n",
       "      <td>1303</td>\n",
       "      <td>879</td>\n",
       "      <td>1-0</td>\n",
       "      <td>33</td>\n",
       "      <td>-1</td>\n",
       "      <td>Pe2e4 39 39 Pe7e6 39 39 Ng1f3 39 39 Pf7f6 39 3...</td>\n",
       "    </tr>\n",
       "    <tr>\n",
       "      <th>99996</th>\n",
       "      <td>14202189</td>\n",
       "      <td>XkroYjvj</td>\n",
       "      <td>2024.12.05</td>\n",
       "      <td>1099</td>\n",
       "      <td>1209</td>\n",
       "      <td>0-1</td>\n",
       "      <td>59</td>\n",
       "      <td>-1</td>\n",
       "      <td>Pe2e4 39 39 Pe7e5 39 39 Ng1f3 39 39 Nb8c6 39 3...</td>\n",
       "    </tr>\n",
       "    <tr>\n",
       "      <th>99997</th>\n",
       "      <td>14202191</td>\n",
       "      <td>DWLSh6Wn</td>\n",
       "      <td>2024.12.05</td>\n",
       "      <td>1070</td>\n",
       "      <td>1019</td>\n",
       "      <td>0-1</td>\n",
       "      <td>48</td>\n",
       "      <td>-1</td>\n",
       "      <td>Pe2e4 39 39 Pe7e5 39 39 Ng1f3 39 39 Ng8f6 39 3...</td>\n",
       "    </tr>\n",
       "    <tr>\n",
       "      <th>99998</th>\n",
       "      <td>14202194</td>\n",
       "      <td>g7tUv4Rt</td>\n",
       "      <td>2024.12.05</td>\n",
       "      <td>1211</td>\n",
       "      <td>1173</td>\n",
       "      <td>1-0</td>\n",
       "      <td>9</td>\n",
       "      <td>-1</td>\n",
       "      <td>Pe2e4 39 39 Pd7d5 39 39 Bf1c4 39 39 Pe7e5 39 3...</td>\n",
       "    </tr>\n",
       "    <tr>\n",
       "      <th>99999</th>\n",
       "      <td>14202225</td>\n",
       "      <td>nw1eUTwy</td>\n",
       "      <td>2024.12.05</td>\n",
       "      <td>1200</td>\n",
       "      <td>1166</td>\n",
       "      <td>0-1</td>\n",
       "      <td>32</td>\n",
       "      <td>-1</td>\n",
       "      <td>Pe2e4 39 39 Pd7d5 39 39 Pe4d5 39 38 Qd8d5 38 3...</td>\n",
       "    </tr>\n",
       "  </tbody>\n",
       "</table>\n",
       "<p>100000 rows × 9 columns</p>\n",
       "</div>"
      ],
      "text/plain": [
       "          index        id        date  white_elo  black_elo   result  ply  \\\n",
       "0         74497         ?  2021.12.05       2523       2684      0-1   52   \n",
       "1         74505         ?  2021.12.05       2623       2581      0-1   96   \n",
       "2         74508         ?  2021.12.05       2757       2670  1/2-1/2  106   \n",
       "3         74510         ?  2021.12.05       2627       2666      0-1   96   \n",
       "4         74517         ?  2021.12.05       2666       2571      1-0   47   \n",
       "...         ...       ...         ...        ...        ...      ...  ...   \n",
       "99995  14202188  CJayVtXh  2024.12.05       1303        879      1-0   33   \n",
       "99996  14202189  XkroYjvj  2024.12.05       1099       1209      0-1   59   \n",
       "99997  14202191  DWLSh6Wn  2024.12.05       1070       1019      0-1   48   \n",
       "99998  14202194  g7tUv4Rt  2024.12.05       1211       1173      1-0    9   \n",
       "99999  14202225  nw1eUTwy  2024.12.05       1200       1166      0-1   32   \n",
       "\n",
       "       ply_30s                                          piece_uci  \n",
       "0           -1  Pd2d4 39 39 Pd7d5 39 39 Nb1c3 39 39 Pc7c6 39 3...  \n",
       "1           -1  Pd2d4 39 39 Ng8f6 39 39 Pc2c4 39 39 Pe7e6 39 3...  \n",
       "2           -1  Pd2d4 39 39 Pd7d5 39 39 Ke1d2 39 39 Pe7e5 39 3...  \n",
       "3           -1  Pd2d4 39 39 Ng8f6 39 39 Bc1f4 39 39 Pd7d5 39 3...  \n",
       "4           -1  Pe2e4 39 39 Pc7c5 39 39 Ng1f3 39 39 Nb8c6 39 3...  \n",
       "...        ...                                                ...  \n",
       "99995       -1  Pe2e4 39 39 Pe7e6 39 39 Ng1f3 39 39 Pf7f6 39 3...  \n",
       "99996       -1  Pe2e4 39 39 Pe7e5 39 39 Ng1f3 39 39 Nb8c6 39 3...  \n",
       "99997       -1  Pe2e4 39 39 Pe7e5 39 39 Ng1f3 39 39 Ng8f6 39 3...  \n",
       "99998       -1  Pe2e4 39 39 Pd7d5 39 39 Bf1c4 39 39 Pe7e5 39 3...  \n",
       "99999       -1  Pe2e4 39 39 Pd7d5 39 39 Pe4d5 39 38 Qd8d5 38 3...  \n",
       "\n",
       "[100000 rows x 9 columns]"
      ]
     },
     "execution_count": 2,
     "metadata": {},
     "output_type": "execute_result"
    }
   ],
   "source": [
    "headers = [\"index\", \"id\", \"date\", \"white_elo\", \"black_elo\", \"result\", \"ply\", \"ply_30s\", \"piece_uci\"]\n",
    "\n",
    "games_df = pd.read_csv(\"./data/test.csv\", delimiter=\";\", header=None, names=headers)\n",
    "\n",
    "# games_df = games_df.sample(frac=0.1, random_state=42)\n",
    "\n",
    "games_df"
   ]
  },
  {
   "cell_type": "code",
   "execution_count": 3,
   "id": "3e7a8d4b",
   "metadata": {},
   "outputs": [],
   "source": [
    "games = join_material_tokens(games_df.piece_uci, replace_bigger_values=True)\n",
    "games = add_elo_token_to_games(games, games_df.white_elo, games_df.black_elo)"
   ]
  },
  {
   "cell_type": "code",
   "execution_count": 4,
   "id": "a74e5c77",
   "metadata": {},
   "outputs": [
    {
     "name": "stdout",
     "output_type": "stream",
     "text": [
      "number of parameters: 28.15M\n",
      "number of parameters: 28.15M\n",
      "number of parameters: 28.15M\n",
      "number of parameters: 28.15M\n"
     ]
    }
   ],
   "source": [
    "tokenizer = tokenizers.FullMoveEloMaterialPairTokenizer()\n",
    "\n",
    "model_config = GPTConfig(\n",
    "    block_size=604,\n",
    "    vocab_size=tokenizer.vocab_size,\n",
    "    n_layer=8,\n",
    "    n_head=8,\n",
    "    n_embd=512,\n",
    "    bias=False,\n",
    ")\n",
    "\n",
    "test_start_token = 21\n",
    "test_token_step = 2\n",
    "\n",
    "\n",
    "material_checkpoint = \"./models/small_training/elo_with_material_pair/epoch=4-step=78125.ckpt\"\n",
    "\n",
    "material_model = LightningGPT.load_from_checkpoint(\n",
    "    material_checkpoint,\n",
    "    config=model_config,\n",
    "    test_start_token=test_start_token,\n",
    "    test_token_step=test_token_step,\n",
    ")\n",
    "\n",
    "material_checkpoint_2 = \"./models/small_training/elo_material_pair_ignore_material_prediction/epoch=4-step=78125.ckpt\"\n",
    "material_model_2 = LightningGPT.load_from_checkpoint(\n",
    "    material_checkpoint_2,\n",
    "    config=model_config,\n",
    "    test_start_token=test_start_token,\n",
    "    test_token_step=test_token_step,\n",
    ")\n",
    "\n",
    "base_checkpoint = \"./models/small_training/elo_base/epoch=4-step=78125.ckpt\"\n",
    "\n",
    "base_model = LightningGPT.load_from_checkpoint(\n",
    "    base_checkpoint,\n",
    "    config=model_config,\n",
    "    test_start_token=11,\n",
    "    test_token_step=1,\n",
    ")\n",
    "\n",
    "material_checkpoint_3 = \"./models/full_training/elo_material_pair_ignore_material_prediction/epoch=9-step=1250000.ckpt\"\n",
    "material_model_3 = LightningGPT.load_from_checkpoint(\n",
    "    material_checkpoint_3,\n",
    "    config=model_config,\n",
    "    test_start_token=test_start_token,\n",
    "    test_token_step=test_token_step,\n",
    ")"
   ]
  },
  {
   "cell_type": "code",
   "execution_count": 5,
   "id": "941b4f01",
   "metadata": {},
   "outputs": [
    {
     "name": "stderr",
     "output_type": "stream",
     "text": [
      "Using bfloat16 Automatic Mixed Precision (AMP)\n",
      "You are using the plain ModelCheckpoint callback. Consider using LitModelCheckpoint which with seamless uploading to Model registry.\n",
      "GPU available: True (cuda), used: True\n",
      "TPU available: False, using: 0 TPU cores\n",
      "HPU available: False, using: 0 HPUs\n"
     ]
    }
   ],
   "source": [
    "trainer = pl.Trainer(\n",
    "    accelerator=\"gpu\",\n",
    "    max_epochs=10,\n",
    "    callbacks=[pl.callbacks.RichProgressBar()],\n",
    "    precision=\"bf16-mixed\",\n",
    ")\n",
    "torch.set_float32_matmul_precision('high')"
   ]
  },
  {
   "cell_type": "code",
   "execution_count": 6,
   "id": "6a4f7920",
   "metadata": {},
   "outputs": [],
   "source": [
    "data_module = GamesDataModule(test_games=list(games), tokenizer=tokenizer, num_workers=12)"
   ]
  },
  {
   "cell_type": "code",
   "execution_count": 8,
   "id": "72cf9d98",
   "metadata": {},
   "outputs": [
    {
     "name": "stderr",
     "output_type": "stream",
     "text": [
      "LOCAL_RANK: 0 - CUDA_VISIBLE_DEVICES: [0]\n"
     ]
    },
    {
     "data": {
      "application/vnd.jupyter.widget-view+json": {
       "model_id": "1679752b73f74dbcbde5d0dd0eda8960",
       "version_major": 2,
       "version_minor": 0
      },
      "text/plain": [
       "Output()"
      ]
     },
     "metadata": {},
     "output_type": "display_data"
    },
    {
     "data": {
      "text/html": [
       "<pre style=\"white-space:pre;overflow-x:auto;line-height:normal;font-family:Menlo,'DejaVu Sans Mono',consolas,'Courier New',monospace\">┏━━━━━━━━━━━━━━━━━━━━━━━━━━━┳━━━━━━━━━━━━━━━━━━━━━━━━━━━┓\n",
       "┃<span style=\"font-weight: bold\">        Test metric        </span>┃<span style=\"font-weight: bold\">       DataLoader 0        </span>┃\n",
       "┡━━━━━━━━━━━━━━━━━━━━━━━━━━━╇━━━━━━━━━━━━━━━━━━━━━━━━━━━┩\n",
       "│<span style=\"color: #008080; text-decoration-color: #008080\">         test_acc          </span>│<span style=\"color: #800080; text-decoration-color: #800080\">    0.40388044714927673    </span>│\n",
       "│<span style=\"color: #008080; text-decoration-color: #008080\">         test_loss         </span>│<span style=\"color: #800080; text-decoration-color: #800080\">    1.1656888723373413     </span>│\n",
       "└───────────────────────────┴───────────────────────────┘\n",
       "</pre>\n"
      ],
      "text/plain": [
       "┏━━━━━━━━━━━━━━━━━━━━━━━━━━━┳━━━━━━━━━━━━━━━━━━━━━━━━━━━┓\n",
       "┃\u001b[1m \u001b[0m\u001b[1m       Test metric       \u001b[0m\u001b[1m \u001b[0m┃\u001b[1m \u001b[0m\u001b[1m      DataLoader 0       \u001b[0m\u001b[1m \u001b[0m┃\n",
       "┡━━━━━━━━━━━━━━━━━━━━━━━━━━━╇━━━━━━━━━━━━━━━━━━━━━━━━━━━┩\n",
       "│\u001b[36m \u001b[0m\u001b[36m        test_acc         \u001b[0m\u001b[36m \u001b[0m│\u001b[35m \u001b[0m\u001b[35m   0.40388044714927673   \u001b[0m\u001b[35m \u001b[0m│\n",
       "│\u001b[36m \u001b[0m\u001b[36m        test_loss        \u001b[0m\u001b[36m \u001b[0m│\u001b[35m \u001b[0m\u001b[35m   1.1656888723373413    \u001b[0m\u001b[35m \u001b[0m│\n",
       "└───────────────────────────┴───────────────────────────┘\n"
      ]
     },
     "metadata": {},
     "output_type": "display_data"
    },
    {
     "data": {
      "text/html": [
       "<pre style=\"white-space:pre;overflow-x:auto;line-height:normal;font-family:Menlo,'DejaVu Sans Mono',consolas,'Courier New',monospace\"></pre>\n"
      ],
      "text/plain": []
     },
     "metadata": {},
     "output_type": "display_data"
    },
    {
     "data": {
      "text/plain": [
       "[{'test_loss': 1.1656888723373413, 'test_acc': 0.40388044714927673}]"
      ]
     },
     "execution_count": 8,
     "metadata": {},
     "output_type": "execute_result"
    }
   ],
   "source": [
    "trainer.test(material_model, datamodule=data_module)"
   ]
  },
  {
   "cell_type": "code",
   "execution_count": 7,
   "id": "33584817",
   "metadata": {},
   "outputs": [
    {
     "name": "stderr",
     "output_type": "stream",
     "text": [
      "LOCAL_RANK: 0 - CUDA_VISIBLE_DEVICES: [0]\n"
     ]
    },
    {
     "data": {
      "application/vnd.jupyter.widget-view+json": {
       "model_id": "74293e0ae4ca423fa6e6d494633ee833",
       "version_major": 2,
       "version_minor": 0
      },
      "text/plain": [
       "Output()"
      ]
     },
     "metadata": {},
     "output_type": "display_data"
    },
    {
     "data": {
      "text/html": [
       "<pre style=\"white-space:pre;overflow-x:auto;line-height:normal;font-family:Menlo,'DejaVu Sans Mono',consolas,'Courier New',monospace\">┏━━━━━━━━━━━━━━━━━━━━━━━━━━━┳━━━━━━━━━━━━━━━━━━━━━━━━━━━┓\n",
       "┃<span style=\"font-weight: bold\">        Test metric        </span>┃<span style=\"font-weight: bold\">       DataLoader 0        </span>┃\n",
       "┡━━━━━━━━━━━━━━━━━━━━━━━━━━━╇━━━━━━━━━━━━━━━━━━━━━━━━━━━┩\n",
       "│<span style=\"color: #008080; text-decoration-color: #008080\">         test_acc          </span>│<span style=\"color: #800080; text-decoration-color: #800080\">    0.41936370730400085    </span>│\n",
       "│<span style=\"color: #008080; text-decoration-color: #008080\">         test_loss         </span>│<span style=\"color: #800080; text-decoration-color: #800080\">     9.046186447143555     </span>│\n",
       "└───────────────────────────┴───────────────────────────┘\n",
       "</pre>\n"
      ],
      "text/plain": [
       "┏━━━━━━━━━━━━━━━━━━━━━━━━━━━┳━━━━━━━━━━━━━━━━━━━━━━━━━━━┓\n",
       "┃\u001b[1m \u001b[0m\u001b[1m       Test metric       \u001b[0m\u001b[1m \u001b[0m┃\u001b[1m \u001b[0m\u001b[1m      DataLoader 0       \u001b[0m\u001b[1m \u001b[0m┃\n",
       "┡━━━━━━━━━━━━━━━━━━━━━━━━━━━╇━━━━━━━━━━━━━━━━━━━━━━━━━━━┩\n",
       "│\u001b[36m \u001b[0m\u001b[36m        test_acc         \u001b[0m\u001b[36m \u001b[0m│\u001b[35m \u001b[0m\u001b[35m   0.41936370730400085   \u001b[0m\u001b[35m \u001b[0m│\n",
       "│\u001b[36m \u001b[0m\u001b[36m        test_loss        \u001b[0m\u001b[36m \u001b[0m│\u001b[35m \u001b[0m\u001b[35m    9.046186447143555    \u001b[0m\u001b[35m \u001b[0m│\n",
       "└───────────────────────────┴───────────────────────────┘\n"
      ]
     },
     "metadata": {},
     "output_type": "display_data"
    },
    {
     "data": {
      "text/html": [
       "<pre style=\"white-space:pre;overflow-x:auto;line-height:normal;font-family:Menlo,'DejaVu Sans Mono',consolas,'Courier New',monospace\"></pre>\n"
      ],
      "text/plain": []
     },
     "metadata": {},
     "output_type": "display_data"
    },
    {
     "data": {
      "text/plain": [
       "[{'test_loss': 9.046186447143555, 'test_acc': 0.41936370730400085}]"
      ]
     },
     "execution_count": 7,
     "metadata": {},
     "output_type": "execute_result"
    }
   ],
   "source": [
    "trainer.test(material_model_2, datamodule=data_module)"
   ]
  },
  {
   "cell_type": "code",
   "execution_count": 7,
   "id": "3052764c",
   "metadata": {},
   "outputs": [
    {
     "name": "stderr",
     "output_type": "stream",
     "text": [
      "LOCAL_RANK: 0 - CUDA_VISIBLE_DEVICES: [0]\n"
     ]
    },
    {
     "data": {
      "application/vnd.jupyter.widget-view+json": {
       "model_id": "d5c9abe52b974b32a74c665f3c7c9384",
       "version_major": 2,
       "version_minor": 0
      },
      "text/plain": [
       "Output()"
      ]
     },
     "metadata": {},
     "output_type": "display_data"
    },
    {
     "data": {
      "text/html": [
       "<pre style=\"white-space:pre;overflow-x:auto;line-height:normal;font-family:Menlo,'DejaVu Sans Mono',consolas,'Courier New',monospace\">┏━━━━━━━━━━━━━━━━━━━━━━━━━━━┳━━━━━━━━━━━━━━━━━━━━━━━━━━━┓\n",
       "┃<span style=\"font-weight: bold\">        Test metric        </span>┃<span style=\"font-weight: bold\">       DataLoader 0        </span>┃\n",
       "┡━━━━━━━━━━━━━━━━━━━━━━━━━━━╇━━━━━━━━━━━━━━━━━━━━━━━━━━━┩\n",
       "│<span style=\"color: #008080; text-decoration-color: #008080\">         test_acc          </span>│<span style=\"color: #800080; text-decoration-color: #800080\">    0.5091182589530945     </span>│\n",
       "│<span style=\"color: #008080; text-decoration-color: #008080\">         test_loss         </span>│<span style=\"color: #800080; text-decoration-color: #800080\">    0.9533836245536804     </span>│\n",
       "└───────────────────────────┴───────────────────────────┘\n",
       "</pre>\n"
      ],
      "text/plain": [
       "┏━━━━━━━━━━━━━━━━━━━━━━━━━━━┳━━━━━━━━━━━━━━━━━━━━━━━━━━━┓\n",
       "┃\u001b[1m \u001b[0m\u001b[1m       Test metric       \u001b[0m\u001b[1m \u001b[0m┃\u001b[1m \u001b[0m\u001b[1m      DataLoader 0       \u001b[0m\u001b[1m \u001b[0m┃\n",
       "┡━━━━━━━━━━━━━━━━━━━━━━━━━━━╇━━━━━━━━━━━━━━━━━━━━━━━━━━━┩\n",
       "│\u001b[36m \u001b[0m\u001b[36m        test_acc         \u001b[0m\u001b[36m \u001b[0m│\u001b[35m \u001b[0m\u001b[35m   0.5091182589530945    \u001b[0m\u001b[35m \u001b[0m│\n",
       "│\u001b[36m \u001b[0m\u001b[36m        test_loss        \u001b[0m\u001b[36m \u001b[0m│\u001b[35m \u001b[0m\u001b[35m   0.9533836245536804    \u001b[0m\u001b[35m \u001b[0m│\n",
       "└───────────────────────────┴───────────────────────────┘\n"
      ]
     },
     "metadata": {},
     "output_type": "display_data"
    },
    {
     "data": {
      "text/html": [
       "<pre style=\"white-space:pre;overflow-x:auto;line-height:normal;font-family:Menlo,'DejaVu Sans Mono',consolas,'Courier New',monospace\"></pre>\n"
      ],
      "text/plain": []
     },
     "metadata": {},
     "output_type": "display_data"
    },
    {
     "data": {
      "text/plain": [
       "[{'test_loss': 0.9533836245536804, 'test_acc': 0.5091182589530945}]"
      ]
     },
     "execution_count": 7,
     "metadata": {},
     "output_type": "execute_result"
    }
   ],
   "source": [
    "trainer.test(material_model_3, datamodule=data_module)"
   ]
  },
  {
   "cell_type": "code",
   "execution_count": 17,
   "id": "f445c2bc",
   "metadata": {},
   "outputs": [
    {
     "data": {
      "text/plain": [
       "75721    2400 2400 Pd2d4 Ng8f6 Ng1f3 Pc7c5 Pe2e3 Pb7b6 ...\n",
       "80184    1900 2000 Pd2d4 Ng8f6 Nb1c3 Pc7c5 Pd4d5 Pd7d6 ...\n",
       "19864    2100 2100 Ng1f3 Pc7c6 Pg2g3 Pd7d5 Pd2d3 Pe7e6 ...\n",
       "76699    2400 2400 Pc2c4 Pe7e6 Nb1c3 Pd7d5 Pd2d4 Pc7c5 ...\n",
       "92991    1200 1100 Pe2e4 Pd7d5 Pe4d5 Qd8d5 Nb1c3 Qd5d8 ...\n",
       "                               ...                        \n",
       "5002     2700 2500 Pd2d4 Pd7d5 Nb1c3 Ng8f6 Bc1f4 Pc7c5 ...\n",
       "30151    2200 2100 Pc2c4 Pe7e6 Ng1f3 Pd7d5 Pg2g3 Ng8f6 ...\n",
       "93194    1000 1100 Pe2e4 Pe7e5 Pd2d3 Nb8c6 Nb1c3 Ng8f6 ...\n",
       "73199    2400 2400 Pe2e4 Pd7d5 Pe4d5 Qd8d5 Nb1c3 Qd5d6 ...\n",
       "74479    2500 2500 Pd2d4 Ng8f6 Nb1c3 Pg7g6 Ng1f3 Pd7d5 ...\n",
       "Length: 10000, dtype: object"
      ]
     },
     "execution_count": 17,
     "metadata": {},
     "output_type": "execute_result"
    }
   ],
   "source": [
    "base_games = remove_material_tokens(games_df.piece_uci)\n",
    "base_games = add_elo_token_to_games(base_games, games_df.white_elo, games_df.black_elo)\n",
    "base_games"
   ]
  },
  {
   "cell_type": "code",
   "execution_count": 19,
   "id": "560fabee",
   "metadata": {},
   "outputs": [],
   "source": [
    "base_data_module = GamesDataModule(test_games=list(base_games), tokenizer=tokenizer, num_workers=12)"
   ]
  },
  {
   "cell_type": "code",
   "execution_count": null,
   "id": "2dcbb2c5",
   "metadata": {},
   "outputs": [
    {
     "name": "stderr",
     "output_type": "stream",
     "text": [
      "LOCAL_RANK: 0 - CUDA_VISIBLE_DEVICES: [0]\n"
     ]
    },
    {
     "data": {
      "application/vnd.jupyter.widget-view+json": {
       "model_id": "63b8e596b6e64998a126d296b3c62112",
       "version_major": 2,
       "version_minor": 0
      },
      "text/plain": [
       "Output()"
      ]
     },
     "metadata": {},
     "output_type": "display_data"
    },
    {
     "data": {
      "text/html": [
       "<pre style=\"white-space:pre;overflow-x:auto;line-height:normal;font-family:Menlo,'DejaVu Sans Mono',consolas,'Courier New',monospace\">┏━━━━━━━━━━━━━━━━━━━━━━━━━━━┳━━━━━━━━━━━━━━━━━━━━━━━━━━━┓\n",
       "┃<span style=\"font-weight: bold\">        Test metric        </span>┃<span style=\"font-weight: bold\">       DataLoader 0        </span>┃\n",
       "┡━━━━━━━━━━━━━━━━━━━━━━━━━━━╇━━━━━━━━━━━━━━━━━━━━━━━━━━━┩\n",
       "│<span style=\"color: #008080; text-decoration-color: #008080\">         test_acc          </span>│<span style=\"color: #800080; text-decoration-color: #800080\">    0.4135570526123047     </span>│\n",
       "│<span style=\"color: #008080; text-decoration-color: #008080\">         test_loss         </span>│<span style=\"color: #800080; text-decoration-color: #800080\">    2.1594367027282715     </span>│\n",
       "└───────────────────────────┴───────────────────────────┘\n",
       "</pre>\n"
      ],
      "text/plain": [
       "┏━━━━━━━━━━━━━━━━━━━━━━━━━━━┳━━━━━━━━━━━━━━━━━━━━━━━━━━━┓\n",
       "┃\u001b[1m \u001b[0m\u001b[1m       Test metric       \u001b[0m\u001b[1m \u001b[0m┃\u001b[1m \u001b[0m\u001b[1m      DataLoader 0       \u001b[0m\u001b[1m \u001b[0m┃\n",
       "┡━━━━━━━━━━━━━━━━━━━━━━━━━━━╇━━━━━━━━━━━━━━━━━━━━━━━━━━━┩\n",
       "│\u001b[36m \u001b[0m\u001b[36m        test_acc         \u001b[0m\u001b[36m \u001b[0m│\u001b[35m \u001b[0m\u001b[35m   0.4135570526123047    \u001b[0m\u001b[35m \u001b[0m│\n",
       "│\u001b[36m \u001b[0m\u001b[36m        test_loss        \u001b[0m\u001b[36m \u001b[0m│\u001b[35m \u001b[0m\u001b[35m   2.1594367027282715    \u001b[0m\u001b[35m \u001b[0m│\n",
       "└───────────────────────────┴───────────────────────────┘\n"
      ]
     },
     "metadata": {},
     "output_type": "display_data"
    },
    {
     "data": {
      "text/html": [
       "<pre style=\"white-space:pre;overflow-x:auto;line-height:normal;font-family:Menlo,'DejaVu Sans Mono',consolas,'Courier New',monospace\"></pre>\n"
      ],
      "text/plain": []
     },
     "metadata": {},
     "output_type": "display_data"
    },
    {
     "data": {
      "text/plain": [
       "[{'test_loss': 2.1594367027282715, 'test_acc': 0.4135570526123047}]"
      ]
     },
     "execution_count": 29,
     "metadata": {},
     "output_type": "execute_result"
    }
   ],
   "source": [
    "# model trained without material tokens is better\n",
    "trainer.test(base_model, datamodule=base_data_module)"
   ]
  }
 ],
 "metadata": {
  "kernelspec": {
   "display_name": "python",
   "language": "python",
   "name": "python3"
  },
  "language_info": {
   "codemirror_mode": {
    "name": "ipython",
    "version": 3
   },
   "file_extension": ".py",
   "mimetype": "text/x-python",
   "name": "python",
   "nbconvert_exporter": "python",
   "pygments_lexer": "ipython3",
   "version": "3.13.2"
  }
 },
 "nbformat": 4,
 "nbformat_minor": 5
}

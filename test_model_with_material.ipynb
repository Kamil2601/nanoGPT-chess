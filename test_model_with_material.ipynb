{
 "cells": [
  {
   "cell_type": "code",
   "execution_count": 13,
   "id": "daa4d7b9",
   "metadata": {},
   "outputs": [],
   "source": [
    "import pandas as pd\n",
    "import matplotlib.pyplot as plt\n",
    "from data_process import tokenizers, utils\n",
    "from nanoGPT.model import  GPT, GPTConfig\n",
    "from lightning_training import LightningGPT, GamesDataModule, GamesDataset\n",
    "import pytorch_lightning as pl\n",
    "import torch\n",
    "import os\n",
    "import numpy as np\n",
    "import seaborn as sns\n",
    "from data_process.utils import add_elo_token_to_games, join_material_tokens, remove_material_tokens"
   ]
  },
  {
   "cell_type": "code",
   "execution_count": 2,
   "id": "9d4d6a0c",
   "metadata": {},
   "outputs": [
    {
     "data": {
      "text/html": [
       "<div>\n",
       "<style scoped>\n",
       "    .dataframe tbody tr th:only-of-type {\n",
       "        vertical-align: middle;\n",
       "    }\n",
       "\n",
       "    .dataframe tbody tr th {\n",
       "        vertical-align: top;\n",
       "    }\n",
       "\n",
       "    .dataframe thead th {\n",
       "        text-align: right;\n",
       "    }\n",
       "</style>\n",
       "<table border=\"1\" class=\"dataframe\">\n",
       "  <thead>\n",
       "    <tr style=\"text-align: right;\">\n",
       "      <th></th>\n",
       "      <th>index</th>\n",
       "      <th>id</th>\n",
       "      <th>date</th>\n",
       "      <th>white_elo</th>\n",
       "      <th>black_elo</th>\n",
       "      <th>result</th>\n",
       "      <th>ply</th>\n",
       "      <th>ply_30s</th>\n",
       "      <th>piece_uci</th>\n",
       "    </tr>\n",
       "  </thead>\n",
       "  <tbody>\n",
       "    <tr>\n",
       "      <th>75721</th>\n",
       "      <td>99034768</td>\n",
       "      <td>j8dut9JL</td>\n",
       "      <td>2025.01.31</td>\n",
       "      <td>2425</td>\n",
       "      <td>2427</td>\n",
       "      <td>1-0</td>\n",
       "      <td>85</td>\n",
       "      <td>68</td>\n",
       "      <td>Pd2d4 39 39 Ng8f6 39 39 Ng1f3 39 39 Pc7c5 39 3...</td>\n",
       "    </tr>\n",
       "    <tr>\n",
       "      <th>80184</th>\n",
       "      <td>7380677</td>\n",
       "      <td>UMIvcBzB</td>\n",
       "      <td>2024.12.03</td>\n",
       "      <td>1919</td>\n",
       "      <td>2020</td>\n",
       "      <td>1-0</td>\n",
       "      <td>67</td>\n",
       "      <td>47</td>\n",
       "      <td>Pd2d4 39 39 Ng8f6 39 39 Nb1c3 39 39 Pc7c5 39 3...</td>\n",
       "    </tr>\n",
       "    <tr>\n",
       "      <th>19864</th>\n",
       "      <td>14462158</td>\n",
       "      <td>RP3reGqr</td>\n",
       "      <td>2024.12.05</td>\n",
       "      <td>2135</td>\n",
       "      <td>2144</td>\n",
       "      <td>1-0</td>\n",
       "      <td>41</td>\n",
       "      <td>-1</td>\n",
       "      <td>Ng1f3 39 39 Pc7c6 39 39 Pg2g3 39 39 Pd7d5 39 3...</td>\n",
       "    </tr>\n",
       "    <tr>\n",
       "      <th>76699</th>\n",
       "      <td>99355390</td>\n",
       "      <td>OC9pukWM</td>\n",
       "      <td>2025.01.31</td>\n",
       "      <td>2402</td>\n",
       "      <td>2433</td>\n",
       "      <td>1-0</td>\n",
       "      <td>53</td>\n",
       "      <td>-1</td>\n",
       "      <td>Pc2c4 39 39 Pe7e6 39 39 Nb1c3 39 39 Pd7d5 39 3...</td>\n",
       "    </tr>\n",
       "    <tr>\n",
       "      <th>92991</th>\n",
       "      <td>14089339</td>\n",
       "      <td>BL4die9s</td>\n",
       "      <td>2024.12.05</td>\n",
       "      <td>1200</td>\n",
       "      <td>1143</td>\n",
       "      <td>1-0</td>\n",
       "      <td>45</td>\n",
       "      <td>-1</td>\n",
       "      <td>Pe2e4 39 39 Pd7d5 39 39 Pe4d5 39 38 Qd8d5 38 3...</td>\n",
       "    </tr>\n",
       "    <tr>\n",
       "      <th>...</th>\n",
       "      <td>...</td>\n",
       "      <td>...</td>\n",
       "      <td>...</td>\n",
       "      <td>...</td>\n",
       "      <td>...</td>\n",
       "      <td>...</td>\n",
       "      <td>...</td>\n",
       "      <td>...</td>\n",
       "      <td>...</td>\n",
       "    </tr>\n",
       "    <tr>\n",
       "      <th>5002</th>\n",
       "      <td>97062</td>\n",
       "      <td>?</td>\n",
       "      <td>2021.12.07</td>\n",
       "      <td>2726</td>\n",
       "      <td>2574</td>\n",
       "      <td>1-0</td>\n",
       "      <td>9</td>\n",
       "      <td>-1</td>\n",
       "      <td>Pd2d4 39 39 Pd7d5 39 39 Nb1c3 39 39 Ng8f6 39 3...</td>\n",
       "    </tr>\n",
       "    <tr>\n",
       "      <th>30151</th>\n",
       "      <td>45151922</td>\n",
       "      <td>dUvdD4GK</td>\n",
       "      <td>2024.12.15</td>\n",
       "      <td>2258</td>\n",
       "      <td>2163</td>\n",
       "      <td>0-1</td>\n",
       "      <td>80</td>\n",
       "      <td>-1</td>\n",
       "      <td>Pc2c4 39 39 Pe7e6 39 39 Ng1f3 39 39 Pd7d5 39 3...</td>\n",
       "    </tr>\n",
       "    <tr>\n",
       "      <th>93194</th>\n",
       "      <td>14092632</td>\n",
       "      <td>7yOJ8xPr</td>\n",
       "      <td>2024.12.05</td>\n",
       "      <td>1051</td>\n",
       "      <td>1129</td>\n",
       "      <td>1-0</td>\n",
       "      <td>45</td>\n",
       "      <td>-1</td>\n",
       "      <td>Pe2e4 39 39 Pe7e5 39 39 Pd2d3 39 39 Nb8c6 39 3...</td>\n",
       "    </tr>\n",
       "    <tr>\n",
       "      <th>73199</th>\n",
       "      <td>98330191</td>\n",
       "      <td>Zw7vLYf0</td>\n",
       "      <td>2025.01.31</td>\n",
       "      <td>2418</td>\n",
       "      <td>2414</td>\n",
       "      <td>0-1</td>\n",
       "      <td>48</td>\n",
       "      <td>22</td>\n",
       "      <td>Pe2e4 39 39 Pd7d5 39 39 Pe4d5 39 38 Qd8d5 38 3...</td>\n",
       "    </tr>\n",
       "    <tr>\n",
       "      <th>74479</th>\n",
       "      <td>98680773</td>\n",
       "      <td>sEpm5Pcj</td>\n",
       "      <td>2025.01.31</td>\n",
       "      <td>2589</td>\n",
       "      <td>2570</td>\n",
       "      <td>0-1</td>\n",
       "      <td>96</td>\n",
       "      <td>66</td>\n",
       "      <td>Pd2d4 39 39 Ng8f6 39 39 Nb1c3 39 39 Pg7g6 39 3...</td>\n",
       "    </tr>\n",
       "  </tbody>\n",
       "</table>\n",
       "<p>10000 rows × 9 columns</p>\n",
       "</div>"
      ],
      "text/plain": [
       "          index        id        date  white_elo  black_elo result  ply  \\\n",
       "75721  99034768  j8dut9JL  2025.01.31       2425       2427    1-0   85   \n",
       "80184   7380677  UMIvcBzB  2024.12.03       1919       2020    1-0   67   \n",
       "19864  14462158  RP3reGqr  2024.12.05       2135       2144    1-0   41   \n",
       "76699  99355390  OC9pukWM  2025.01.31       2402       2433    1-0   53   \n",
       "92991  14089339  BL4die9s  2024.12.05       1200       1143    1-0   45   \n",
       "...         ...       ...         ...        ...        ...    ...  ...   \n",
       "5002      97062         ?  2021.12.07       2726       2574    1-0    9   \n",
       "30151  45151922  dUvdD4GK  2024.12.15       2258       2163    0-1   80   \n",
       "93194  14092632  7yOJ8xPr  2024.12.05       1051       1129    1-0   45   \n",
       "73199  98330191  Zw7vLYf0  2025.01.31       2418       2414    0-1   48   \n",
       "74479  98680773  sEpm5Pcj  2025.01.31       2589       2570    0-1   96   \n",
       "\n",
       "       ply_30s                                          piece_uci  \n",
       "75721       68  Pd2d4 39 39 Ng8f6 39 39 Ng1f3 39 39 Pc7c5 39 3...  \n",
       "80184       47  Pd2d4 39 39 Ng8f6 39 39 Nb1c3 39 39 Pc7c5 39 3...  \n",
       "19864       -1  Ng1f3 39 39 Pc7c6 39 39 Pg2g3 39 39 Pd7d5 39 3...  \n",
       "76699       -1  Pc2c4 39 39 Pe7e6 39 39 Nb1c3 39 39 Pd7d5 39 3...  \n",
       "92991       -1  Pe2e4 39 39 Pd7d5 39 39 Pe4d5 39 38 Qd8d5 38 3...  \n",
       "...        ...                                                ...  \n",
       "5002        -1  Pd2d4 39 39 Pd7d5 39 39 Nb1c3 39 39 Ng8f6 39 3...  \n",
       "30151       -1  Pc2c4 39 39 Pe7e6 39 39 Ng1f3 39 39 Pd7d5 39 3...  \n",
       "93194       -1  Pe2e4 39 39 Pe7e5 39 39 Pd2d3 39 39 Nb8c6 39 3...  \n",
       "73199       22  Pe2e4 39 39 Pd7d5 39 39 Pe4d5 39 38 Qd8d5 38 3...  \n",
       "74479       66  Pd2d4 39 39 Ng8f6 39 39 Nb1c3 39 39 Pg7g6 39 3...  \n",
       "\n",
       "[10000 rows x 9 columns]"
      ]
     },
     "execution_count": 2,
     "metadata": {},
     "output_type": "execute_result"
    }
   ],
   "source": [
    "headers = [\"index\", \"id\", \"date\", \"white_elo\", \"black_elo\", \"result\", \"ply\", \"ply_30s\", \"piece_uci\"]\n",
    "\n",
    "games_df = pd.read_csv(\"./data/test.csv\", delimiter=\";\", header=None, names=headers)\n",
    "\n",
    "games_df = games_df.sample(frac=0.1, random_state=42)\n",
    "\n",
    "games_df"
   ]
  },
  {
   "cell_type": "code",
   "execution_count": 3,
   "id": "3e7a8d4b",
   "metadata": {},
   "outputs": [],
   "source": [
    "games = join_material_tokens(games_df.piece_uci, replace_bigger_values=True)\n",
    "games = add_elo_token_to_games(games, games_df.white_elo, games_df.black_elo)"
   ]
  },
  {
   "cell_type": "code",
   "execution_count": 18,
   "id": "a74e5c77",
   "metadata": {},
   "outputs": [
    {
     "name": "stdout",
     "output_type": "stream",
     "text": [
      "number of parameters: 28.15M\n",
      "number of parameters: 28.15M\n"
     ]
    }
   ],
   "source": [
    "tokenizer = tokenizers.FullMoveEloMaterialPairTokenizer()\n",
    "\n",
    "model_config = GPTConfig(\n",
    "    block_size=604,\n",
    "    vocab_size=tokenizer.vocab_size,\n",
    "    n_layer=8,\n",
    "    n_head=8,\n",
    "    n_embd=512,\n",
    "    bias=False,\n",
    ")\n",
    "\n",
    "test_start_token = 21\n",
    "test_token_step = 2\n",
    "\n",
    "\n",
    "material_checkpoint = \"./models/elo_with_material_pair/epoch=4-step=78125.ckpt\"\n",
    "\n",
    "material_model = LightningGPT.load_from_checkpoint(\n",
    "    material_checkpoint,\n",
    "    config=model_config,\n",
    "    test_start_token=test_start_token,\n",
    "    test_token_step=test_token_step,\n",
    ")\n",
    "\n",
    "base_checkpoint = \"./models/elo_base/epoch=4-step=78125.ckpt\"\n",
    "\n",
    "base_model = LightningGPT.load_from_checkpoint(\n",
    "    base_checkpoint,\n",
    "    config=model_config,\n",
    "    test_start_token=11,\n",
    "    test_token_step=1,\n",
    ")"
   ]
  },
  {
   "cell_type": "code",
   "execution_count": 5,
   "id": "941b4f01",
   "metadata": {},
   "outputs": [
    {
     "name": "stderr",
     "output_type": "stream",
     "text": [
      "Using bfloat16 Automatic Mixed Precision (AMP)\n",
      "You are using the plain ModelCheckpoint callback. Consider using LitModelCheckpoint which with seamless uploading to Model registry.\n",
      "GPU available: True (cuda), used: True\n",
      "TPU available: False, using: 0 TPU cores\n",
      "HPU available: False, using: 0 HPUs\n"
     ]
    }
   ],
   "source": [
    "trainer = pl.Trainer(\n",
    "    accelerator=\"gpu\",\n",
    "    max_epochs=10,\n",
    "    callbacks=[pl.callbacks.RichProgressBar()],\n",
    "    precision=\"bf16-mixed\",\n",
    ")\n",
    "torch.set_float32_matmul_precision('high')"
   ]
  },
  {
   "cell_type": "code",
   "execution_count": 6,
   "id": "6a4f7920",
   "metadata": {},
   "outputs": [],
   "source": [
    "data_module = GamesDataModule(test_games=list(games), tokenizer=tokenizer, num_workers=12)"
   ]
  },
  {
   "cell_type": "code",
   "execution_count": 7,
   "id": "d9bcb60f",
   "metadata": {},
   "outputs": [],
   "source": [
    "data_loader = data_module.test_dataloader()"
   ]
  },
  {
   "cell_type": "code",
   "execution_count": 8,
   "id": "72cf9d98",
   "metadata": {},
   "outputs": [
    {
     "name": "stderr",
     "output_type": "stream",
     "text": [
      "LOCAL_RANK: 0 - CUDA_VISIBLE_DEVICES: [0]\n"
     ]
    },
    {
     "data": {
      "application/vnd.jupyter.widget-view+json": {
       "model_id": "1679752b73f74dbcbde5d0dd0eda8960",
       "version_major": 2,
       "version_minor": 0
      },
      "text/plain": [
       "Output()"
      ]
     },
     "metadata": {},
     "output_type": "display_data"
    },
    {
     "data": {
      "text/html": [
       "<pre style=\"white-space:pre;overflow-x:auto;line-height:normal;font-family:Menlo,'DejaVu Sans Mono',consolas,'Courier New',monospace\">┏━━━━━━━━━━━━━━━━━━━━━━━━━━━┳━━━━━━━━━━━━━━━━━━━━━━━━━━━┓\n",
       "┃<span style=\"font-weight: bold\">        Test metric        </span>┃<span style=\"font-weight: bold\">       DataLoader 0        </span>┃\n",
       "┡━━━━━━━━━━━━━━━━━━━━━━━━━━━╇━━━━━━━━━━━━━━━━━━━━━━━━━━━┩\n",
       "│<span style=\"color: #008080; text-decoration-color: #008080\">         test_acc          </span>│<span style=\"color: #800080; text-decoration-color: #800080\">    0.40388044714927673    </span>│\n",
       "│<span style=\"color: #008080; text-decoration-color: #008080\">         test_loss         </span>│<span style=\"color: #800080; text-decoration-color: #800080\">    1.1656888723373413     </span>│\n",
       "└───────────────────────────┴───────────────────────────┘\n",
       "</pre>\n"
      ],
      "text/plain": [
       "┏━━━━━━━━━━━━━━━━━━━━━━━━━━━┳━━━━━━━━━━━━━━━━━━━━━━━━━━━┓\n",
       "┃\u001b[1m \u001b[0m\u001b[1m       Test metric       \u001b[0m\u001b[1m \u001b[0m┃\u001b[1m \u001b[0m\u001b[1m      DataLoader 0       \u001b[0m\u001b[1m \u001b[0m┃\n",
       "┡━━━━━━━━━━━━━━━━━━━━━━━━━━━╇━━━━━━━━━━━━━━━━━━━━━━━━━━━┩\n",
       "│\u001b[36m \u001b[0m\u001b[36m        test_acc         \u001b[0m\u001b[36m \u001b[0m│\u001b[35m \u001b[0m\u001b[35m   0.40388044714927673   \u001b[0m\u001b[35m \u001b[0m│\n",
       "│\u001b[36m \u001b[0m\u001b[36m        test_loss        \u001b[0m\u001b[36m \u001b[0m│\u001b[35m \u001b[0m\u001b[35m   1.1656888723373413    \u001b[0m\u001b[35m \u001b[0m│\n",
       "└───────────────────────────┴───────────────────────────┘\n"
      ]
     },
     "metadata": {},
     "output_type": "display_data"
    },
    {
     "data": {
      "text/html": [
       "<pre style=\"white-space:pre;overflow-x:auto;line-height:normal;font-family:Menlo,'DejaVu Sans Mono',consolas,'Courier New',monospace\"></pre>\n"
      ],
      "text/plain": []
     },
     "metadata": {},
     "output_type": "display_data"
    },
    {
     "data": {
      "text/plain": [
       "[{'test_loss': 1.1656888723373413, 'test_acc': 0.40388044714927673}]"
      ]
     },
     "execution_count": 8,
     "metadata": {},
     "output_type": "execute_result"
    }
   ],
   "source": [
    "trainer.test(material_model, datamodule=data_module)"
   ]
  },
  {
   "cell_type": "code",
   "execution_count": 17,
   "id": "f445c2bc",
   "metadata": {},
   "outputs": [
    {
     "data": {
      "text/plain": [
       "75721    2400 2400 Pd2d4 Ng8f6 Ng1f3 Pc7c5 Pe2e3 Pb7b6 ...\n",
       "80184    1900 2000 Pd2d4 Ng8f6 Nb1c3 Pc7c5 Pd4d5 Pd7d6 ...\n",
       "19864    2100 2100 Ng1f3 Pc7c6 Pg2g3 Pd7d5 Pd2d3 Pe7e6 ...\n",
       "76699    2400 2400 Pc2c4 Pe7e6 Nb1c3 Pd7d5 Pd2d4 Pc7c5 ...\n",
       "92991    1200 1100 Pe2e4 Pd7d5 Pe4d5 Qd8d5 Nb1c3 Qd5d8 ...\n",
       "                               ...                        \n",
       "5002     2700 2500 Pd2d4 Pd7d5 Nb1c3 Ng8f6 Bc1f4 Pc7c5 ...\n",
       "30151    2200 2100 Pc2c4 Pe7e6 Ng1f3 Pd7d5 Pg2g3 Ng8f6 ...\n",
       "93194    1000 1100 Pe2e4 Pe7e5 Pd2d3 Nb8c6 Nb1c3 Ng8f6 ...\n",
       "73199    2400 2400 Pe2e4 Pd7d5 Pe4d5 Qd8d5 Nb1c3 Qd5d6 ...\n",
       "74479    2500 2500 Pd2d4 Ng8f6 Nb1c3 Pg7g6 Ng1f3 Pd7d5 ...\n",
       "Length: 10000, dtype: object"
      ]
     },
     "execution_count": 17,
     "metadata": {},
     "output_type": "execute_result"
    }
   ],
   "source": [
    "base_games = remove_material_tokens(games_df.piece_uci)\n",
    "base_games = add_elo_token_to_games(base_games, games_df.white_elo, games_df.black_elo)\n",
    "base_games"
   ]
  },
  {
   "cell_type": "code",
   "execution_count": 19,
   "id": "560fabee",
   "metadata": {},
   "outputs": [],
   "source": [
    "base_data_module = GamesDataModule(test_games=list(base_games), tokenizer=tokenizer, num_workers=12)"
   ]
  },
  {
   "cell_type": "code",
   "execution_count": null,
   "id": "2dcbb2c5",
   "metadata": {},
   "outputs": [
    {
     "name": "stderr",
     "output_type": "stream",
     "text": [
      "LOCAL_RANK: 0 - CUDA_VISIBLE_DEVICES: [0]\n"
     ]
    },
    {
     "data": {
      "application/vnd.jupyter.widget-view+json": {
       "model_id": "63b8e596b6e64998a126d296b3c62112",
       "version_major": 2,
       "version_minor": 0
      },
      "text/plain": [
       "Output()"
      ]
     },
     "metadata": {},
     "output_type": "display_data"
    },
    {
     "data": {
      "text/html": [
       "<pre style=\"white-space:pre;overflow-x:auto;line-height:normal;font-family:Menlo,'DejaVu Sans Mono',consolas,'Courier New',monospace\">┏━━━━━━━━━━━━━━━━━━━━━━━━━━━┳━━━━━━━━━━━━━━━━━━━━━━━━━━━┓\n",
       "┃<span style=\"font-weight: bold\">        Test metric        </span>┃<span style=\"font-weight: bold\">       DataLoader 0        </span>┃\n",
       "┡━━━━━━━━━━━━━━━━━━━━━━━━━━━╇━━━━━━━━━━━━━━━━━━━━━━━━━━━┩\n",
       "│<span style=\"color: #008080; text-decoration-color: #008080\">         test_acc          </span>│<span style=\"color: #800080; text-decoration-color: #800080\">    0.4135570526123047     </span>│\n",
       "│<span style=\"color: #008080; text-decoration-color: #008080\">         test_loss         </span>│<span style=\"color: #800080; text-decoration-color: #800080\">    2.1594367027282715     </span>│\n",
       "└───────────────────────────┴───────────────────────────┘\n",
       "</pre>\n"
      ],
      "text/plain": [
       "┏━━━━━━━━━━━━━━━━━━━━━━━━━━━┳━━━━━━━━━━━━━━━━━━━━━━━━━━━┓\n",
       "┃\u001b[1m \u001b[0m\u001b[1m       Test metric       \u001b[0m\u001b[1m \u001b[0m┃\u001b[1m \u001b[0m\u001b[1m      DataLoader 0       \u001b[0m\u001b[1m \u001b[0m┃\n",
       "┡━━━━━━━━━━━━━━━━━━━━━━━━━━━╇━━━━━━━━━━━━━━━━━━━━━━━━━━━┩\n",
       "│\u001b[36m \u001b[0m\u001b[36m        test_acc         \u001b[0m\u001b[36m \u001b[0m│\u001b[35m \u001b[0m\u001b[35m   0.4135570526123047    \u001b[0m\u001b[35m \u001b[0m│\n",
       "│\u001b[36m \u001b[0m\u001b[36m        test_loss        \u001b[0m\u001b[36m \u001b[0m│\u001b[35m \u001b[0m\u001b[35m   2.1594367027282715    \u001b[0m\u001b[35m \u001b[0m│\n",
       "└───────────────────────────┴───────────────────────────┘\n"
      ]
     },
     "metadata": {},
     "output_type": "display_data"
    },
    {
     "data": {
      "text/html": [
       "<pre style=\"white-space:pre;overflow-x:auto;line-height:normal;font-family:Menlo,'DejaVu Sans Mono',consolas,'Courier New',monospace\"></pre>\n"
      ],
      "text/plain": []
     },
     "metadata": {},
     "output_type": "display_data"
    },
    {
     "data": {
      "text/plain": [
       "[{'test_loss': 2.1594367027282715, 'test_acc': 0.4135570526123047}]"
      ]
     },
     "execution_count": 29,
     "metadata": {},
     "output_type": "execute_result"
    }
   ],
   "source": [
    "# model trained without material tokens is better\n",
    "\n",
    "trainer.test(base_model, datamodule=base_data_module)"
   ]
  }
 ],
 "metadata": {
  "kernelspec": {
   "display_name": "python",
   "language": "python",
   "name": "python3"
  },
  "language_info": {
   "codemirror_mode": {
    "name": "ipython",
    "version": 3
   },
   "file_extension": ".py",
   "mimetype": "text/x-python",
   "name": "python",
   "nbconvert_exporter": "python",
   "pygments_lexer": "ipython3",
   "version": "3.13.2"
  }
 },
 "nbformat": 4,
 "nbformat_minor": 5
}

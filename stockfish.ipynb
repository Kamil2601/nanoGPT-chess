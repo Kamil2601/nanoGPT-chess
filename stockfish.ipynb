{
 "cells": [
  {
   "cell_type": "code",
   "execution_count": 2,
   "id": "d28fe509",
   "metadata": {},
   "outputs": [],
   "source": [
    "from stockfish import Stockfish\n",
    "import stockfish as sf\n",
    "import pandas as pd\n",
    "from tqdm import tqdm\n",
    "\n",
    "import json"
   ]
  },
  {
   "cell_type": "code",
   "execution_count": 3,
   "id": "0d12cb9c",
   "metadata": {},
   "outputs": [],
   "source": [
    "stockfish = Stockfish(\"stockfish\")\n",
    "stockfish.update_engine_parameters({\"Threads\": 4, \"Hash\": 1024})\n",
    "\n",
    "def process_game(row):\n",
    "    stockfish.set_position([])\n",
    "    \n",
    "    tokens = row[\"piece_uci\"].split(\" \")\n",
    "    tokens = [token for i, token in enumerate(tokens) if i % 6 in [0, 2, 3, 4]]\n",
    "\n",
    "    game = row[\"piece_uci\"].split(\" \")[::3]\n",
    "\n",
    "    best_moves = []\n",
    "    for move in game:\n",
    "        best_move = stockfish.get_best_move()\n",
    "        piece = stockfish.get_what_is_on_square(best_move[0:2]).value.upper()\n",
    "        best_move = piece + best_move\n",
    "        best_moves.append(best_move)\n",
    "        stockfish.make_moves_from_current_position([move[1:]])\n",
    "    return {\"game\": game, \"white_elo\": row[\"white_elo\"], \"black_elo\": row[\"black_elo\"], \"stockfish_moves\": best_moves, \"tokens\": tokens}"
   ]
  },
  {
   "cell_type": "code",
   "execution_count": 4,
   "id": "77ef5543",
   "metadata": {},
   "outputs": [],
   "source": [
    "\n",
    "\n",
    "train_data_path = \"./data/train_piece_count.csv\"\n",
    "test_data_path = \"./data/test_piece_count.csv\"\n",
    "\n",
    "games_df = pd.read_csv(test_data_path, delimiter=\";\", usecols=[\"white_elo\", \"black_elo\", \"result\", \"ply\", \"piece_uci\"])\n",
    "games_df = games_df.sample(n = 1000, random_state=42)\n",
    "\n",
    "# processed_games = []\n",
    "\n",
    "# for index, row in tqdm(list(games_df.iterrows())):\n",
    "#     processed_games.append(process_game(row))"
   ]
  },
  {
   "cell_type": "code",
   "execution_count": 5,
   "id": "b28045bc",
   "metadata": {},
   "outputs": [],
   "source": [
    "with open(\"data/stockfish_moves.json\", \"r\") as f:\n",
    "    processed_games = json.load(f)\n"
   ]
  },
  {
   "cell_type": "code",
   "execution_count": 6,
   "id": "8fa23d3c",
   "metadata": {},
   "outputs": [
    {
     "name": "stdout",
     "output_type": "stream",
     "text": [
      "number of parameters: 28.17M\n"
     ]
    }
   ],
   "source": [
    "from training import load_models\n",
    "\n",
    "\n",
    "piece_count_checkpoint = \"./models/full_training/elo_piece_count_ignore_material_prediction/epoch=9-step=1250000.ckpt\"\n",
    "piece_count_model = load_models.piece_count_model(piece_count_checkpoint)"
   ]
  },
  {
   "cell_type": "code",
   "execution_count": 58,
   "id": "b79f9691",
   "metadata": {},
   "outputs": [],
   "source": [
    "import torch\n",
    "\n",
    "import chess\n",
    "\n",
    "from playing.utils import legal_moves_piece_uci\n",
    "\n",
    "\n",
    "def get_predictions_per_elo(game, model, elos = list(range(800, 2801, 100))):\n",
    "    \"\"\"\n",
    "    Get probabilities for each legal move for each elo rating.\n",
    "    \"\"\"\n",
    "    tokens = game[\"tokens\"]\n",
    "    \n",
    "    encoded = model.tokenizer.encode(tokens)\n",
    "    \n",
    "    batch = []\n",
    "    \n",
    "    \n",
    "    for elo in elos:\n",
    "        encoded_elo = model.tokenizer.encode_token(str(elo))\n",
    "        row = [encoded_elo, encoded_elo] + encoded\n",
    "        batch.append(row)\n",
    "    \n",
    "    batch = torch.tensor(batch, dtype=torch.int64)\n",
    "    \n",
    "    with torch.no_grad():\n",
    "        model.eval()\n",
    "        batch_lightning = (batch[:, :-1], batch[:, 1:])\n",
    "        logits, targets = model.logits_and_targets_for_masked_elo(batch_lightning)\n",
    "        outputs = logits.softmax(dim=-1)\n",
    "    \n",
    "\n",
    "\n",
    "    board = chess.Board()\n",
    "\n",
    "    results = []\n",
    "\n",
    "    for i_move, move in enumerate(game[\"game\"]):\n",
    "        legal_moves = legal_moves_piece_uci(board)\n",
    "        legal_moves_encoded = model.tokenizer.encode(legal_moves)\n",
    "        legal_moves_scores = outputs[:, i_move, legal_moves_encoded]\n",
    "\n",
    "        probabilities_per_elo = {elo: {} for elo in elos}\n",
    "\n",
    "        for j, legal_move in enumerate(legal_moves):\n",
    "            legal_move_probabilities = legal_moves_scores[:, j]\n",
    "\n",
    "            for i, elo in enumerate(elos):\n",
    "                probabilities_per_elo[elo][legal_move] = legal_move_probabilities[i].item()\n",
    "\n",
    "        for elo in probabilities_per_elo.keys():\n",
    "            probabilities_per_elo[elo] = dict(sorted(probabilities_per_elo[elo].items(), key=lambda item: item[1], reverse=True))\n",
    "\n",
    "        results.append({\n",
    "            \"history\": game[\"game\"][:i_move],\n",
    "            \"fen\": board.fen(),\n",
    "            \"played_move\": move,\n",
    "            \"stockfish_move\": game[\"stockfish_moves\"][i_move],\n",
    "            \"predictions_per_elo\": probabilities_per_elo,\n",
    "        })\n",
    "\n",
    "        board.push_uci(move[1:])\n",
    "\n",
    "\n",
    "    return results"
   ]
  },
  {
   "cell_type": "code",
   "execution_count": 61,
   "id": "a1b4fbe9",
   "metadata": {},
   "outputs": [
    {
     "name": "stderr",
     "output_type": "stream",
     "text": [
      "100%|██████████| 1000/1000 [23:30<00:00,  1.41s/it]\n"
     ]
    }
   ],
   "source": [
    "predictions = []\n",
    "\n",
    "for game in tqdm(processed_games):\n",
    "    game_predictions = get_predictions_per_elo(game, piece_count_model)\n",
    "    predictions.append({\n",
    "        \"game\": game[\"game\"],\n",
    "        \"tokens\": game[\"tokens\"],\n",
    "        \"white_elo\": game[\"white_elo\"],\n",
    "        \"black_elo\": game[\"black_elo\"],\n",
    "        \"predictions\": game_predictions\n",
    "    })\n",
    "\n",
    "with open(\"data/predictions_per_elo.json\", \"w\") as f:\n",
    "    json.dump(predictions, f, indent=2)\n"
   ]
  },
  {
   "cell_type": "code",
   "execution_count": null,
   "id": "24e19ff5",
   "metadata": {},
   "outputs": [],
   "source": [
    "predictions"
   ]
  }
 ],
 "metadata": {
  "kernelspec": {
   "display_name": "python",
   "language": "python",
   "name": "python3"
  },
  "language_info": {
   "codemirror_mode": {
    "name": "ipython",
    "version": 3
   },
   "file_extension": ".py",
   "mimetype": "text/x-python",
   "name": "python",
   "nbconvert_exporter": "python",
   "pygments_lexer": "ipython3",
   "version": "3.13.2"
  }
 },
 "nbformat": 4,
 "nbformat_minor": 5
}

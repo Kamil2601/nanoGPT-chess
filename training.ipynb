{
 "cells": [
  {
   "cell_type": "code",
   "execution_count": 1,
   "metadata": {},
   "outputs": [],
   "source": [
    "%reload_ext autoreload\n",
    "%autoreload 2"
   ]
  },
  {
   "cell_type": "code",
   "execution_count": 2,
   "metadata": {},
   "outputs": [],
   "source": [
    "import pandas as pd\n",
    "import sqlite3 as db\n",
    "import torch\n",
    "from torch.utils.data import Dataset, DataLoader\n",
    "import matplotlib.pyplot as plt\n",
    "from nanoGPT.model import GPT, GPTConfig\n",
    "from lightning_training import *\n",
    "\n",
    "from data_process.tokenizers import FullMoveTokenizer"
   ]
  },
  {
   "cell_type": "code",
   "execution_count": 3,
   "metadata": {},
   "outputs": [],
   "source": [
    "elite_database = db.connect(\"./data/lichess_elite_database.db\")"
   ]
  },
  {
   "cell_type": "code",
   "execution_count": 4,
   "metadata": {},
   "outputs": [],
   "source": [
    "games_df = pd.read_sql(\"SELECT * FROM games\", elite_database)"
   ]
  },
  {
   "cell_type": "code",
   "execution_count": 5,
   "metadata": {},
   "outputs": [
    {
     "data": {
      "text/html": [
       "<div>\n",
       "<style scoped>\n",
       "    .dataframe tbody tr th:only-of-type {\n",
       "        vertical-align: middle;\n",
       "    }\n",
       "\n",
       "    .dataframe tbody tr th {\n",
       "        vertical-align: top;\n",
       "    }\n",
       "\n",
       "    .dataframe thead th {\n",
       "        text-align: right;\n",
       "    }\n",
       "</style>\n",
       "<table border=\"1\" class=\"dataframe\">\n",
       "  <thead>\n",
       "    <tr style=\"text-align: right;\">\n",
       "      <th></th>\n",
       "      <th>pgn</th>\n",
       "      <th>piece_uci</th>\n",
       "    </tr>\n",
       "  </thead>\n",
       "  <tbody>\n",
       "    <tr>\n",
       "      <th>0</th>\n",
       "      <td>[Event \"Rated Blitz game\"]\\n[Date \"????.??.??\"...</td>\n",
       "      <td>Pe2e4 Pe7e5 Ng1f3 Nb8c6 Bf1c4 Bf8c5 Ke1g1 Pd7d...</td>\n",
       "    </tr>\n",
       "    <tr>\n",
       "      <th>1</th>\n",
       "      <td>[Event \"Rated Blitz game\"]\\n[Date \"????.??.??\"...</td>\n",
       "      <td>Pe2e4 Pd7d5 Nb1c3 Pd5e4 Nc3e4 Qd8d5 Qd1f3 Nb8c...</td>\n",
       "    </tr>\n",
       "    <tr>\n",
       "      <th>2</th>\n",
       "      <td>[Event \"Rated Blitz game\"]\\n[Date \"????.??.??\"...</td>\n",
       "      <td>Pe2e4 Pc7c5 Pc2c3 Ng8f6 Pe4e5 Nf6d5 Ng1f3 Nb8c...</td>\n",
       "    </tr>\n",
       "    <tr>\n",
       "      <th>3</th>\n",
       "      <td>[Event \"Rated Blitz game\"]\\n[Date \"????.??.??\"...</td>\n",
       "      <td>Pe2e4 Pd7d5 Pe4d5 Qd8d5 Nb1c3 Qd5a5 Pd2d4 Pc7c...</td>\n",
       "    </tr>\n",
       "    <tr>\n",
       "      <th>4</th>\n",
       "      <td>[Event \"Rated Blitz game\"]\\n[Date \"????.??.??\"...</td>\n",
       "      <td>Pc2c4 Pe7e6 Pg2g3 Pd7d5 Bf1g2 Ng8f6 Ng1f3 Bf8e...</td>\n",
       "    </tr>\n",
       "    <tr>\n",
       "      <th>...</th>\n",
       "      <td>...</td>\n",
       "      <td>...</td>\n",
       "    </tr>\n",
       "    <tr>\n",
       "      <th>3819125</th>\n",
       "      <td>[Event \"Rated Classical game\"]\\n[Date \"????.??...</td>\n",
       "      <td>Pe2e4 Pc7c5 Ng1f3 Pg7g6 Nb1c3 Bf8g7 Pd2d4 Pc5d...</td>\n",
       "    </tr>\n",
       "    <tr>\n",
       "      <th>3819126</th>\n",
       "      <td>[Event \"Rated Blitz game\"]\\n[Date \"????.??.??\"...</td>\n",
       "      <td>Pc2c4 Ng8f6 Nb1c3 Pg7g6 Pe2e4 Bf8g7 Pd2d4 Pd7d...</td>\n",
       "    </tr>\n",
       "    <tr>\n",
       "      <th>3819127</th>\n",
       "      <td>[Event \"Rated Blitz game\"]\\n[Date \"????.??.??\"...</td>\n",
       "      <td>Pd2d4 Ng8f6 Pc2c4 Pd7d6 Nb1c3 Pe7e5 Pe2e4 Nb8d...</td>\n",
       "    </tr>\n",
       "    <tr>\n",
       "      <th>3819128</th>\n",
       "      <td>[Event \"Rated Blitz game\"]\\n[Date \"????.??.??\"...</td>\n",
       "      <td>Pd2d4 Ng8f6 Ng1f3 Pd7d6 Pc2c4 Pg7g6 Nb1c3 Bf8g...</td>\n",
       "    </tr>\n",
       "    <tr>\n",
       "      <th>3819129</th>\n",
       "      <td>[Event \"Rated Blitz game\"]\\n[Date \"????.??.??\"...</td>\n",
       "      <td>Pe2e4 Pc7c6 Pd2d3 Pd7d5 Nb1d2 Pg7g6 Ng1f3 Bf8g...</td>\n",
       "    </tr>\n",
       "  </tbody>\n",
       "</table>\n",
       "<p>3819130 rows × 2 columns</p>\n",
       "</div>"
      ],
      "text/plain": [
       "                                                       pgn  \\\n",
       "0        [Event \"Rated Blitz game\"]\\n[Date \"????.??.??\"...   \n",
       "1        [Event \"Rated Blitz game\"]\\n[Date \"????.??.??\"...   \n",
       "2        [Event \"Rated Blitz game\"]\\n[Date \"????.??.??\"...   \n",
       "3        [Event \"Rated Blitz game\"]\\n[Date \"????.??.??\"...   \n",
       "4        [Event \"Rated Blitz game\"]\\n[Date \"????.??.??\"...   \n",
       "...                                                    ...   \n",
       "3819125  [Event \"Rated Classical game\"]\\n[Date \"????.??...   \n",
       "3819126  [Event \"Rated Blitz game\"]\\n[Date \"????.??.??\"...   \n",
       "3819127  [Event \"Rated Blitz game\"]\\n[Date \"????.??.??\"...   \n",
       "3819128  [Event \"Rated Blitz game\"]\\n[Date \"????.??.??\"...   \n",
       "3819129  [Event \"Rated Blitz game\"]\\n[Date \"????.??.??\"...   \n",
       "\n",
       "                                                 piece_uci  \n",
       "0        Pe2e4 Pe7e5 Ng1f3 Nb8c6 Bf1c4 Bf8c5 Ke1g1 Pd7d...  \n",
       "1        Pe2e4 Pd7d5 Nb1c3 Pd5e4 Nc3e4 Qd8d5 Qd1f3 Nb8c...  \n",
       "2        Pe2e4 Pc7c5 Pc2c3 Ng8f6 Pe4e5 Nf6d5 Ng1f3 Nb8c...  \n",
       "3        Pe2e4 Pd7d5 Pe4d5 Qd8d5 Nb1c3 Qd5a5 Pd2d4 Pc7c...  \n",
       "4        Pc2c4 Pe7e6 Pg2g3 Pd7d5 Bf1g2 Ng8f6 Ng1f3 Bf8e...  \n",
       "...                                                    ...  \n",
       "3819125  Pe2e4 Pc7c5 Ng1f3 Pg7g6 Nb1c3 Bf8g7 Pd2d4 Pc5d...  \n",
       "3819126  Pc2c4 Ng8f6 Nb1c3 Pg7g6 Pe2e4 Bf8g7 Pd2d4 Pd7d...  \n",
       "3819127  Pd2d4 Ng8f6 Pc2c4 Pd7d6 Nb1c3 Pe7e5 Pe2e4 Nb8d...  \n",
       "3819128  Pd2d4 Ng8f6 Ng1f3 Pd7d6 Pc2c4 Pg7g6 Nb1c3 Bf8g...  \n",
       "3819129  Pe2e4 Pc7c6 Pd2d3 Pd7d5 Nb1d2 Pg7g6 Ng1f3 Bf8g...  \n",
       "\n",
       "[3819130 rows x 2 columns]"
      ]
     },
     "execution_count": 5,
     "metadata": {},
     "output_type": "execute_result"
    }
   ],
   "source": [
    "games_df"
   ]
  },
  {
   "cell_type": "code",
   "execution_count": 6,
   "metadata": {},
   "outputs": [],
   "source": [
    "tokenizer = FullMoveTokenizer()"
   ]
  },
  {
   "cell_type": "code",
   "execution_count": 7,
   "metadata": {},
   "outputs": [],
   "source": [
    "games = list(games_df.piece_uci)"
   ]
  },
  {
   "cell_type": "code",
   "execution_count": 8,
   "metadata": {},
   "outputs": [],
   "source": [
    "lengths = [len(game.split()) for game in games]"
   ]
  },
  {
   "cell_type": "code",
   "execution_count": 9,
   "metadata": {},
   "outputs": [
    {
     "data": {
      "image/png": "[encoded data removed]",
      "text/plain": [
       "<Figure size 640x480 with 1 Axes>"
      ]
     },
     "metadata": {},
     "output_type": "display_data"
    }
   ],
   "source": [
    "plt.hist(lengths, bins=100)\n",
    "plt.show()"
   ]
  },
  {
   "cell_type": "code",
   "execution_count": 10,
   "metadata": {},
   "outputs": [],
   "source": [
    "data_module = GamesDataModule(games)"
   ]
  },
  {
   "cell_type": "code",
   "execution_count": 11,
   "metadata": {},
   "outputs": [
    {
     "name": "stdout",
     "output_type": "stream",
     "text": [
      "number of parameters: 3.41M\n"
     ]
    }
   ],
   "source": [
    "model_config = GPTConfig(\n",
    "    block_size=data_module.block_size,\n",
    "    vocab_size=len(tokenizer.vocab),\n",
    "    n_layer=3,\n",
    "    n_head=4,\n",
    "    n_embd=256,\n",
    "    bias=False,\n",
    ")\n",
    "\n",
    "pl_model = LightningGPT(model_config)"
   ]
  },
  {
   "cell_type": "code",
   "execution_count": 12,
   "metadata": {},
   "outputs": [],
   "source": [
    "data_module.num_workers = 14"
   ]
  },
  {
   "cell_type": "code",
   "execution_count": 13,
   "metadata": {},
   "outputs": [
    {
     "name": "stderr",
     "output_type": "stream",
     "text": [
      "GPU available: True (cuda), used: True\n",
      "TPU available: False, using: 0 TPU cores\n",
      "IPU available: False, using: 0 IPUs\n",
      "HPU available: False, using: 0 HPUs\n"
     ]
    }
   ],
   "source": [
    "tensorboard_logger = pl.loggers.TensorBoardLogger(save_dir=\"./lightning_logs\", name=f\"test_v2\")\n",
    "\n",
    "trainer = pl.Trainer(\n",
    "    accelerator=\"gpu\",\n",
    "    max_epochs=2,\n",
    "    callbacks=[pl.callbacks.RichProgressBar()],\n",
    "    logger=tensorboard_logger,\n",
    "    # default_root_dir=\n",
    "    # fast_dev_run=True\n",
    ")"
   ]
  },
  {
   "cell_type": "code",
   "execution_count": 14,
   "metadata": {},
   "outputs": [
    {
     "name": "stderr",
     "output_type": "stream",
     "text": [
      "2024-03-05 19:07:45.954573: E external/local_xla/xla/stream_executor/cuda/cuda_dnn.cc:9261] Unable to register cuDNN factory: Attempting to register factory for plugin cuDNN when one has already been registered\n",
      "2024-03-05 19:07:45.954630: E external/local_xla/xla/stream_executor/cuda/cuda_fft.cc:607] Unable to register cuFFT factory: Attempting to register factory for plugin cuFFT when one has already been registered\n",
      "2024-03-05 19:07:45.955731: E external/local_xla/xla/stream_executor/cuda/cuda_blas.cc:1515] Unable to register cuBLAS factory: Attempting to register factory for plugin cuBLAS when one has already been registered\n",
      "2024-03-05 19:07:45.961397: I tensorflow/core/platform/cpu_feature_guard.cc:182] This TensorFlow binary is optimized to use available CPU instructions in performance-critical operations.\n",
      "To enable the following instructions: AVX2 FMA, in other operations, rebuild TensorFlow with the appropriate compiler flags.\n",
      "2024-03-05 19:07:46.735550: W tensorflow/compiler/tf2tensorrt/utils/py_utils.cc:38] TF-TRT Warning: Could not find TensorRT\n",
      "LOCAL_RANK: 0 - CUDA_VISIBLE_DEVICES: [0]\n"
     ]
    },
    {
     "data": {
      "text/html": [
       "<pre style=\"white-space:pre;overflow-x:auto;line-height:normal;font-family:Menlo,'DejaVu Sans Mono',consolas,'Courier New',monospace\">┏━━━┳━━━━━━━┳━━━━━━┳━━━━━━━━┓\n",
       "┃<span style=\"color: #800080; text-decoration-color: #800080; font-weight: bold\">   </span>┃<span style=\"color: #800080; text-decoration-color: #800080; font-weight: bold\"> Name  </span>┃<span style=\"color: #800080; text-decoration-color: #800080; font-weight: bold\"> Type </span>┃<span style=\"color: #800080; text-decoration-color: #800080; font-weight: bold\"> Params </span>┃\n",
       "┡━━━╇━━━━━━━╇━━━━━━╇━━━━━━━━┩\n",
       "│<span style=\"color: #7f7f7f; text-decoration-color: #7f7f7f\"> 0 </span>│ model │ GPT  │  3.5 M │\n",
       "└───┴───────┴──────┴────────┘\n",
       "</pre>\n"
      ],
      "text/plain": [
       "┏━━━┳━━━━━━━┳━━━━━━┳━━━━━━━━┓\n",
       "┃\u001b[1;35m \u001b[0m\u001b[1;35m \u001b[0m\u001b[1;35m \u001b[0m┃\u001b[1;35m \u001b[0m\u001b[1;35mName \u001b[0m\u001b[1;35m \u001b[0m┃\u001b[1;35m \u001b[0m\u001b[1;35mType\u001b[0m\u001b[1;35m \u001b[0m┃\u001b[1;35m \u001b[0m\u001b[1;35mParams\u001b[0m\u001b[1;35m \u001b[0m┃\n",
       "┡━━━╇━━━━━━━╇━━━━━━╇━━━━━━━━┩\n",
       "│\u001b[2m \u001b[0m\u001b[2m0\u001b[0m\u001b[2m \u001b[0m│ model │ GPT  │  3.5 M │\n",
       "└───┴───────┴──────┴────────┘\n"
      ]
     },
     "metadata": {},
     "output_type": "display_data"
    },
    {
     "data": {
      "text/html": [
       "<pre style=\"white-space:pre;overflow-x:auto;line-height:normal;font-family:Menlo,'DejaVu Sans Mono',consolas,'Courier New',monospace\"><span style=\"font-weight: bold\">Trainable params</span>: 3.5 M                                                                                            \n",
       "<span style=\"font-weight: bold\">Non-trainable params</span>: 0                                                                                            \n",
       "<span style=\"font-weight: bold\">Total params</span>: 3.5 M                                                                                                \n",
       "<span style=\"font-weight: bold\">Total estimated model params size (MB)</span>: 13                                                                         \n",
       "</pre>\n"
      ],
      "text/plain": [
       "\u001b[1mTrainable params\u001b[0m: 3.5 M                                                                                            \n",
       "\u001b[1mNon-trainable params\u001b[0m: 0                                                                                            \n",
       "\u001b[1mTotal params\u001b[0m: 3.5 M                                                                                                \n",
       "\u001b[1mTotal estimated model params size (MB)\u001b[0m: 13                                                                         \n"
      ]
     },
     "metadata": {},
     "output_type": "display_data"
    },
    {
     "data": {
      "application/vnd.jupyter.widget-view+json": {
       "model_id": "935843d6e42d4cd2bd0ea0bbf7f7c0cd",
       "version_major": 2,
       "version_minor": 0
      },
      "text/plain": [
       "Output()"
      ]
     },
     "metadata": {},
     "output_type": "display_data"
    }
   ],
   "source": [
    "trainer.fit(\n",
    "    model=pl_model,\n",
    "    datamodule=data_module,\n",
    "    # ckpt_path=\"../../lightning_logs/sentimate/SentimateNet/version_0/checkpoints/epoch=49-step=536050.ckpt\"\n",
    "    # ckpt_path=\"../../lightning_logs/sentimate/tensorboard/SentimateNet/version_1/checkpoints/epoch=29-step=321630.ckpt\"\n",
    ")"
   ]
  },
  {
   "cell_type": "code",
   "execution_count": null,
   "metadata": {},
   "outputs": [],
   "source": [
    "pl_model.cpu()\n",
    "\n",
    "output = pl_model.model.generate(torch.tensor([[tokenizer.bos_token_id]], dtype=torch.long), max_new_tokens=30)"
   ]
  },
  {
   "cell_type": "code",
   "execution_count": null,
   "metadata": {},
   "outputs": [
    {
     "data": {
      "text/plain": [
       "tensor([[   1, 3361, 3670, 3685, 3898, 3343, 3886, 3699, 3302, 2815, 3319,  423,\n",
       "         2993, 3689, 3892, 3443,  425, 2796, 3882, 1884, 3593,  497, 3483, 1919,\n",
       "         3902, 3536, 3201, 2049, 1790, 2490, 3653]])"
      ]
     },
     "execution_count": 49,
     "metadata": {},
     "output_type": "execute_result"
    }
   ],
   "source": [
    "output"
   ]
  },
  {
   "cell_type": "code",
   "execution_count": null,
   "metadata": {},
   "outputs": [
    {
     "name": "stdout",
     "output_type": "stream",
     "text": [
      "Ng1f3 Ng8f6 Pc2c4 Pe7e6 Nb1c3 Pb7b6 Pg2g3 Bc8b7 Bf1g2 Bf8b4 Ke1g1 Bb4e7 Pd2d4 Pd7d5 Nf3e5 Ke8g8 Bc1e3 Pa7a6 Ra1c1 Nf6e4 Qd1c2 Ne4c3 Rc1c3 Pf7f6 Ne5g4 Bg6d3 Rd2d7 Qd8d7 Rd6a6 Nb8d7\n"
     ]
    }
   ],
   "source": [
    "print(tokenizer.decode(output[0].tolist()))"
   ]
  }
 ],
 "metadata": {
  "kernelspec": {
   "display_name": "python",
   "language": "python",
   "name": "python3"
  },
  "language_info": {
   "codemirror_mode": {
    "name": "ipython",
    "version": 3
   },
   "file_extension": ".py",
   "mimetype": "text/x-python",
   "name": "python",
   "nbconvert_exporter": "python",
   "pygments_lexer": "ipython3",
   "version": "3.11.5"
  }
 },
 "nbformat": 4,
 "nbformat_minor": 2
}
